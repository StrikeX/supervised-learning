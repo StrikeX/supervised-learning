{
 "cells": [
  {
   "cell_type": "markdown",
   "metadata": {
    "toc": true
   },
   "source": [
    "<h1>Содержание<span class=\"tocSkip\"></span></h1>\n",
    "<div class=\"toc\"><ul class=\"toc-item\"><li><span><a href=\"#Подготовка-данных\" data-toc-modified-id=\"Подготовка-данных-1\"><span class=\"toc-item-num\">1&nbsp;&nbsp;</span>Подготовка данных</a></span></li><li><span><a href=\"#Исследование-задачи\" data-toc-modified-id=\"Исследование-задачи-2\"><span class=\"toc-item-num\">2&nbsp;&nbsp;</span>Исследование задачи</a></span></li><li><span><a href=\"#Борьба-с-дисбалансом\" data-toc-modified-id=\"Борьба-с-дисбалансом-3\"><span class=\"toc-item-num\">3&nbsp;&nbsp;</span>Борьба с дисбалансом</a></span></li><li><span><a href=\"#Тестирование-модели\" data-toc-modified-id=\"Тестирование-модели-4\"><span class=\"toc-item-num\">4&nbsp;&nbsp;</span>Тестирование модели</a></span></li><li><span><a href=\"#Чек-лист-готовности-проекта\" data-toc-modified-id=\"Чек-лист-готовности-проекта-5\"><span class=\"toc-item-num\">5&nbsp;&nbsp;</span>Чек-лист готовности проекта</a></span></li></ul></div>"
   ]
  },
  {
   "cell_type": "markdown",
   "metadata": {},
   "source": [
    "# Отток клиентов"
   ]
  },
  {
   "cell_type": "markdown",
   "metadata": {},
   "source": [
    "Из «Бета-Банка» стали уходить клиенты. Каждый месяц. Немного, но заметно. Банковские маркетологи посчитали: сохранять текущих клиентов дешевле, чем привлекать новых.\n",
    "\n",
    "Нужно спрогнозировать, уйдёт клиент из банка в ближайшее время или нет. Вам предоставлены исторические данные о поведении клиентов и расторжении договоров с банком. \n",
    "\n",
    "Постройте модель с предельно большим значением *F1*-меры. Чтобы сдать проект успешно, нужно довести метрику до 0.59. Проверьте *F1*-меру на тестовой выборке самостоятельно.\n",
    "\n",
    "Дополнительно измеряйте *AUC-ROC*, сравнивайте её значение с *F1*-мерой.\n",
    "\n",
    "Источник данных: [https://www.kaggle.com/barelydedicated/bank-customer-churn-modeling](https://www.kaggle.com/barelydedicated/bank-customer-churn-modeling)"
   ]
  },
  {
   "cell_type": "code",
   "execution_count": 1,
   "metadata": {},
   "outputs": [],
   "source": [
    "import pandas as pd\n",
    "from sklearn.tree import DecisionTreeClassifier\n",
    "from sklearn.ensemble import RandomForestClassifier \n",
    "from sklearn.linear_model import LogisticRegression\n",
    "from sklearn.model_selection import train_test_split\n",
    "from sklearn.preprocessing import StandardScaler \n",
    "from sklearn.metrics import f1_score, recall_score, precision_score, roc_auc_score\n",
    "from sklearn.utils import shuffle\n",
    "from sklearn.dummy import DummyClassifier\n",
    "# это чтобы в диаграме служебные строки не лезли\n",
    "import matplotlib.pyplot as plt"
   ]
  },
  {
   "cell_type": "markdown",
   "metadata": {},
   "source": [
    "## Подготовка данных"
   ]
  },
  {
   "cell_type": "markdown",
   "metadata": {},
   "source": [
    "Сначала прочитаем данные и посмотрим на первые 10 записей"
   ]
  },
  {
   "cell_type": "code",
   "execution_count": 2,
   "metadata": {},
   "outputs": [
    {
     "data": {
      "text/html": [
       "<div>\n",
       "<style scoped>\n",
       "    .dataframe tbody tr th:only-of-type {\n",
       "        vertical-align: middle;\n",
       "    }\n",
       "\n",
       "    .dataframe tbody tr th {\n",
       "        vertical-align: top;\n",
       "    }\n",
       "\n",
       "    .dataframe thead th {\n",
       "        text-align: right;\n",
       "    }\n",
       "</style>\n",
       "<table border=\"1\" class=\"dataframe\">\n",
       "  <thead>\n",
       "    <tr style=\"text-align: right;\">\n",
       "      <th></th>\n",
       "      <th>RowNumber</th>\n",
       "      <th>CustomerId</th>\n",
       "      <th>Surname</th>\n",
       "      <th>CreditScore</th>\n",
       "      <th>Geography</th>\n",
       "      <th>Gender</th>\n",
       "      <th>Age</th>\n",
       "      <th>Tenure</th>\n",
       "      <th>Balance</th>\n",
       "      <th>NumOfProducts</th>\n",
       "      <th>HasCrCard</th>\n",
       "      <th>IsActiveMember</th>\n",
       "      <th>EstimatedSalary</th>\n",
       "      <th>Exited</th>\n",
       "    </tr>\n",
       "  </thead>\n",
       "  <tbody>\n",
       "    <tr>\n",
       "      <th>0</th>\n",
       "      <td>1</td>\n",
       "      <td>15634602</td>\n",
       "      <td>Hargrave</td>\n",
       "      <td>619</td>\n",
       "      <td>France</td>\n",
       "      <td>Female</td>\n",
       "      <td>42</td>\n",
       "      <td>2.0</td>\n",
       "      <td>0.00</td>\n",
       "      <td>1</td>\n",
       "      <td>1</td>\n",
       "      <td>1</td>\n",
       "      <td>101348.88</td>\n",
       "      <td>1</td>\n",
       "    </tr>\n",
       "    <tr>\n",
       "      <th>1</th>\n",
       "      <td>2</td>\n",
       "      <td>15647311</td>\n",
       "      <td>Hill</td>\n",
       "      <td>608</td>\n",
       "      <td>Spain</td>\n",
       "      <td>Female</td>\n",
       "      <td>41</td>\n",
       "      <td>1.0</td>\n",
       "      <td>83807.86</td>\n",
       "      <td>1</td>\n",
       "      <td>0</td>\n",
       "      <td>1</td>\n",
       "      <td>112542.58</td>\n",
       "      <td>0</td>\n",
       "    </tr>\n",
       "    <tr>\n",
       "      <th>2</th>\n",
       "      <td>3</td>\n",
       "      <td>15619304</td>\n",
       "      <td>Onio</td>\n",
       "      <td>502</td>\n",
       "      <td>France</td>\n",
       "      <td>Female</td>\n",
       "      <td>42</td>\n",
       "      <td>8.0</td>\n",
       "      <td>159660.80</td>\n",
       "      <td>3</td>\n",
       "      <td>1</td>\n",
       "      <td>0</td>\n",
       "      <td>113931.57</td>\n",
       "      <td>1</td>\n",
       "    </tr>\n",
       "    <tr>\n",
       "      <th>3</th>\n",
       "      <td>4</td>\n",
       "      <td>15701354</td>\n",
       "      <td>Boni</td>\n",
       "      <td>699</td>\n",
       "      <td>France</td>\n",
       "      <td>Female</td>\n",
       "      <td>39</td>\n",
       "      <td>1.0</td>\n",
       "      <td>0.00</td>\n",
       "      <td>2</td>\n",
       "      <td>0</td>\n",
       "      <td>0</td>\n",
       "      <td>93826.63</td>\n",
       "      <td>0</td>\n",
       "    </tr>\n",
       "    <tr>\n",
       "      <th>4</th>\n",
       "      <td>5</td>\n",
       "      <td>15737888</td>\n",
       "      <td>Mitchell</td>\n",
       "      <td>850</td>\n",
       "      <td>Spain</td>\n",
       "      <td>Female</td>\n",
       "      <td>43</td>\n",
       "      <td>2.0</td>\n",
       "      <td>125510.82</td>\n",
       "      <td>1</td>\n",
       "      <td>1</td>\n",
       "      <td>1</td>\n",
       "      <td>79084.10</td>\n",
       "      <td>0</td>\n",
       "    </tr>\n",
       "    <tr>\n",
       "      <th>5</th>\n",
       "      <td>6</td>\n",
       "      <td>15574012</td>\n",
       "      <td>Chu</td>\n",
       "      <td>645</td>\n",
       "      <td>Spain</td>\n",
       "      <td>Male</td>\n",
       "      <td>44</td>\n",
       "      <td>8.0</td>\n",
       "      <td>113755.78</td>\n",
       "      <td>2</td>\n",
       "      <td>1</td>\n",
       "      <td>0</td>\n",
       "      <td>149756.71</td>\n",
       "      <td>1</td>\n",
       "    </tr>\n",
       "    <tr>\n",
       "      <th>6</th>\n",
       "      <td>7</td>\n",
       "      <td>15592531</td>\n",
       "      <td>Bartlett</td>\n",
       "      <td>822</td>\n",
       "      <td>France</td>\n",
       "      <td>Male</td>\n",
       "      <td>50</td>\n",
       "      <td>7.0</td>\n",
       "      <td>0.00</td>\n",
       "      <td>2</td>\n",
       "      <td>1</td>\n",
       "      <td>1</td>\n",
       "      <td>10062.80</td>\n",
       "      <td>0</td>\n",
       "    </tr>\n",
       "    <tr>\n",
       "      <th>7</th>\n",
       "      <td>8</td>\n",
       "      <td>15656148</td>\n",
       "      <td>Obinna</td>\n",
       "      <td>376</td>\n",
       "      <td>Germany</td>\n",
       "      <td>Female</td>\n",
       "      <td>29</td>\n",
       "      <td>4.0</td>\n",
       "      <td>115046.74</td>\n",
       "      <td>4</td>\n",
       "      <td>1</td>\n",
       "      <td>0</td>\n",
       "      <td>119346.88</td>\n",
       "      <td>1</td>\n",
       "    </tr>\n",
       "    <tr>\n",
       "      <th>8</th>\n",
       "      <td>9</td>\n",
       "      <td>15792365</td>\n",
       "      <td>He</td>\n",
       "      <td>501</td>\n",
       "      <td>France</td>\n",
       "      <td>Male</td>\n",
       "      <td>44</td>\n",
       "      <td>4.0</td>\n",
       "      <td>142051.07</td>\n",
       "      <td>2</td>\n",
       "      <td>0</td>\n",
       "      <td>1</td>\n",
       "      <td>74940.50</td>\n",
       "      <td>0</td>\n",
       "    </tr>\n",
       "    <tr>\n",
       "      <th>9</th>\n",
       "      <td>10</td>\n",
       "      <td>15592389</td>\n",
       "      <td>H?</td>\n",
       "      <td>684</td>\n",
       "      <td>France</td>\n",
       "      <td>Male</td>\n",
       "      <td>27</td>\n",
       "      <td>2.0</td>\n",
       "      <td>134603.88</td>\n",
       "      <td>1</td>\n",
       "      <td>1</td>\n",
       "      <td>1</td>\n",
       "      <td>71725.73</td>\n",
       "      <td>0</td>\n",
       "    </tr>\n",
       "  </tbody>\n",
       "</table>\n",
       "</div>"
      ],
      "text/plain": [
       "   RowNumber  CustomerId   Surname  CreditScore Geography  Gender  Age  \\\n",
       "0          1    15634602  Hargrave          619    France  Female   42   \n",
       "1          2    15647311      Hill          608     Spain  Female   41   \n",
       "2          3    15619304      Onio          502    France  Female   42   \n",
       "3          4    15701354      Boni          699    France  Female   39   \n",
       "4          5    15737888  Mitchell          850     Spain  Female   43   \n",
       "5          6    15574012       Chu          645     Spain    Male   44   \n",
       "6          7    15592531  Bartlett          822    France    Male   50   \n",
       "7          8    15656148    Obinna          376   Germany  Female   29   \n",
       "8          9    15792365        He          501    France    Male   44   \n",
       "9         10    15592389        H?          684    France    Male   27   \n",
       "\n",
       "   Tenure    Balance  NumOfProducts  HasCrCard  IsActiveMember  \\\n",
       "0     2.0       0.00              1          1               1   \n",
       "1     1.0   83807.86              1          0               1   \n",
       "2     8.0  159660.80              3          1               0   \n",
       "3     1.0       0.00              2          0               0   \n",
       "4     2.0  125510.82              1          1               1   \n",
       "5     8.0  113755.78              2          1               0   \n",
       "6     7.0       0.00              2          1               1   \n",
       "7     4.0  115046.74              4          1               0   \n",
       "8     4.0  142051.07              2          0               1   \n",
       "9     2.0  134603.88              1          1               1   \n",
       "\n",
       "   EstimatedSalary  Exited  \n",
       "0        101348.88       1  \n",
       "1        112542.58       0  \n",
       "2        113931.57       1  \n",
       "3         93826.63       0  \n",
       "4         79084.10       0  \n",
       "5        149756.71       1  \n",
       "6         10062.80       0  \n",
       "7        119346.88       1  \n",
       "8         74940.50       0  \n",
       "9         71725.73       0  "
      ]
     },
     "execution_count": 2,
     "metadata": {},
     "output_type": "execute_result"
    }
   ],
   "source": [
    "data = pd.read_csv('/datasets/Churn.csv')\n",
    "data.head(10)"
   ]
  },
  {
   "cell_type": "code",
   "execution_count": 3,
   "metadata": {},
   "outputs": [
    {
     "name": "stdout",
     "output_type": "stream",
     "text": [
      "<class 'pandas.core.frame.DataFrame'>\n",
      "RangeIndex: 10000 entries, 0 to 9999\n",
      "Data columns (total 14 columns):\n",
      " #   Column           Non-Null Count  Dtype  \n",
      "---  ------           --------------  -----  \n",
      " 0   RowNumber        10000 non-null  int64  \n",
      " 1   CustomerId       10000 non-null  int64  \n",
      " 2   Surname          10000 non-null  object \n",
      " 3   CreditScore      10000 non-null  int64  \n",
      " 4   Geography        10000 non-null  object \n",
      " 5   Gender           10000 non-null  object \n",
      " 6   Age              10000 non-null  int64  \n",
      " 7   Tenure           9091 non-null   float64\n",
      " 8   Balance          10000 non-null  float64\n",
      " 9   NumOfProducts    10000 non-null  int64  \n",
      " 10  HasCrCard        10000 non-null  int64  \n",
      " 11  IsActiveMember   10000 non-null  int64  \n",
      " 12  EstimatedSalary  10000 non-null  float64\n",
      " 13  Exited           10000 non-null  int64  \n",
      "dtypes: float64(3), int64(8), object(3)\n",
      "memory usage: 1.1+ MB\n"
     ]
    }
   ],
   "source": [
    "data.info()"
   ]
  },
  {
   "cell_type": "markdown",
   "metadata": {},
   "source": [
    "Видно, что в колонке Tenure меньше Non-Null значений, чем в других колонках. Проверим все колонки на null-значения."
   ]
  },
  {
   "cell_type": "code",
   "execution_count": 4,
   "metadata": {},
   "outputs": [
    {
     "data": {
      "text/plain": [
       "RowNumber            0\n",
       "CustomerId           0\n",
       "Surname              0\n",
       "CreditScore          0\n",
       "Geography            0\n",
       "Gender               0\n",
       "Age                  0\n",
       "Tenure             909\n",
       "Balance              0\n",
       "NumOfProducts        0\n",
       "HasCrCard            0\n",
       "IsActiveMember       0\n",
       "EstimatedSalary      0\n",
       "Exited               0\n",
       "dtype: int64"
      ]
     },
     "execution_count": 4,
     "metadata": {},
     "output_type": "execute_result"
    }
   ],
   "source": [
    "data.isnull().sum()"
   ]
  },
  {
   "cell_type": "markdown",
   "metadata": {},
   "source": [
    "Tenure - количество лет, которое пользователь является клиентом банка.\n",
    "\n",
    "Т.к. данных у нас мало, то удалять мы их не будем.\n",
    "\n",
    "Заменим null значение на медиану, чтобы не изменять структуру распределения признака."
   ]
  },
  {
   "cell_type": "code",
   "execution_count": 5,
   "metadata": {},
   "outputs": [
    {
     "name": "stdout",
     "output_type": "stream",
     "text": [
      "Медианное значение срока клиентских отношений: 5.0\n"
     ]
    }
   ],
   "source": [
    "median_tenure = data['Tenure'].median()\n",
    "data['Tenure'] = data['Tenure'].fillna(median_tenure)\n",
    "print('Медианное значение срока клиентских отношений:', median_tenure)"
   ]
  },
  {
   "cell_type": "markdown",
   "metadata": {},
   "source": [
    "Колонки 'RowNumber', 'CustomerId', 'Surname' не являются признаками для предсказания, т.к. в каждой строчке номер будет уникальный.\n",
    "Surname (Фамилия) теоретически может повторятся, но оно не должно влиять на принятие решения.\n",
    "Удалим эти колонки из датасета для обучения."
   ]
  },
  {
   "cell_type": "code",
   "execution_count": 6,
   "metadata": {},
   "outputs": [
    {
     "data": {
      "text/html": [
       "<div>\n",
       "<style scoped>\n",
       "    .dataframe tbody tr th:only-of-type {\n",
       "        vertical-align: middle;\n",
       "    }\n",
       "\n",
       "    .dataframe tbody tr th {\n",
       "        vertical-align: top;\n",
       "    }\n",
       "\n",
       "    .dataframe thead th {\n",
       "        text-align: right;\n",
       "    }\n",
       "</style>\n",
       "<table border=\"1\" class=\"dataframe\">\n",
       "  <thead>\n",
       "    <tr style=\"text-align: right;\">\n",
       "      <th></th>\n",
       "      <th>CreditScore</th>\n",
       "      <th>Geography</th>\n",
       "      <th>Gender</th>\n",
       "      <th>Age</th>\n",
       "      <th>Tenure</th>\n",
       "      <th>Balance</th>\n",
       "      <th>NumOfProducts</th>\n",
       "      <th>HasCrCard</th>\n",
       "      <th>IsActiveMember</th>\n",
       "      <th>EstimatedSalary</th>\n",
       "      <th>Exited</th>\n",
       "    </tr>\n",
       "  </thead>\n",
       "  <tbody>\n",
       "    <tr>\n",
       "      <th>0</th>\n",
       "      <td>619</td>\n",
       "      <td>France</td>\n",
       "      <td>Female</td>\n",
       "      <td>42</td>\n",
       "      <td>2.0</td>\n",
       "      <td>0.00</td>\n",
       "      <td>1</td>\n",
       "      <td>1</td>\n",
       "      <td>1</td>\n",
       "      <td>101348.88</td>\n",
       "      <td>1</td>\n",
       "    </tr>\n",
       "    <tr>\n",
       "      <th>1</th>\n",
       "      <td>608</td>\n",
       "      <td>Spain</td>\n",
       "      <td>Female</td>\n",
       "      <td>41</td>\n",
       "      <td>1.0</td>\n",
       "      <td>83807.86</td>\n",
       "      <td>1</td>\n",
       "      <td>0</td>\n",
       "      <td>1</td>\n",
       "      <td>112542.58</td>\n",
       "      <td>0</td>\n",
       "    </tr>\n",
       "    <tr>\n",
       "      <th>2</th>\n",
       "      <td>502</td>\n",
       "      <td>France</td>\n",
       "      <td>Female</td>\n",
       "      <td>42</td>\n",
       "      <td>8.0</td>\n",
       "      <td>159660.80</td>\n",
       "      <td>3</td>\n",
       "      <td>1</td>\n",
       "      <td>0</td>\n",
       "      <td>113931.57</td>\n",
       "      <td>1</td>\n",
       "    </tr>\n",
       "    <tr>\n",
       "      <th>3</th>\n",
       "      <td>699</td>\n",
       "      <td>France</td>\n",
       "      <td>Female</td>\n",
       "      <td>39</td>\n",
       "      <td>1.0</td>\n",
       "      <td>0.00</td>\n",
       "      <td>2</td>\n",
       "      <td>0</td>\n",
       "      <td>0</td>\n",
       "      <td>93826.63</td>\n",
       "      <td>0</td>\n",
       "    </tr>\n",
       "    <tr>\n",
       "      <th>4</th>\n",
       "      <td>850</td>\n",
       "      <td>Spain</td>\n",
       "      <td>Female</td>\n",
       "      <td>43</td>\n",
       "      <td>2.0</td>\n",
       "      <td>125510.82</td>\n",
       "      <td>1</td>\n",
       "      <td>1</td>\n",
       "      <td>1</td>\n",
       "      <td>79084.10</td>\n",
       "      <td>0</td>\n",
       "    </tr>\n",
       "  </tbody>\n",
       "</table>\n",
       "</div>"
      ],
      "text/plain": [
       "   CreditScore Geography  Gender  Age  Tenure    Balance  NumOfProducts  \\\n",
       "0          619    France  Female   42     2.0       0.00              1   \n",
       "1          608     Spain  Female   41     1.0   83807.86              1   \n",
       "2          502    France  Female   42     8.0  159660.80              3   \n",
       "3          699    France  Female   39     1.0       0.00              2   \n",
       "4          850     Spain  Female   43     2.0  125510.82              1   \n",
       "\n",
       "   HasCrCard  IsActiveMember  EstimatedSalary  Exited  \n",
       "0          1               1        101348.88       1  \n",
       "1          0               1        112542.58       0  \n",
       "2          1               0        113931.57       1  \n",
       "3          0               0         93826.63       0  \n",
       "4          1               1         79084.10       0  "
      ]
     },
     "execution_count": 6,
     "metadata": {},
     "output_type": "execute_result"
    }
   ],
   "source": [
    "data = data.drop(['RowNumber', 'CustomerId', 'Surname'], axis=1)\n",
    "data.head(5)"
   ]
  },
  {
   "cell_type": "markdown",
   "metadata": {},
   "source": [
    "Преобразуем категориальные признаки в численные методом прямого кодирования."
   ]
  },
  {
   "cell_type": "code",
   "execution_count": 7,
   "metadata": {},
   "outputs": [
    {
     "name": "stdout",
     "output_type": "stream",
     "text": [
      "<class 'pandas.core.frame.DataFrame'>\n",
      "RangeIndex: 10000 entries, 0 to 9999\n",
      "Data columns (total 12 columns):\n",
      " #   Column             Non-Null Count  Dtype  \n",
      "---  ------             --------------  -----  \n",
      " 0   CreditScore        10000 non-null  int64  \n",
      " 1   Age                10000 non-null  int64  \n",
      " 2   Tenure             10000 non-null  float64\n",
      " 3   Balance            10000 non-null  float64\n",
      " 4   NumOfProducts      10000 non-null  int64  \n",
      " 5   HasCrCard          10000 non-null  int64  \n",
      " 6   IsActiveMember     10000 non-null  int64  \n",
      " 7   EstimatedSalary    10000 non-null  float64\n",
      " 8   Exited             10000 non-null  int64  \n",
      " 9   Geography_Germany  10000 non-null  uint8  \n",
      " 10  Geography_Spain    10000 non-null  uint8  \n",
      " 11  Gender_Male        10000 non-null  uint8  \n",
      "dtypes: float64(3), int64(6), uint8(3)\n",
      "memory usage: 732.5 KB\n"
     ]
    }
   ],
   "source": [
    "data_ohe = pd.get_dummies(data, drop_first=True)\n",
    "data_ohe.info()"
   ]
  },
  {
   "cell_type": "code",
   "execution_count": 8,
   "metadata": {},
   "outputs": [
    {
     "data": {
      "text/html": [
       "<div>\n",
       "<style scoped>\n",
       "    .dataframe tbody tr th:only-of-type {\n",
       "        vertical-align: middle;\n",
       "    }\n",
       "\n",
       "    .dataframe tbody tr th {\n",
       "        vertical-align: top;\n",
       "    }\n",
       "\n",
       "    .dataframe thead th {\n",
       "        text-align: right;\n",
       "    }\n",
       "</style>\n",
       "<table border=\"1\" class=\"dataframe\">\n",
       "  <thead>\n",
       "    <tr style=\"text-align: right;\">\n",
       "      <th></th>\n",
       "      <th>CreditScore</th>\n",
       "      <th>Age</th>\n",
       "      <th>Tenure</th>\n",
       "      <th>Balance</th>\n",
       "      <th>NumOfProducts</th>\n",
       "      <th>HasCrCard</th>\n",
       "      <th>IsActiveMember</th>\n",
       "      <th>EstimatedSalary</th>\n",
       "      <th>Exited</th>\n",
       "      <th>Geography_Germany</th>\n",
       "      <th>Geography_Spain</th>\n",
       "      <th>Gender_Male</th>\n",
       "    </tr>\n",
       "  </thead>\n",
       "  <tbody>\n",
       "    <tr>\n",
       "      <th>0</th>\n",
       "      <td>619</td>\n",
       "      <td>42</td>\n",
       "      <td>2.0</td>\n",
       "      <td>0.00</td>\n",
       "      <td>1</td>\n",
       "      <td>1</td>\n",
       "      <td>1</td>\n",
       "      <td>101348.88</td>\n",
       "      <td>1</td>\n",
       "      <td>0</td>\n",
       "      <td>0</td>\n",
       "      <td>0</td>\n",
       "    </tr>\n",
       "    <tr>\n",
       "      <th>1</th>\n",
       "      <td>608</td>\n",
       "      <td>41</td>\n",
       "      <td>1.0</td>\n",
       "      <td>83807.86</td>\n",
       "      <td>1</td>\n",
       "      <td>0</td>\n",
       "      <td>1</td>\n",
       "      <td>112542.58</td>\n",
       "      <td>0</td>\n",
       "      <td>0</td>\n",
       "      <td>1</td>\n",
       "      <td>0</td>\n",
       "    </tr>\n",
       "    <tr>\n",
       "      <th>2</th>\n",
       "      <td>502</td>\n",
       "      <td>42</td>\n",
       "      <td>8.0</td>\n",
       "      <td>159660.80</td>\n",
       "      <td>3</td>\n",
       "      <td>1</td>\n",
       "      <td>0</td>\n",
       "      <td>113931.57</td>\n",
       "      <td>1</td>\n",
       "      <td>0</td>\n",
       "      <td>0</td>\n",
       "      <td>0</td>\n",
       "    </tr>\n",
       "    <tr>\n",
       "      <th>3</th>\n",
       "      <td>699</td>\n",
       "      <td>39</td>\n",
       "      <td>1.0</td>\n",
       "      <td>0.00</td>\n",
       "      <td>2</td>\n",
       "      <td>0</td>\n",
       "      <td>0</td>\n",
       "      <td>93826.63</td>\n",
       "      <td>0</td>\n",
       "      <td>0</td>\n",
       "      <td>0</td>\n",
       "      <td>0</td>\n",
       "    </tr>\n",
       "    <tr>\n",
       "      <th>4</th>\n",
       "      <td>850</td>\n",
       "      <td>43</td>\n",
       "      <td>2.0</td>\n",
       "      <td>125510.82</td>\n",
       "      <td>1</td>\n",
       "      <td>1</td>\n",
       "      <td>1</td>\n",
       "      <td>79084.10</td>\n",
       "      <td>0</td>\n",
       "      <td>0</td>\n",
       "      <td>1</td>\n",
       "      <td>0</td>\n",
       "    </tr>\n",
       "    <tr>\n",
       "      <th>5</th>\n",
       "      <td>645</td>\n",
       "      <td>44</td>\n",
       "      <td>8.0</td>\n",
       "      <td>113755.78</td>\n",
       "      <td>2</td>\n",
       "      <td>1</td>\n",
       "      <td>0</td>\n",
       "      <td>149756.71</td>\n",
       "      <td>1</td>\n",
       "      <td>0</td>\n",
       "      <td>1</td>\n",
       "      <td>1</td>\n",
       "    </tr>\n",
       "    <tr>\n",
       "      <th>6</th>\n",
       "      <td>822</td>\n",
       "      <td>50</td>\n",
       "      <td>7.0</td>\n",
       "      <td>0.00</td>\n",
       "      <td>2</td>\n",
       "      <td>1</td>\n",
       "      <td>1</td>\n",
       "      <td>10062.80</td>\n",
       "      <td>0</td>\n",
       "      <td>0</td>\n",
       "      <td>0</td>\n",
       "      <td>1</td>\n",
       "    </tr>\n",
       "    <tr>\n",
       "      <th>7</th>\n",
       "      <td>376</td>\n",
       "      <td>29</td>\n",
       "      <td>4.0</td>\n",
       "      <td>115046.74</td>\n",
       "      <td>4</td>\n",
       "      <td>1</td>\n",
       "      <td>0</td>\n",
       "      <td>119346.88</td>\n",
       "      <td>1</td>\n",
       "      <td>1</td>\n",
       "      <td>0</td>\n",
       "      <td>0</td>\n",
       "    </tr>\n",
       "    <tr>\n",
       "      <th>8</th>\n",
       "      <td>501</td>\n",
       "      <td>44</td>\n",
       "      <td>4.0</td>\n",
       "      <td>142051.07</td>\n",
       "      <td>2</td>\n",
       "      <td>0</td>\n",
       "      <td>1</td>\n",
       "      <td>74940.50</td>\n",
       "      <td>0</td>\n",
       "      <td>0</td>\n",
       "      <td>0</td>\n",
       "      <td>1</td>\n",
       "    </tr>\n",
       "    <tr>\n",
       "      <th>9</th>\n",
       "      <td>684</td>\n",
       "      <td>27</td>\n",
       "      <td>2.0</td>\n",
       "      <td>134603.88</td>\n",
       "      <td>1</td>\n",
       "      <td>1</td>\n",
       "      <td>1</td>\n",
       "      <td>71725.73</td>\n",
       "      <td>0</td>\n",
       "      <td>0</td>\n",
       "      <td>0</td>\n",
       "      <td>1</td>\n",
       "    </tr>\n",
       "  </tbody>\n",
       "</table>\n",
       "</div>"
      ],
      "text/plain": [
       "   CreditScore  Age  Tenure    Balance  NumOfProducts  HasCrCard  \\\n",
       "0          619   42     2.0       0.00              1          1   \n",
       "1          608   41     1.0   83807.86              1          0   \n",
       "2          502   42     8.0  159660.80              3          1   \n",
       "3          699   39     1.0       0.00              2          0   \n",
       "4          850   43     2.0  125510.82              1          1   \n",
       "5          645   44     8.0  113755.78              2          1   \n",
       "6          822   50     7.0       0.00              2          1   \n",
       "7          376   29     4.0  115046.74              4          1   \n",
       "8          501   44     4.0  142051.07              2          0   \n",
       "9          684   27     2.0  134603.88              1          1   \n",
       "\n",
       "   IsActiveMember  EstimatedSalary  Exited  Geography_Germany  \\\n",
       "0               1        101348.88       1                  0   \n",
       "1               1        112542.58       0                  0   \n",
       "2               0        113931.57       1                  0   \n",
       "3               0         93826.63       0                  0   \n",
       "4               1         79084.10       0                  0   \n",
       "5               0        149756.71       1                  0   \n",
       "6               1         10062.80       0                  0   \n",
       "7               0        119346.88       1                  1   \n",
       "8               1         74940.50       0                  0   \n",
       "9               1         71725.73       0                  0   \n",
       "\n",
       "   Geography_Spain  Gender_Male  \n",
       "0                0            0  \n",
       "1                1            0  \n",
       "2                0            0  \n",
       "3                0            0  \n",
       "4                1            0  \n",
       "5                1            1  \n",
       "6                0            1  \n",
       "7                0            0  \n",
       "8                0            1  \n",
       "9                0            1  "
      ]
     },
     "execution_count": 8,
     "metadata": {},
     "output_type": "execute_result"
    }
   ],
   "source": [
    "data_ohe.head(10)"
   ]
  },
  {
   "cell_type": "markdown",
   "metadata": {},
   "source": [
    "Выделим из исходного набора данных признаки для обучения и целевой признак в переменные features и target соответтсвенно.\n",
    "Разделим наборы данных на выборки для обучения, валидации и тестирования."
   ]
  },
  {
   "cell_type": "code",
   "execution_count": 9,
   "metadata": {},
   "outputs": [],
   "source": [
    "target = data_ohe['Exited']\n",
    "features = data_ohe.drop('Exited', axis=1)\n",
    "\n",
    "#отделим 60% данных для обучающей выборки\n",
    "features_train, features_valid_and_test, target_train, target_valid_and_test = train_test_split(\n",
    "    features, target, train_size=0.6, random_state=12345)\n",
    "\n",
    "#разделим валидационную и тестовую выборку пополам\n",
    "features_test, features_valid, target_test, target_valid = train_test_split(\n",
    "    features_valid_and_test, target_valid_and_test, train_size=0.5, random_state=12345)"
   ]
  },
  {
   "cell_type": "code",
   "execution_count": 10,
   "metadata": {},
   "outputs": [
    {
     "name": "stdout",
     "output_type": "stream",
     "text": [
      "Тренировочная: (6000, 11)\n",
      "Валидационная: (2000, 11)\n",
      "Тестовая: (2000, 11)\n"
     ]
    }
   ],
   "source": [
    "print('Тренировочная:', features_train.shape)\n",
    "print('Валидационная:', features_valid.shape)\n",
    "print('Тестовая:', features_test.shape)"
   ]
  },
  {
   "cell_type": "markdown",
   "metadata": {},
   "source": [
    "Выборки разбиты верно."
   ]
  },
  {
   "cell_type": "markdown",
   "metadata": {},
   "source": [
    "По данным было видно, что у числовых признаков разный масштаб. Поэтому их нужно масштабировать."
   ]
  },
  {
   "cell_type": "code",
   "execution_count": 11,
   "metadata": {},
   "outputs": [
    {
     "data": {
      "text/html": [
       "<div>\n",
       "<style scoped>\n",
       "    .dataframe tbody tr th:only-of-type {\n",
       "        vertical-align: middle;\n",
       "    }\n",
       "\n",
       "    .dataframe tbody tr th {\n",
       "        vertical-align: top;\n",
       "    }\n",
       "\n",
       "    .dataframe thead th {\n",
       "        text-align: right;\n",
       "    }\n",
       "</style>\n",
       "<table border=\"1\" class=\"dataframe\">\n",
       "  <thead>\n",
       "    <tr style=\"text-align: right;\">\n",
       "      <th></th>\n",
       "      <th>CreditScore</th>\n",
       "      <th>Age</th>\n",
       "      <th>Tenure</th>\n",
       "      <th>Balance</th>\n",
       "      <th>NumOfProducts</th>\n",
       "      <th>HasCrCard</th>\n",
       "      <th>IsActiveMember</th>\n",
       "      <th>EstimatedSalary</th>\n",
       "      <th>Geography_Germany</th>\n",
       "      <th>Geography_Spain</th>\n",
       "      <th>Gender_Male</th>\n",
       "    </tr>\n",
       "  </thead>\n",
       "  <tbody>\n",
       "    <tr>\n",
       "      <th>7479</th>\n",
       "      <td>-0.886751</td>\n",
       "      <td>-0.373192</td>\n",
       "      <td>1.082277</td>\n",
       "      <td>1.232271</td>\n",
       "      <td>-0.891560</td>\n",
       "      <td>1</td>\n",
       "      <td>0</td>\n",
       "      <td>-0.187705</td>\n",
       "      <td>0</td>\n",
       "      <td>1</td>\n",
       "      <td>1</td>\n",
       "    </tr>\n",
       "    <tr>\n",
       "      <th>3411</th>\n",
       "      <td>0.608663</td>\n",
       "      <td>-0.183385</td>\n",
       "      <td>1.082277</td>\n",
       "      <td>0.600563</td>\n",
       "      <td>-0.891560</td>\n",
       "      <td>0</td>\n",
       "      <td>0</td>\n",
       "      <td>-0.333945</td>\n",
       "      <td>0</td>\n",
       "      <td>0</td>\n",
       "      <td>0</td>\n",
       "    </tr>\n",
       "    <tr>\n",
       "      <th>6027</th>\n",
       "      <td>2.052152</td>\n",
       "      <td>0.480939</td>\n",
       "      <td>-0.737696</td>\n",
       "      <td>1.027098</td>\n",
       "      <td>0.830152</td>\n",
       "      <td>0</td>\n",
       "      <td>1</td>\n",
       "      <td>1.503095</td>\n",
       "      <td>1</td>\n",
       "      <td>0</td>\n",
       "      <td>1</td>\n",
       "    </tr>\n",
       "    <tr>\n",
       "      <th>1247</th>\n",
       "      <td>-1.457915</td>\n",
       "      <td>-1.417129</td>\n",
       "      <td>0.354288</td>\n",
       "      <td>-1.233163</td>\n",
       "      <td>0.830152</td>\n",
       "      <td>1</td>\n",
       "      <td>0</td>\n",
       "      <td>-1.071061</td>\n",
       "      <td>0</td>\n",
       "      <td>0</td>\n",
       "      <td>1</td>\n",
       "    </tr>\n",
       "    <tr>\n",
       "      <th>3716</th>\n",
       "      <td>0.130961</td>\n",
       "      <td>-1.132419</td>\n",
       "      <td>-1.101690</td>\n",
       "      <td>1.140475</td>\n",
       "      <td>-0.891560</td>\n",
       "      <td>0</td>\n",
       "      <td>0</td>\n",
       "      <td>1.524268</td>\n",
       "      <td>1</td>\n",
       "      <td>0</td>\n",
       "      <td>0</td>\n",
       "    </tr>\n",
       "    <tr>\n",
       "      <th>8741</th>\n",
       "      <td>-0.315586</td>\n",
       "      <td>-1.512032</td>\n",
       "      <td>1.082277</td>\n",
       "      <td>-1.233163</td>\n",
       "      <td>0.830152</td>\n",
       "      <td>1</td>\n",
       "      <td>1</td>\n",
       "      <td>0.552345</td>\n",
       "      <td>0</td>\n",
       "      <td>1</td>\n",
       "      <td>0</td>\n",
       "    </tr>\n",
       "    <tr>\n",
       "      <th>7461</th>\n",
       "      <td>-0.585591</td>\n",
       "      <td>-0.657902</td>\n",
       "      <td>-0.373701</td>\n",
       "      <td>-1.233163</td>\n",
       "      <td>0.830152</td>\n",
       "      <td>0</td>\n",
       "      <td>1</td>\n",
       "      <td>0.814122</td>\n",
       "      <td>0</td>\n",
       "      <td>1</td>\n",
       "      <td>1</td>\n",
       "    </tr>\n",
       "    <tr>\n",
       "      <th>5106</th>\n",
       "      <td>-0.544052</td>\n",
       "      <td>-0.657902</td>\n",
       "      <td>-1.465685</td>\n",
       "      <td>0.031212</td>\n",
       "      <td>-0.891560</td>\n",
       "      <td>1</td>\n",
       "      <td>0</td>\n",
       "      <td>-0.608723</td>\n",
       "      <td>0</td>\n",
       "      <td>0</td>\n",
       "      <td>0</td>\n",
       "    </tr>\n",
       "    <tr>\n",
       "      <th>6130</th>\n",
       "      <td>-0.211738</td>\n",
       "      <td>-0.373192</td>\n",
       "      <td>-1.101690</td>\n",
       "      <td>1.190787</td>\n",
       "      <td>0.830152</td>\n",
       "      <td>0</td>\n",
       "      <td>0</td>\n",
       "      <td>-0.602263</td>\n",
       "      <td>1</td>\n",
       "      <td>0</td>\n",
       "      <td>0</td>\n",
       "    </tr>\n",
       "    <tr>\n",
       "      <th>4955</th>\n",
       "      <td>1.273291</td>\n",
       "      <td>-0.562998</td>\n",
       "      <td>-0.009707</td>\n",
       "      <td>0.111168</td>\n",
       "      <td>0.830152</td>\n",
       "      <td>1</td>\n",
       "      <td>0</td>\n",
       "      <td>0.508214</td>\n",
       "      <td>1</td>\n",
       "      <td>0</td>\n",
       "      <td>1</td>\n",
       "    </tr>\n",
       "  </tbody>\n",
       "</table>\n",
       "</div>"
      ],
      "text/plain": [
       "      CreditScore       Age    Tenure   Balance  NumOfProducts  HasCrCard  \\\n",
       "7479    -0.886751 -0.373192  1.082277  1.232271      -0.891560          1   \n",
       "3411     0.608663 -0.183385  1.082277  0.600563      -0.891560          0   \n",
       "6027     2.052152  0.480939 -0.737696  1.027098       0.830152          0   \n",
       "1247    -1.457915 -1.417129  0.354288 -1.233163       0.830152          1   \n",
       "3716     0.130961 -1.132419 -1.101690  1.140475      -0.891560          0   \n",
       "8741    -0.315586 -1.512032  1.082277 -1.233163       0.830152          1   \n",
       "7461    -0.585591 -0.657902 -0.373701 -1.233163       0.830152          0   \n",
       "5106    -0.544052 -0.657902 -1.465685  0.031212      -0.891560          1   \n",
       "6130    -0.211738 -0.373192 -1.101690  1.190787       0.830152          0   \n",
       "4955     1.273291 -0.562998 -0.009707  0.111168       0.830152          1   \n",
       "\n",
       "      IsActiveMember  EstimatedSalary  Geography_Germany  Geography_Spain  \\\n",
       "7479               0        -0.187705                  0                1   \n",
       "3411               0        -0.333945                  0                0   \n",
       "6027               1         1.503095                  1                0   \n",
       "1247               0        -1.071061                  0                0   \n",
       "3716               0         1.524268                  1                0   \n",
       "8741               1         0.552345                  0                1   \n",
       "7461               1         0.814122                  0                1   \n",
       "5106               0        -0.608723                  0                0   \n",
       "6130               0        -0.602263                  1                0   \n",
       "4955               0         0.508214                  1                0   \n",
       "\n",
       "      Gender_Male  \n",
       "7479            1  \n",
       "3411            0  \n",
       "6027            1  \n",
       "1247            1  \n",
       "3716            0  \n",
       "8741            0  \n",
       "7461            1  \n",
       "5106            0  \n",
       "6130            0  \n",
       "4955            1  "
      ]
     },
     "execution_count": 11,
     "metadata": {},
     "output_type": "execute_result"
    }
   ],
   "source": [
    "pd.options.mode.chained_assignment = None #чтобы выключить предупреждение\n",
    "scaler = StandardScaler()\n",
    "numeric = ['CreditScore', 'Age', 'Tenure', 'Balance', 'NumOfProducts', 'EstimatedSalary']\n",
    "scaler.fit(features_train[numeric]) \n",
    "features_train[numeric] = scaler.transform(features_train[numeric])\n",
    "features_valid[numeric] = scaler.transform(features_valid[numeric])\n",
    "features_test[numeric] = scaler.transform(features_test[numeric])\n",
    "\n",
    "features_train.head(10)"
   ]
  },
  {
   "cell_type": "code",
   "execution_count": 12,
   "metadata": {},
   "outputs": [
    {
     "data": {
      "text/html": [
       "<div>\n",
       "<style scoped>\n",
       "    .dataframe tbody tr th:only-of-type {\n",
       "        vertical-align: middle;\n",
       "    }\n",
       "\n",
       "    .dataframe tbody tr th {\n",
       "        vertical-align: top;\n",
       "    }\n",
       "\n",
       "    .dataframe thead th {\n",
       "        text-align: right;\n",
       "    }\n",
       "</style>\n",
       "<table border=\"1\" class=\"dataframe\">\n",
       "  <thead>\n",
       "    <tr style=\"text-align: right;\">\n",
       "      <th></th>\n",
       "      <th>CreditScore</th>\n",
       "      <th>Age</th>\n",
       "      <th>Tenure</th>\n",
       "      <th>Balance</th>\n",
       "      <th>NumOfProducts</th>\n",
       "      <th>HasCrCard</th>\n",
       "      <th>IsActiveMember</th>\n",
       "      <th>EstimatedSalary</th>\n",
       "      <th>Geography_Germany</th>\n",
       "      <th>Geography_Spain</th>\n",
       "      <th>Gender_Male</th>\n",
       "    </tr>\n",
       "  </thead>\n",
       "  <tbody>\n",
       "    <tr>\n",
       "      <th>7041</th>\n",
       "      <td>-2.226392</td>\n",
       "      <td>-0.088482</td>\n",
       "      <td>-1.101690</td>\n",
       "      <td>-1.233163</td>\n",
       "      <td>0.830152</td>\n",
       "      <td>1</td>\n",
       "      <td>0</td>\n",
       "      <td>0.647083</td>\n",
       "      <td>0</td>\n",
       "      <td>0</td>\n",
       "      <td>1</td>\n",
       "    </tr>\n",
       "    <tr>\n",
       "      <th>5709</th>\n",
       "      <td>-0.087120</td>\n",
       "      <td>0.006422</td>\n",
       "      <td>1.446272</td>\n",
       "      <td>-1.233163</td>\n",
       "      <td>-0.891560</td>\n",
       "      <td>1</td>\n",
       "      <td>0</td>\n",
       "      <td>-1.658410</td>\n",
       "      <td>0</td>\n",
       "      <td>0</td>\n",
       "      <td>0</td>\n",
       "    </tr>\n",
       "    <tr>\n",
       "      <th>7117</th>\n",
       "      <td>-0.917905</td>\n",
       "      <td>-0.752805</td>\n",
       "      <td>-0.009707</td>\n",
       "      <td>0.722307</td>\n",
       "      <td>-0.891560</td>\n",
       "      <td>1</td>\n",
       "      <td>1</td>\n",
       "      <td>-1.369334</td>\n",
       "      <td>0</td>\n",
       "      <td>1</td>\n",
       "      <td>1</td>\n",
       "    </tr>\n",
       "    <tr>\n",
       "      <th>7775</th>\n",
       "      <td>-0.253277</td>\n",
       "      <td>0.101325</td>\n",
       "      <td>1.810266</td>\n",
       "      <td>-1.233163</td>\n",
       "      <td>0.830152</td>\n",
       "      <td>1</td>\n",
       "      <td>0</td>\n",
       "      <td>0.075086</td>\n",
       "      <td>0</td>\n",
       "      <td>1</td>\n",
       "      <td>1</td>\n",
       "    </tr>\n",
       "    <tr>\n",
       "      <th>8735</th>\n",
       "      <td>0.785204</td>\n",
       "      <td>-0.847708</td>\n",
       "      <td>1.810266</td>\n",
       "      <td>0.615625</td>\n",
       "      <td>-0.891560</td>\n",
       "      <td>0</td>\n",
       "      <td>1</td>\n",
       "      <td>-1.070919</td>\n",
       "      <td>0</td>\n",
       "      <td>0</td>\n",
       "      <td>1</td>\n",
       "    </tr>\n",
       "    <tr>\n",
       "      <th>9182</th>\n",
       "      <td>-0.575206</td>\n",
       "      <td>-1.037515</td>\n",
       "      <td>-1.829679</td>\n",
       "      <td>1.064325</td>\n",
       "      <td>-0.891560</td>\n",
       "      <td>1</td>\n",
       "      <td>0</td>\n",
       "      <td>0.480366</td>\n",
       "      <td>0</td>\n",
       "      <td>0</td>\n",
       "      <td>0</td>\n",
       "    </tr>\n",
       "    <tr>\n",
       "      <th>2493</th>\n",
       "      <td>1.345984</td>\n",
       "      <td>-1.512032</td>\n",
       "      <td>1.810266</td>\n",
       "      <td>0.345431</td>\n",
       "      <td>-0.891560</td>\n",
       "      <td>1</td>\n",
       "      <td>1</td>\n",
       "      <td>0.746282</td>\n",
       "      <td>0</td>\n",
       "      <td>1</td>\n",
       "      <td>1</td>\n",
       "    </tr>\n",
       "    <tr>\n",
       "      <th>1819</th>\n",
       "      <td>0.639817</td>\n",
       "      <td>0.575842</td>\n",
       "      <td>1.082277</td>\n",
       "      <td>1.196249</td>\n",
       "      <td>0.830152</td>\n",
       "      <td>0</td>\n",
       "      <td>1</td>\n",
       "      <td>0.699553</td>\n",
       "      <td>0</td>\n",
       "      <td>1</td>\n",
       "      <td>1</td>\n",
       "    </tr>\n",
       "    <tr>\n",
       "      <th>2980</th>\n",
       "      <td>2.052152</td>\n",
       "      <td>0.196229</td>\n",
       "      <td>-0.737696</td>\n",
       "      <td>0.375912</td>\n",
       "      <td>0.830152</td>\n",
       "      <td>1</td>\n",
       "      <td>0</td>\n",
       "      <td>-0.490439</td>\n",
       "      <td>0</td>\n",
       "      <td>1</td>\n",
       "      <td>0</td>\n",
       "    </tr>\n",
       "    <tr>\n",
       "      <th>7830</th>\n",
       "      <td>-0.595976</td>\n",
       "      <td>-0.562998</td>\n",
       "      <td>1.446272</td>\n",
       "      <td>-1.233163</td>\n",
       "      <td>0.830152</td>\n",
       "      <td>1</td>\n",
       "      <td>1</td>\n",
       "      <td>-1.005360</td>\n",
       "      <td>0</td>\n",
       "      <td>0</td>\n",
       "      <td>0</td>\n",
       "    </tr>\n",
       "  </tbody>\n",
       "</table>\n",
       "</div>"
      ],
      "text/plain": [
       "      CreditScore       Age    Tenure   Balance  NumOfProducts  HasCrCard  \\\n",
       "7041    -2.226392 -0.088482 -1.101690 -1.233163       0.830152          1   \n",
       "5709    -0.087120  0.006422  1.446272 -1.233163      -0.891560          1   \n",
       "7117    -0.917905 -0.752805 -0.009707  0.722307      -0.891560          1   \n",
       "7775    -0.253277  0.101325  1.810266 -1.233163       0.830152          1   \n",
       "8735     0.785204 -0.847708  1.810266  0.615625      -0.891560          0   \n",
       "9182    -0.575206 -1.037515 -1.829679  1.064325      -0.891560          1   \n",
       "2493     1.345984 -1.512032  1.810266  0.345431      -0.891560          1   \n",
       "1819     0.639817  0.575842  1.082277  1.196249       0.830152          0   \n",
       "2980     2.052152  0.196229 -0.737696  0.375912       0.830152          1   \n",
       "7830    -0.595976 -0.562998  1.446272 -1.233163       0.830152          1   \n",
       "\n",
       "      IsActiveMember  EstimatedSalary  Geography_Germany  Geography_Spain  \\\n",
       "7041               0         0.647083                  0                0   \n",
       "5709               0        -1.658410                  0                0   \n",
       "7117               1        -1.369334                  0                1   \n",
       "7775               0         0.075086                  0                1   \n",
       "8735               1        -1.070919                  0                0   \n",
       "9182               0         0.480366                  0                0   \n",
       "2493               1         0.746282                  0                1   \n",
       "1819               1         0.699553                  0                1   \n",
       "2980               0        -0.490439                  0                1   \n",
       "7830               1        -1.005360                  0                0   \n",
       "\n",
       "      Gender_Male  \n",
       "7041            1  \n",
       "5709            0  \n",
       "7117            1  \n",
       "7775            1  \n",
       "8735            1  \n",
       "9182            0  \n",
       "2493            1  \n",
       "1819            1  \n",
       "2980            0  \n",
       "7830            0  "
      ]
     },
     "execution_count": 12,
     "metadata": {},
     "output_type": "execute_result"
    }
   ],
   "source": [
    "features_valid.head(10)"
   ]
  },
  {
   "cell_type": "code",
   "execution_count": 13,
   "metadata": {},
   "outputs": [
    {
     "data": {
      "text/html": [
       "<div>\n",
       "<style scoped>\n",
       "    .dataframe tbody tr th:only-of-type {\n",
       "        vertical-align: middle;\n",
       "    }\n",
       "\n",
       "    .dataframe tbody tr th {\n",
       "        vertical-align: top;\n",
       "    }\n",
       "\n",
       "    .dataframe thead th {\n",
       "        text-align: right;\n",
       "    }\n",
       "</style>\n",
       "<table border=\"1\" class=\"dataframe\">\n",
       "  <thead>\n",
       "    <tr style=\"text-align: right;\">\n",
       "      <th></th>\n",
       "      <th>CreditScore</th>\n",
       "      <th>Age</th>\n",
       "      <th>Tenure</th>\n",
       "      <th>Balance</th>\n",
       "      <th>NumOfProducts</th>\n",
       "      <th>HasCrCard</th>\n",
       "      <th>IsActiveMember</th>\n",
       "      <th>EstimatedSalary</th>\n",
       "      <th>Geography_Germany</th>\n",
       "      <th>Geography_Spain</th>\n",
       "      <th>Gender_Male</th>\n",
       "    </tr>\n",
       "  </thead>\n",
       "  <tbody>\n",
       "    <tr>\n",
       "      <th>8532</th>\n",
       "      <td>-0.699824</td>\n",
       "      <td>-0.373192</td>\n",
       "      <td>-1.101690</td>\n",
       "      <td>-1.233163</td>\n",
       "      <td>0.830152</td>\n",
       "      <td>1</td>\n",
       "      <td>0</td>\n",
       "      <td>-0.015173</td>\n",
       "      <td>0</td>\n",
       "      <td>0</td>\n",
       "      <td>0</td>\n",
       "    </tr>\n",
       "    <tr>\n",
       "      <th>5799</th>\n",
       "      <td>-0.284431</td>\n",
       "      <td>0.575842</td>\n",
       "      <td>-0.737696</td>\n",
       "      <td>-1.233163</td>\n",
       "      <td>-0.891560</td>\n",
       "      <td>1</td>\n",
       "      <td>1</td>\n",
       "      <td>1.471724</td>\n",
       "      <td>0</td>\n",
       "      <td>0</td>\n",
       "      <td>0</td>\n",
       "    </tr>\n",
       "    <tr>\n",
       "      <th>5511</th>\n",
       "      <td>0.151731</td>\n",
       "      <td>-0.657902</td>\n",
       "      <td>-1.829679</td>\n",
       "      <td>0.438711</td>\n",
       "      <td>-0.891560</td>\n",
       "      <td>1</td>\n",
       "      <td>0</td>\n",
       "      <td>-1.367107</td>\n",
       "      <td>1</td>\n",
       "      <td>0</td>\n",
       "      <td>1</td>\n",
       "    </tr>\n",
       "    <tr>\n",
       "      <th>7365</th>\n",
       "      <td>-0.876366</td>\n",
       "      <td>-0.278288</td>\n",
       "      <td>1.810266</td>\n",
       "      <td>1.239884</td>\n",
       "      <td>-0.891560</td>\n",
       "      <td>1</td>\n",
       "      <td>1</td>\n",
       "      <td>-0.786517</td>\n",
       "      <td>0</td>\n",
       "      <td>1</td>\n",
       "      <td>0</td>\n",
       "    </tr>\n",
       "    <tr>\n",
       "      <th>7367</th>\n",
       "      <td>-0.481743</td>\n",
       "      <td>0.291132</td>\n",
       "      <td>1.810266</td>\n",
       "      <td>-1.233163</td>\n",
       "      <td>0.830152</td>\n",
       "      <td>1</td>\n",
       "      <td>0</td>\n",
       "      <td>1.358533</td>\n",
       "      <td>0</td>\n",
       "      <td>1</td>\n",
       "      <td>1</td>\n",
       "    </tr>\n",
       "    <tr>\n",
       "      <th>4120</th>\n",
       "      <td>0.141346</td>\n",
       "      <td>-1.701839</td>\n",
       "      <td>-1.465685</td>\n",
       "      <td>0.728192</td>\n",
       "      <td>0.830152</td>\n",
       "      <td>1</td>\n",
       "      <td>1</td>\n",
       "      <td>0.005562</td>\n",
       "      <td>1</td>\n",
       "      <td>0</td>\n",
       "      <td>0</td>\n",
       "    </tr>\n",
       "    <tr>\n",
       "      <th>2488</th>\n",
       "      <td>-0.076735</td>\n",
       "      <td>-1.701839</td>\n",
       "      <td>-1.465685</td>\n",
       "      <td>-1.233163</td>\n",
       "      <td>0.830152</td>\n",
       "      <td>0</td>\n",
       "      <td>0</td>\n",
       "      <td>-1.225690</td>\n",
       "      <td>0</td>\n",
       "      <td>1</td>\n",
       "      <td>0</td>\n",
       "    </tr>\n",
       "    <tr>\n",
       "      <th>8271</th>\n",
       "      <td>-1.779845</td>\n",
       "      <td>-0.183385</td>\n",
       "      <td>1.082277</td>\n",
       "      <td>1.218843</td>\n",
       "      <td>0.830152</td>\n",
       "      <td>1</td>\n",
       "      <td>1</td>\n",
       "      <td>1.309064</td>\n",
       "      <td>0</td>\n",
       "      <td>0</td>\n",
       "      <td>1</td>\n",
       "    </tr>\n",
       "    <tr>\n",
       "      <th>8653</th>\n",
       "      <td>-0.118274</td>\n",
       "      <td>1.714682</td>\n",
       "      <td>-0.009707</td>\n",
       "      <td>-1.233163</td>\n",
       "      <td>0.830152</td>\n",
       "      <td>1</td>\n",
       "      <td>1</td>\n",
       "      <td>0.397508</td>\n",
       "      <td>0</td>\n",
       "      <td>0</td>\n",
       "      <td>1</td>\n",
       "    </tr>\n",
       "    <tr>\n",
       "      <th>3452</th>\n",
       "      <td>1.086364</td>\n",
       "      <td>1.714682</td>\n",
       "      <td>-0.737696</td>\n",
       "      <td>0.200967</td>\n",
       "      <td>-0.891560</td>\n",
       "      <td>1</td>\n",
       "      <td>1</td>\n",
       "      <td>-0.802184</td>\n",
       "      <td>0</td>\n",
       "      <td>0</td>\n",
       "      <td>1</td>\n",
       "    </tr>\n",
       "  </tbody>\n",
       "</table>\n",
       "</div>"
      ],
      "text/plain": [
       "      CreditScore       Age    Tenure   Balance  NumOfProducts  HasCrCard  \\\n",
       "8532    -0.699824 -0.373192 -1.101690 -1.233163       0.830152          1   \n",
       "5799    -0.284431  0.575842 -0.737696 -1.233163      -0.891560          1   \n",
       "5511     0.151731 -0.657902 -1.829679  0.438711      -0.891560          1   \n",
       "7365    -0.876366 -0.278288  1.810266  1.239884      -0.891560          1   \n",
       "7367    -0.481743  0.291132  1.810266 -1.233163       0.830152          1   \n",
       "4120     0.141346 -1.701839 -1.465685  0.728192       0.830152          1   \n",
       "2488    -0.076735 -1.701839 -1.465685 -1.233163       0.830152          0   \n",
       "8271    -1.779845 -0.183385  1.082277  1.218843       0.830152          1   \n",
       "8653    -0.118274  1.714682 -0.009707 -1.233163       0.830152          1   \n",
       "3452     1.086364  1.714682 -0.737696  0.200967      -0.891560          1   \n",
       "\n",
       "      IsActiveMember  EstimatedSalary  Geography_Germany  Geography_Spain  \\\n",
       "8532               0        -0.015173                  0                0   \n",
       "5799               1         1.471724                  0                0   \n",
       "5511               0        -1.367107                  1                0   \n",
       "7365               1        -0.786517                  0                1   \n",
       "7367               0         1.358533                  0                1   \n",
       "4120               1         0.005562                  1                0   \n",
       "2488               0        -1.225690                  0                1   \n",
       "8271               1         1.309064                  0                0   \n",
       "8653               1         0.397508                  0                0   \n",
       "3452               1        -0.802184                  0                0   \n",
       "\n",
       "      Gender_Male  \n",
       "8532            0  \n",
       "5799            0  \n",
       "5511            1  \n",
       "7365            0  \n",
       "7367            1  \n",
       "4120            0  \n",
       "2488            0  \n",
       "8271            1  \n",
       "8653            1  \n",
       "3452            1  "
      ]
     },
     "execution_count": 13,
     "metadata": {},
     "output_type": "execute_result"
    }
   ],
   "source": [
    "features_test.head(10)"
   ]
  },
  {
   "cell_type": "markdown",
   "metadata": {},
   "source": [
    "Теперь можно приступать к исследованию."
   ]
  },
  {
   "cell_type": "markdown",
   "metadata": {},
   "source": [
    "**Резюме**\n",
    "\n",
    "Я подготовил исходную выборку для анализа:\n",
    "- заполнил null в колонке Tenure медианным значением признака, чтобы увеличить объем выборки для исследования\n",
    "- убрал из датасета признаки, непригодные для анализа: 'RowNumber', 'CustomerId', 'Surname'\n",
    "- преобразовал категориальные признаки в численные методом прямого кодирования\n",
    "- привел все признаки к одному масштабу\n",
    "- разлелил выборку на 3 набора: обучающий, валидационный и тестовый"
   ]
  },
  {
   "cell_type": "markdown",
   "metadata": {},
   "source": [
    "## Исследование задачи"
   ]
  },
  {
   "cell_type": "markdown",
   "metadata": {},
   "source": [
    "Я буду исследовать различные модели: логистическую регрессию, решающее дерево и случайный лес.<br/>\n",
    "Порядок исследования всегда совпадает, поэтому рассчет характеристик качества модели выведу в отдельную функцию."
   ]
  },
  {
   "cell_type": "code",
   "execution_count": 14,
   "metadata": {},
   "outputs": [],
   "source": [
    "def model_analysis(model, features_train, target_train, features_valid, target_valid):\n",
    "    model.fit(features_train, target_train)\n",
    "    predictions_valid = model.predict(features_valid)\n",
    "    probabilities_valid = model.predict_proba(features_valid)\n",
    "    probabilities_one_valid = probabilities_valid[:, 1]\n",
    "    return {\n",
    "        'Полнота': recall_score(target_valid, predictions_valid),\n",
    "        'Точность': precision_score(target_valid, predictions_valid),\n",
    "        'F1 метрика': f1_score(target_valid, predictions_valid),\n",
    "        'AUC ROC': roc_auc_score(target_valid, probabilities_one_valid)\n",
    "    }"
   ]
  },
  {
   "cell_type": "markdown",
   "metadata": {},
   "source": [
    "Для случайного леса нужно подбирать параметры max_depth и n_estimators.\n",
    "И т.к. в течение всего исследования мы будем менять обучающие выборки, оптимальные параметры модели случайного леса под разные выборки могут отличаться. Выделим алгоритм поиска параметров модели случайного леса в отдельную функцию.<br/>\n",
    "Добавим сразу параметр class_weight, т.к. позже будем исследовать проблемы дисбаланса. По умолчанию параметр None."
   ]
  },
  {
   "cell_type": "code",
   "execution_count": 15,
   "metadata": {},
   "outputs": [],
   "source": [
    "def get_optimal_random_forest_classifier_params(features_train, target_train, features_valid, target_valid, class_weight=None):\n",
    "    best_f1 = 0\n",
    "    best_est = 0\n",
    "    best_depth = 0\n",
    "    best_criterion = None\n",
    "    best_min_samples_leaf = 0\n",
    "    for min_samples_leaf in range(1, 6, 1):\n",
    "        for criterion in \"gini\", \"entropy\":\n",
    "            for est in range(10, 71, 10):\n",
    "                for depth in range (1, 14, 2):\n",
    "                    model = RandomForestClassifier(random_state=12345, n_estimators=est, max_depth=depth, criterion=criterion, min_samples_leaf=min_samples_leaf, class_weight=class_weight)\n",
    "                    model.fit(features_train, target_train)\n",
    "                    predictions_valid = model.predict(features_valid)\n",
    "                    f1 = f1_score(target_valid, predictions_valid) \n",
    "                    if (f1 > best_f1):\n",
    "                        best_f1 = f1\n",
    "                        best_est = est\n",
    "                        best_depth = depth\n",
    "                        best_criterion = criterion\n",
    "                        best_min_samples_leaf = min_samples_leaf\n",
    "    return {\n",
    "        'n_estimators': best_est, \n",
    "        'max_depth': best_depth,\n",
    "        'criterion': best_criterion,\n",
    "        'min_samples_leaf': best_min_samples_leaf\n",
    "    }"
   ]
  },
  {
   "cell_type": "code",
   "execution_count": 16,
   "metadata": {},
   "outputs": [],
   "source": [
    "def get_optimal_decision_tree_classifier_params(features_train, target_train, features_valid, target_valid, class_weight=None):\n",
    "    best_f1 = 0\n",
    "    best_depth = 0\n",
    "    best_criterion = None\n",
    "    best_min_samples_leaf = 0\n",
    "    for min_samples_leaf in range(1, 6):\n",
    "        for criterion in \"gini\", \"entropy\":\n",
    "            for depth in range(1,11):\n",
    "                model = DecisionTreeClassifier(random_state=12345, max_depth=depth, criterion=criterion, min_samples_leaf=min_samples_leaf, class_weight=class_weight)\n",
    "                model.fit(features_train, target_train)\n",
    "                predictions_valid = model.predict(features_valid)\n",
    "                f1 = f1_score(target_valid, predictions_valid) \n",
    "                if (f1 > best_f1):\n",
    "                    best_f1 = f1\n",
    "                    best_depth = depth\n",
    "                    best_criterion = criterion\n",
    "                    best_min_samples_leaf = min_samples_leaf\n",
    "    return {\n",
    "        'max_depth': best_depth,\n",
    "        'criterion': criterion,\n",
    "        'min_samples_leaf': min_samples_leaf\n",
    "    }"
   ]
  },
  {
   "cell_type": "markdown",
   "metadata": {},
   "source": [
    "Т.к. нам предстоит осуществлять анализ для борьбы с дисбалансом - оформим алгоритм анализа в отдельную функцию.<br/>\n",
    "Также добавим параметр class_weight, чтобы позже легче решать проблемы дисбаланса."
   ]
  },
  {
   "cell_type": "code",
   "execution_count": 17,
   "metadata": {},
   "outputs": [],
   "source": [
    "def analisys(method_type, features_train, target_train, features_valid, target_valid, class_weight=None):\n",
    "    random_forest_classifier_params = get_optimal_random_forest_classifier_params(features_train, target_train, features_valid, target_valid, class_weight=class_weight)\n",
    "    decision_tree_classifier_params = get_optimal_decision_tree_classifier_params(features_train, target_train, features_valid, target_valid, class_weight=class_weight)\n",
    "    models = {\n",
    "        'Логистическая регрессия': {\n",
    "            'model': LogisticRegression(class_weight=class_weight, solver='liblinear', random_state=12345),\n",
    "            'params': None\n",
    "        },\n",
    "        'Решающее дерево': {\n",
    "            'model': DecisionTreeClassifier(class_weight=class_weight, **decision_tree_classifier_params, random_state=12345),\n",
    "            'params': decision_tree_classifier_params\n",
    "        },\n",
    "        'Случайный лес': {\n",
    "            'model': RandomForestClassifier(class_weight=class_weight, **random_forest_classifier_params, random_state=12345),\n",
    "            'params': random_forest_classifier_params\n",
    "\n",
    "        }\n",
    "    }\n",
    "    result = []\n",
    "    for model_name, model_config in models.items():\n",
    "        model_characteristics = model_analysis(model_config['model'], features_train, target_train, features_valid, target_valid)\n",
    "        # добавил, чтобы 2 раза не считать\n",
    "        model_characteristics['Параметры'] = model_config['params']\n",
    "        model_characteristics['Метод'] = method_type\n",
    "        model_characteristics['Тип'] = model_name\n",
    "        result.append(model_characteristics)\n",
    "    return result"
   ]
  },
  {
   "cell_type": "markdown",
   "metadata": {},
   "source": [
    "Это функция для красивого вывода таблицы с характеристиками модели"
   ]
  },
  {
   "cell_type": "code",
   "execution_count": 18,
   "metadata": {},
   "outputs": [],
   "source": [
    "def make_table(data):\n",
    "    df = pd.DataFrame(data = data);\n",
    "    # нужно красиво вывести колонку \"Тип\", потому поменяем порядок колонок\n",
    "    temp_cols=df.columns.tolist()\n",
    "    new_cols=temp_cols[-1:] + temp_cols[:-1]\n",
    "    df=df[new_cols]\n",
    "    \n",
    "     \n",
    "    df = df.groupby('Метод').apply(lambda a: a[:])\n",
    "    df = df.drop(columns=['Метод'])\n",
    "    with pd.option_context('display.precision', 3):\n",
    "        style = df.style.background_gradient('coolwarm')\n",
    "    return style"
   ]
  },
  {
   "cell_type": "code",
   "execution_count": 19,
   "metadata": {},
   "outputs": [
    {
     "data": {
      "text/html": [
       "<style  type=\"text/css\" >\n",
       "#T_ef55d_row0_col1,#T_ef55d_row0_col2,#T_ef55d_row0_col3,#T_ef55d_row0_col4{\n",
       "            background-color:  #3b4cc0;\n",
       "            color:  #f1f1f1;\n",
       "        }#T_ef55d_row1_col1{\n",
       "            background-color:  #ee8669;\n",
       "            color:  #000000;\n",
       "        }#T_ef55d_row1_col2,#T_ef55d_row2_col1,#T_ef55d_row2_col3,#T_ef55d_row2_col4{\n",
       "            background-color:  #b40426;\n",
       "            color:  #f1f1f1;\n",
       "        }#T_ef55d_row1_col3{\n",
       "            background-color:  #e46e56;\n",
       "            color:  #000000;\n",
       "        }#T_ef55d_row1_col4{\n",
       "            background-color:  #f29072;\n",
       "            color:  #000000;\n",
       "        }#T_ef55d_row2_col2{\n",
       "            background-color:  #b50927;\n",
       "            color:  #f1f1f1;\n",
       "        }</style><table id=\"T_ef55d_\" ><thead>    <tr>        <th class=\"blank\" ></th>        <th class=\"blank level0\" ></th>        <th class=\"col_heading level0 col0\" >Тип</th>        <th class=\"col_heading level0 col1\" >Полнота</th>        <th class=\"col_heading level0 col2\" >Точность</th>        <th class=\"col_heading level0 col3\" >F1 метрика</th>        <th class=\"col_heading level0 col4\" >AUC ROC</th>        <th class=\"col_heading level0 col5\" >Параметры</th>    </tr>    <tr>        <th class=\"index_name level0\" >Метод</th>        <th class=\"index_name level1\" ></th>        <th class=\"blank\" ></th>        <th class=\"blank\" ></th>        <th class=\"blank\" ></th>        <th class=\"blank\" ></th>        <th class=\"blank\" ></th>        <th class=\"blank\" ></th>    </tr></thead><tbody>\n",
       "                <tr>\n",
       "                        <th id=\"T_ef55d_level0_row0\" class=\"row_heading level0 row0\" rowspan=\"3\">1. Дисбаланс классов</th>\n",
       "                        <th id=\"T_ef55d_level1_row0\" class=\"row_heading level1 row0\" >0</th>\n",
       "                        <td id=\"T_ef55d_row0_col0\" class=\"data row0 col0\" >Логистическая регрессия</td>\n",
       "                        <td id=\"T_ef55d_row0_col1\" class=\"data row0 col1\" >0.187</td>\n",
       "                        <td id=\"T_ef55d_row0_col2\" class=\"data row0 col2\" >0.520</td>\n",
       "                        <td id=\"T_ef55d_row0_col3\" class=\"data row0 col3\" >0.275</td>\n",
       "                        <td id=\"T_ef55d_row0_col4\" class=\"data row0 col4\" >0.739</td>\n",
       "                        <td id=\"T_ef55d_row0_col5\" class=\"data row0 col5\" >None</td>\n",
       "            </tr>\n",
       "            <tr>\n",
       "                                <th id=\"T_ef55d_level1_row1\" class=\"row_heading level1 row1\" >1</th>\n",
       "                        <td id=\"T_ef55d_row1_col0\" class=\"data row1 col0\" >Решающее дерево</td>\n",
       "                        <td id=\"T_ef55d_row1_col1\" class=\"data row1 col1\" >0.378</td>\n",
       "                        <td id=\"T_ef55d_row1_col2\" class=\"data row1 col2\" >0.762</td>\n",
       "                        <td id=\"T_ef55d_row1_col3\" class=\"data row1 col3\" >0.506</td>\n",
       "                        <td id=\"T_ef55d_row1_col4\" class=\"data row1 col4\" >0.820</td>\n",
       "                        <td id=\"T_ef55d_row1_col5\" class=\"data row1 col5\" >{'max_depth': 6, 'criterion': 'entropy', 'min_samples_leaf': 5}</td>\n",
       "            </tr>\n",
       "            <tr>\n",
       "                                <th id=\"T_ef55d_level1_row2\" class=\"row_heading level1 row2\" >2</th>\n",
       "                        <td id=\"T_ef55d_row2_col0\" class=\"data row2 col0\" >Случайный лес</td>\n",
       "                        <td id=\"T_ef55d_row2_col1\" class=\"data row2 col1\" >0.428</td>\n",
       "                        <td id=\"T_ef55d_row2_col2\" class=\"data row2 col2\" >0.761</td>\n",
       "                        <td id=\"T_ef55d_row2_col3\" class=\"data row2 col3\" >0.548</td>\n",
       "                        <td id=\"T_ef55d_row2_col4\" class=\"data row2 col4\" >0.844</td>\n",
       "                        <td id=\"T_ef55d_row2_col5\" class=\"data row2 col5\" >{'n_estimators': 20, 'max_depth': 13, 'criterion': 'entropy', 'min_samples_leaf': 3}</td>\n",
       "            </tr>\n",
       "    </tbody></table>"
      ],
      "text/plain": [
       "<pandas.io.formats.style.Styler at 0x7f350021e340>"
      ]
     },
     "execution_count": 19,
     "metadata": {},
     "output_type": "execute_result"
    }
   ],
   "source": [
    "# сохраним в перееменную, для итогового анализа\n",
    "class_imbalance = analisys('1. Дисбаланс классов', features_train, target_train, features_valid, target_valid)\n",
    "make_table(class_imbalance)"
   ]
  },
  {
   "cell_type": "markdown",
   "metadata": {},
   "source": [
    "Проверим целевой признак на дисбаланс классов."
   ]
  },
  {
   "cell_type": "code",
   "execution_count": 20,
   "metadata": {},
   "outputs": [
    {
     "name": "stdout",
     "output_type": "stream",
     "text": [
      "0    0.7963\n",
      "1    0.2037\n",
      "Name: Exited, dtype: float64\n"
     ]
    },
    {
     "data": {
      "image/png": "[encoded data removed]",
      "text/plain": [
       "<Figure size 432x288 with 1 Axes>"
      ]
     },
     "metadata": {
      "needs_background": "light"
     },
     "output_type": "display_data"
    }
   ],
   "source": [
    "class_frequency = data['Exited'].value_counts(normalize=True)\n",
    "print(class_frequency)\n",
    "class_frequency.plot(kind='bar', xlabel='дисбаланс классов')\n",
    "plt.show();"
   ]
  },
  {
   "cell_type": "markdown",
   "metadata": {},
   "source": [
    "Класс с ответом 1 встречается почти в 4 раза реже, это значит что наши модели получились несбалансированными, а мы можем достичь лучших результатов в обучении."
   ]
  },
  {
   "cell_type": "markdown",
   "metadata": {},
   "source": [
    "**Резюме**<br/>\n",
    "С учетом имеющегося дисбаланса классов у нас получились следующие результаты:<br/>\n",
    "Лучшие значения характеристики f1 у случайного леса 0.548 при auc_roc = 0.844, при достаточно низком значении полноты в 0.428.<br/>\n",
    "Худшие значения f1 метрики и auc_roc у лотистической регрессии, всего 0.275 и 0.739 соответтсвенно.<br/>\n",
    "\n",
    "Все значения метрики f1 получились меньше необходимого по условию задачи в 0.59. Но мы знаем о дисбалансе классов, поэтому дальше будем пробовать улучшать качество модели."
   ]
  },
  {
   "cell_type": "markdown",
   "metadata": {},
   "source": [
    "## Борьба с дисбалансом"
   ]
  },
  {
   "cell_type": "markdown",
   "metadata": {},
   "source": [
    "Мы владеем тремя техниками борьбы с дисбалансом:<br/>\n",
    "- взвешивание классов\n",
    "- увеличение выборки\n",
    "- уменьшение выборки\n",
    "\n",
    "Для первого способа я предусмотрел передачу параметра class_weight со значением \"balanced\" в фукнцию анализа.<br/>\n",
    "Для двух последних способов нужно определить 2 функции: для увеличения и для уменьшени выборки соответственно."
   ]
  },
  {
   "cell_type": "code",
   "execution_count": 21,
   "metadata": {},
   "outputs": [
    {
     "name": "stdout",
     "output_type": "stream",
     "text": [
      "(6000, 11)\n",
      "(9588, 11)\n"
     ]
    }
   ],
   "source": [
    "def upsample(features, target, repeat):\n",
    "    features_zeros = features[target == 0]\n",
    "    features_ones = features[target == 1]\n",
    "    target_zeros = target[target == 0]\n",
    "    target_ones = target[target == 1]\n",
    "    features_upsampled = pd.concat([features_zeros] + [features_ones] * repeat)\n",
    "    target_upsampled = pd.concat([target_zeros] + [target_ones] * repeat)\n",
    "    features_upsampled, target_upsampled = shuffle(\n",
    "        features_upsampled, target_upsampled, random_state=12345)\n",
    "    return features_upsampled, target_upsampled\n",
    "\n",
    "features_upsampled, target_upsampled = upsample(features_train, target_train, 4)\n",
    "print(features_train.shape)\n",
    "print(features_upsampled.shape)"
   ]
  },
  {
   "cell_type": "markdown",
   "metadata": {},
   "source": [
    "Сохранили увеличенную выборку в features_upsampled и target_upsampled. Видно, что количество строк увеличилось."
   ]
  },
  {
   "cell_type": "code",
   "execution_count": 22,
   "metadata": {},
   "outputs": [
    {
     "name": "stdout",
     "output_type": "stream",
     "text": [
      "(6000, 11)\n",
      "(2397, 11)\n"
     ]
    }
   ],
   "source": [
    "def downsample(features, target, fraction):\n",
    "    features_zeros = features[target == 0]\n",
    "    features_ones = features[target == 1]\n",
    "    target_zeros = target[target == 0]\n",
    "    target_ones = target[target == 1]\n",
    "    features_downsampled = pd.concat(\n",
    "        [features_zeros.sample(frac=fraction, random_state=12345)] + [features_ones])\n",
    "    target_downsampled = pd.concat(\n",
    "        [target_zeros.sample(frac=fraction, random_state=12345)] + [target_ones])\n",
    "    features_downsampled, target_downsampled = shuffle(\n",
    "        features_downsampled, target_downsampled, random_state=12345)\n",
    "    return features_downsampled, target_downsampled\n",
    "\n",
    "features_downsampled, target_downsampled = downsample(features_train, target_train, 0.25)\n",
    "print(features_train.shape)\n",
    "print(features_downsampled.shape)"
   ]
  },
  {
   "cell_type": "markdown",
   "metadata": {},
   "source": [
    "Сохранили уменьшенную выборку в features_downsampled и target_downsampled. Видно, что количество строк уменьшилось."
   ]
  },
  {
   "cell_type": "markdown",
   "metadata": {},
   "source": [
    "Теперь проанализируем все техники и объединим результаты в единую таблицу для анализа."
   ]
  },
  {
   "cell_type": "code",
   "execution_count": 23,
   "metadata": {},
   "outputs": [
    {
     "data": {
      "text/html": [
       "<style  type=\"text/css\" >\n",
       "#T_b9858_row0_col1,#T_b9858_row0_col3,#T_b9858_row0_col4,#T_b9858_row6_col2{\n",
       "            background-color:  #3b4cc0;\n",
       "            color:  #f1f1f1;\n",
       "        }#T_b9858_row0_col2{\n",
       "            background-color:  #b7cff9;\n",
       "            color:  #000000;\n",
       "        }#T_b9858_row1_col1{\n",
       "            background-color:  #abc8fd;\n",
       "            color:  #000000;\n",
       "        }#T_b9858_row1_col2,#T_b9858_row2_col2,#T_b9858_row5_col3,#T_b9858_row5_col4,#T_b9858_row11_col1{\n",
       "            background-color:  #b40426;\n",
       "            color:  #f1f1f1;\n",
       "        }#T_b9858_row1_col3{\n",
       "            background-color:  #f6bda2;\n",
       "            color:  #000000;\n",
       "        }#T_b9858_row1_col4{\n",
       "            background-color:  #f7b79b;\n",
       "            color:  #000000;\n",
       "        }#T_b9858_row2_col1{\n",
       "            background-color:  #c7d7f0;\n",
       "            color:  #000000;\n",
       "        }#T_b9858_row2_col3{\n",
       "            background-color:  #f29274;\n",
       "            color:  #000000;\n",
       "        }#T_b9858_row2_col4{\n",
       "            background-color:  #df634e;\n",
       "            color:  #000000;\n",
       "        }#T_b9858_row3_col1{\n",
       "            background-color:  #e9785d;\n",
       "            color:  #000000;\n",
       "        }#T_b9858_row3_col2{\n",
       "            background-color:  #3c4ec2;\n",
       "            color:  #f1f1f1;\n",
       "        }#T_b9858_row3_col3{\n",
       "            background-color:  #edd1c2;\n",
       "            color:  #000000;\n",
       "        }#T_b9858_row3_col4,#T_b9858_row6_col4{\n",
       "            background-color:  #4257c9;\n",
       "            color:  #f1f1f1;\n",
       "        }#T_b9858_row4_col1,#T_b9858_row7_col1{\n",
       "            background-color:  #e97a5f;\n",
       "            color:  #000000;\n",
       "        }#T_b9858_row4_col2,#T_b9858_row7_col2{\n",
       "            background-color:  #b9d0f9;\n",
       "            color:  #000000;\n",
       "        }#T_b9858_row4_col3,#T_b9858_row7_col3{\n",
       "            background-color:  #e26952;\n",
       "            color:  #000000;\n",
       "        }#T_b9858_row4_col4,#T_b9858_row7_col4{\n",
       "            background-color:  #ee8468;\n",
       "            color:  #000000;\n",
       "        }#T_b9858_row5_col1{\n",
       "            background-color:  #f18d6f;\n",
       "            color:  #000000;\n",
       "        }#T_b9858_row5_col2{\n",
       "            background-color:  #f7b99e;\n",
       "            color:  #000000;\n",
       "        }#T_b9858_row6_col1{\n",
       "            background-color:  #ea7b60;\n",
       "            color:  #000000;\n",
       "        }#T_b9858_row6_col3{\n",
       "            background-color:  #edd2c3;\n",
       "            color:  #000000;\n",
       "        }#T_b9858_row8_col1{\n",
       "            background-color:  #d75445;\n",
       "            color:  #000000;\n",
       "        }#T_b9858_row8_col2{\n",
       "            background-color:  #dcdddd;\n",
       "            color:  #000000;\n",
       "        }#T_b9858_row8_col3{\n",
       "            background-color:  #b8122a;\n",
       "            color:  #f1f1f1;\n",
       "        }#T_b9858_row8_col4{\n",
       "            background-color:  #c53334;\n",
       "            color:  #f1f1f1;\n",
       "        }#T_b9858_row9_col1{\n",
       "            background-color:  #e36c55;\n",
       "            color:  #000000;\n",
       "        }#T_b9858_row9_col2{\n",
       "            background-color:  #3d50c3;\n",
       "            color:  #f1f1f1;\n",
       "        }#T_b9858_row9_col3{\n",
       "            background-color:  #f0cdbb;\n",
       "            color:  #000000;\n",
       "        }#T_b9858_row9_col4{\n",
       "            background-color:  #4055c8;\n",
       "            color:  #f1f1f1;\n",
       "        }#T_b9858_row10_col1{\n",
       "            background-color:  #c43032;\n",
       "            color:  #f1f1f1;\n",
       "        }#T_b9858_row10_col2{\n",
       "            background-color:  #799cf8;\n",
       "            color:  #000000;\n",
       "        }#T_b9858_row10_col3{\n",
       "            background-color:  #ef886b;\n",
       "            color:  #000000;\n",
       "        }#T_b9858_row10_col4{\n",
       "            background-color:  #f7aa8c;\n",
       "            color:  #000000;\n",
       "        }#T_b9858_row11_col2{\n",
       "            background-color:  #a2c1ff;\n",
       "            color:  #000000;\n",
       "        }#T_b9858_row11_col3{\n",
       "            background-color:  #d44e41;\n",
       "            color:  #000000;\n",
       "        }#T_b9858_row11_col4{\n",
       "            background-color:  #d1493f;\n",
       "            color:  #f1f1f1;\n",
       "        }</style><table id=\"T_b9858_\" ><thead>    <tr>        <th class=\"blank\" ></th>        <th class=\"blank level0\" ></th>        <th class=\"col_heading level0 col0\" >Тип</th>        <th class=\"col_heading level0 col1\" >Полнота</th>        <th class=\"col_heading level0 col2\" >Точность</th>        <th class=\"col_heading level0 col3\" >F1 метрика</th>        <th class=\"col_heading level0 col4\" >AUC ROC</th>        <th class=\"col_heading level0 col5\" >Параметры</th>    </tr>    <tr>        <th class=\"index_name level0\" >Метод</th>        <th class=\"index_name level1\" ></th>        <th class=\"blank\" ></th>        <th class=\"blank\" ></th>        <th class=\"blank\" ></th>        <th class=\"blank\" ></th>        <th class=\"blank\" ></th>        <th class=\"blank\" ></th>    </tr></thead><tbody>\n",
       "                <tr>\n",
       "                        <th id=\"T_b9858_level0_row0\" class=\"row_heading level0 row0\" rowspan=\"3\">1. Дисбаланс классов</th>\n",
       "                        <th id=\"T_b9858_level1_row0\" class=\"row_heading level1 row0\" >0</th>\n",
       "                        <td id=\"T_b9858_row0_col0\" class=\"data row0 col0\" >Логистическая регрессия</td>\n",
       "                        <td id=\"T_b9858_row0_col1\" class=\"data row0 col1\" >0.187</td>\n",
       "                        <td id=\"T_b9858_row0_col2\" class=\"data row0 col2\" >0.520</td>\n",
       "                        <td id=\"T_b9858_row0_col3\" class=\"data row0 col3\" >0.275</td>\n",
       "                        <td id=\"T_b9858_row0_col4\" class=\"data row0 col4\" >0.739</td>\n",
       "                        <td id=\"T_b9858_row0_col5\" class=\"data row0 col5\" >None</td>\n",
       "            </tr>\n",
       "            <tr>\n",
       "                                <th id=\"T_b9858_level1_row1\" class=\"row_heading level1 row1\" >1</th>\n",
       "                        <td id=\"T_b9858_row1_col0\" class=\"data row1 col0\" >Решающее дерево</td>\n",
       "                        <td id=\"T_b9858_row1_col1\" class=\"data row1 col1\" >0.378</td>\n",
       "                        <td id=\"T_b9858_row1_col2\" class=\"data row1 col2\" >0.762</td>\n",
       "                        <td id=\"T_b9858_row1_col3\" class=\"data row1 col3\" >0.506</td>\n",
       "                        <td id=\"T_b9858_row1_col4\" class=\"data row1 col4\" >0.820</td>\n",
       "                        <td id=\"T_b9858_row1_col5\" class=\"data row1 col5\" >{'max_depth': 6, 'criterion': 'entropy', 'min_samples_leaf': 5}</td>\n",
       "            </tr>\n",
       "            <tr>\n",
       "                                <th id=\"T_b9858_level1_row2\" class=\"row_heading level1 row2\" >2</th>\n",
       "                        <td id=\"T_b9858_row2_col0\" class=\"data row2 col0\" >Случайный лес</td>\n",
       "                        <td id=\"T_b9858_row2_col1\" class=\"data row2 col1\" >0.428</td>\n",
       "                        <td id=\"T_b9858_row2_col2\" class=\"data row2 col2\" >0.761</td>\n",
       "                        <td id=\"T_b9858_row2_col3\" class=\"data row2 col3\" >0.548</td>\n",
       "                        <td id=\"T_b9858_row2_col4\" class=\"data row2 col4\" >0.844</td>\n",
       "                        <td id=\"T_b9858_row2_col5\" class=\"data row2 col5\" >{'n_estimators': 20, 'max_depth': 13, 'criterion': 'entropy', 'min_samples_leaf': 3}</td>\n",
       "            </tr>\n",
       "            <tr>\n",
       "                        <th id=\"T_b9858_level0_row3\" class=\"row_heading level0 row3\" rowspan=\"3\">2. Взвешивание классов</th>\n",
       "                        <th id=\"T_b9858_level1_row3\" class=\"row_heading level1 row3\" >3</th>\n",
       "                        <td id=\"T_b9858_row3_col0\" class=\"data row3 col0\" >Логистическая регрессия</td>\n",
       "                        <td id=\"T_b9858_row3_col1\" class=\"data row3 col1\" >0.655</td>\n",
       "                        <td id=\"T_b9858_row3_col2\" class=\"data row3 col2\" >0.377</td>\n",
       "                        <td id=\"T_b9858_row3_col3\" class=\"data row3 col3\" >0.479</td>\n",
       "                        <td id=\"T_b9858_row3_col4\" class=\"data row3 col4\" >0.742</td>\n",
       "                        <td id=\"T_b9858_row3_col5\" class=\"data row3 col5\" >None</td>\n",
       "            </tr>\n",
       "            <tr>\n",
       "                                <th id=\"T_b9858_level1_row4\" class=\"row_heading level1 row4\" >4</th>\n",
       "                        <td id=\"T_b9858_row4_col0\" class=\"data row4 col0\" >Решающее дерево</td>\n",
       "                        <td id=\"T_b9858_row4_col1\" class=\"data row4 col1\" >0.652</td>\n",
       "                        <td id=\"T_b9858_row4_col2\" class=\"data row4 col2\" >0.521</td>\n",
       "                        <td id=\"T_b9858_row4_col3\" class=\"data row4 col3\" >0.579</td>\n",
       "                        <td id=\"T_b9858_row4_col4\" class=\"data row4 col4\" >0.836</td>\n",
       "                        <td id=\"T_b9858_row4_col5\" class=\"data row4 col5\" >{'max_depth': 5, 'criterion': 'entropy', 'min_samples_leaf': 5}</td>\n",
       "            </tr>\n",
       "            <tr>\n",
       "                                <th id=\"T_b9858_level1_row5\" class=\"row_heading level1 row5\" >5</th>\n",
       "                        <td id=\"T_b9858_row5_col0\" class=\"data row5 col0\" >Случайный лес</td>\n",
       "                        <td id=\"T_b9858_row5_col1\" class=\"data row5 col1\" >0.629</td>\n",
       "                        <td id=\"T_b9858_row5_col2\" class=\"data row5 col2\" >0.632</td>\n",
       "                        <td id=\"T_b9858_row5_col3\" class=\"data row5 col3\" >0.630</td>\n",
       "                        <td id=\"T_b9858_row5_col4\" class=\"data row5 col4\" >0.861</td>\n",
       "                        <td id=\"T_b9858_row5_col5\" class=\"data row5 col5\" >{'n_estimators': 70, 'max_depth': 13, 'criterion': 'entropy', 'min_samples_leaf': 5}</td>\n",
       "            </tr>\n",
       "            <tr>\n",
       "                        <th id=\"T_b9858_level0_row6\" class=\"row_heading level0 row6\" rowspan=\"3\">3. Увеличение выборки</th>\n",
       "                        <th id=\"T_b9858_level1_row6\" class=\"row_heading level1 row6\" >6</th>\n",
       "                        <td id=\"T_b9858_row6_col0\" class=\"data row6 col0\" >Логистическая регрессия</td>\n",
       "                        <td id=\"T_b9858_row6_col1\" class=\"data row6 col1\" >0.650</td>\n",
       "                        <td id=\"T_b9858_row6_col2\" class=\"data row6 col2\" >0.376</td>\n",
       "                        <td id=\"T_b9858_row6_col3\" class=\"data row6 col3\" >0.476</td>\n",
       "                        <td id=\"T_b9858_row6_col4\" class=\"data row6 col4\" >0.742</td>\n",
       "                        <td id=\"T_b9858_row6_col5\" class=\"data row6 col5\" >None</td>\n",
       "            </tr>\n",
       "            <tr>\n",
       "                                <th id=\"T_b9858_level1_row7\" class=\"row_heading level1 row7\" >7</th>\n",
       "                        <td id=\"T_b9858_row7_col0\" class=\"data row7 col0\" >Решающее дерево</td>\n",
       "                        <td id=\"T_b9858_row7_col1\" class=\"data row7 col1\" >0.652</td>\n",
       "                        <td id=\"T_b9858_row7_col2\" class=\"data row7 col2\" >0.521</td>\n",
       "                        <td id=\"T_b9858_row7_col3\" class=\"data row7 col3\" >0.579</td>\n",
       "                        <td id=\"T_b9858_row7_col4\" class=\"data row7 col4\" >0.836</td>\n",
       "                        <td id=\"T_b9858_row7_col5\" class=\"data row7 col5\" >{'max_depth': 5, 'criterion': 'entropy', 'min_samples_leaf': 5}</td>\n",
       "            </tr>\n",
       "            <tr>\n",
       "                                <th id=\"T_b9858_level1_row8\" class=\"row_heading level1 row8\" >8</th>\n",
       "                        <td id=\"T_b9858_row8_col0\" class=\"data row8 col0\" >Случайный лес</td>\n",
       "                        <td id=\"T_b9858_row8_col1\" class=\"data row8 col1\" >0.695</td>\n",
       "                        <td id=\"T_b9858_row8_col2\" class=\"data row8 col2\" >0.569</td>\n",
       "                        <td id=\"T_b9858_row8_col3\" class=\"data row8 col3\" >0.626</td>\n",
       "                        <td id=\"T_b9858_row8_col4\" class=\"data row8 col4\" >0.854</td>\n",
       "                        <td id=\"T_b9858_row8_col5\" class=\"data row8 col5\" >{'n_estimators': 40, 'max_depth': 11, 'criterion': 'gini', 'min_samples_leaf': 4}</td>\n",
       "            </tr>\n",
       "            <tr>\n",
       "                        <th id=\"T_b9858_level0_row9\" class=\"row_heading level0 row9\" rowspan=\"3\">4. Уменьшение выборки</th>\n",
       "                        <th id=\"T_b9858_level1_row9\" class=\"row_heading level1 row9\" >9</th>\n",
       "                        <td id=\"T_b9858_row9_col0\" class=\"data row9 col0\" >Логистическая регрессия</td>\n",
       "                        <td id=\"T_b9858_row9_col1\" class=\"data row9 col1\" >0.669</td>\n",
       "                        <td id=\"T_b9858_row9_col2\" class=\"data row9 col2\" >0.379</td>\n",
       "                        <td id=\"T_b9858_row9_col3\" class=\"data row9 col3\" >0.484</td>\n",
       "                        <td id=\"T_b9858_row9_col4\" class=\"data row9 col4\" >0.741</td>\n",
       "                        <td id=\"T_b9858_row9_col5\" class=\"data row9 col5\" >None</td>\n",
       "            </tr>\n",
       "            <tr>\n",
       "                                <th id=\"T_b9858_level1_row10\" class=\"row_heading level1 row10\" >10</th>\n",
       "                        <td id=\"T_b9858_row10_col0\" class=\"data row10 col0\" >Решающее дерево</td>\n",
       "                        <td id=\"T_b9858_row10_col1\" class=\"data row10 col1\" >0.728</td>\n",
       "                        <td id=\"T_b9858_row10_col2\" class=\"data row10 col2\" >0.450</td>\n",
       "                        <td id=\"T_b9858_row10_col3\" class=\"data row10 col3\" >0.556</td>\n",
       "                        <td id=\"T_b9858_row10_col4\" class=\"data row10 col4\" >0.825</td>\n",
       "                        <td id=\"T_b9858_row10_col5\" class=\"data row10 col5\" >{'max_depth': 5, 'criterion': 'entropy', 'min_samples_leaf': 5}</td>\n",
       "            </tr>\n",
       "            <tr>\n",
       "                                <th id=\"T_b9858_level1_row11\" class=\"row_heading level1 row11\" >11</th>\n",
       "                        <td id=\"T_b9858_row11_col0\" class=\"data row11 col0\" >Случайный лес</td>\n",
       "                        <td id=\"T_b9858_row11_col1\" class=\"data row11 col1\" >0.754</td>\n",
       "                        <td id=\"T_b9858_row11_col2\" class=\"data row11 col2\" >0.495</td>\n",
       "                        <td id=\"T_b9858_row11_col3\" class=\"data row11 col3\" >0.598</td>\n",
       "                        <td id=\"T_b9858_row11_col4\" class=\"data row11 col4\" >0.850</td>\n",
       "                        <td id=\"T_b9858_row11_col5\" class=\"data row11 col5\" >{'n_estimators': 60, 'max_depth': 9, 'criterion': 'entropy', 'min_samples_leaf': 5}</td>\n",
       "            </tr>\n",
       "    </tbody></table>"
      ],
      "text/plain": [
       "<pandas.io.formats.style.Styler at 0x7f34e8a5fd00>"
      ]
     },
     "execution_count": 23,
     "metadata": {},
     "output_type": "execute_result"
    }
   ],
   "source": [
    "result_df = class_imbalance \\\n",
    "    + analisys('2. Взвешивание классов', features_train, target_train, features_valid, target_valid, 'balanced') \\\n",
    "    + analisys('3. Увеличение выборки', features_upsampled, target_upsampled, features_valid, target_valid) \\\n",
    "    + analisys('4. Уменьшение выборки', features_downsampled, target_downsampled, features_valid, target_valid)\n",
    "\n",
    "make_table(result_df)"
   ]
  },
  {
   "cell_type": "markdown",
   "metadata": {},
   "source": [
    "**Резюме**<br/>\n",
    "Мне удалось достичь необходимого значения параметра f1: 0.63 больше требуемых 0.59.<br/>\n",
    "Лучшее значение получается на модели случайного леса при методе борьбы с дисбалансом взвешиванием классов.<br/>\n",
    "При этом AUC ROC на этой модели также является самым высоким - 0.861.<br/>\n",
    "Это очень удобно, т.к. метод взвешивания классов уже встроен в качестве параметра конструктора модели в самой библиотеке.<br/>\n",
    "На самом деле случайный лес достигает параметра 0.59 в каждом способе борьбы с дисбалансом классов.\n",
    "<br/><br/>\n",
    "Мы также видим, что метод увеличения выборки очень близок к технике взвешивания классов. Значения f1 и AUC ROC расходятся на несколько тысячных долей. При этом техника уменьшения выборки показывает себя хуже других техник борьбы с дисбалансом.\n",
    "<br/><br/>\n",
    "Модель случайного леса показала результаты лучше, чем у логистической регрессии и решающего дерева на всех выборках."
   ]
  },
  {
   "cell_type": "markdown",
   "metadata": {},
   "source": [
    "## Тестирование модели"
   ]
  },
  {
   "cell_type": "markdown",
   "metadata": {},
   "source": [
    "Берем из сводной таблицы параметры для лучшей модели случайного леса обученного с помощью техники взвешивания классов для борьбы с дисбалансом:\n",
    "{'n_estimators': 70, 'max_depth': 13, 'criterion': 'entropy', 'min_samples_leaf': 5}"
   ]
  },
  {
   "cell_type": "markdown",
   "metadata": {},
   "source": [
    "Теперь подставим эти параметры для тестовой выборки."
   ]
  },
  {
   "cell_type": "code",
   "execution_count": 24,
   "metadata": {},
   "outputs": [
    {
     "data": {
      "text/html": [
       "<div>\n",
       "<style scoped>\n",
       "    .dataframe tbody tr th:only-of-type {\n",
       "        vertical-align: middle;\n",
       "    }\n",
       "\n",
       "    .dataframe tbody tr th {\n",
       "        vertical-align: top;\n",
       "    }\n",
       "\n",
       "    .dataframe thead th {\n",
       "        text-align: right;\n",
       "    }\n",
       "</style>\n",
       "<table border=\"1\" class=\"dataframe\">\n",
       "  <thead>\n",
       "    <tr style=\"text-align: right;\">\n",
       "      <th></th>\n",
       "      <th>Полнота</th>\n",
       "      <th>Точность</th>\n",
       "      <th>F1 метрика</th>\n",
       "      <th>AUC ROC</th>\n",
       "    </tr>\n",
       "  </thead>\n",
       "  <tbody>\n",
       "    <tr>\n",
       "      <th>0</th>\n",
       "      <td>0.643541</td>\n",
       "      <td>0.611364</td>\n",
       "      <td>0.62704</td>\n",
       "      <td>0.856813</td>\n",
       "    </tr>\n",
       "  </tbody>\n",
       "</table>\n",
       "</div>"
      ],
      "text/plain": [
       "    Полнота  Точность  F1 метрика   AUC ROC\n",
       "0  0.643541  0.611364     0.62704  0.856813"
      ]
     },
     "execution_count": 24,
     "metadata": {},
     "output_type": "execute_result"
    }
   ],
   "source": [
    "model = RandomForestClassifier(class_weight='balanced', n_estimators=70, max_depth=13, criterion='entropy', min_samples_leaf=5, random_state=12345)\n",
    "model_characteristics = model_analysis(model, features_train, target_train, features_test, target_test)\n",
    "pd.DataFrame(data=[model_characteristics])"
   ]
  },
  {
   "cell_type": "markdown",
   "metadata": {},
   "source": [
    "На тестовой выборке значение F1 близко к значению, полученному на валидационной выборке: меньше всего на 0.03, а AUC ROC меньше всего на 0.004.\n",
    "Считаем, что решение найдено."
   ]
  },
  {
   "cell_type": "code",
   "execution_count": 25,
   "metadata": {},
   "outputs": [
    {
     "data": {
      "text/plain": [
       "0.3457402812241522"
      ]
     },
     "execution_count": 25,
     "metadata": {},
     "output_type": "execute_result"
    }
   ],
   "source": [
    "dummy_model = DummyClassifier(strategy='constant', constant=1)\n",
    "dummy_model.fit(features_train, target_train)\n",
    "f1_score(dummy_model.predict(features_test), target_test)"
   ]
  },
  {
   "cell_type": "markdown",
   "metadata": {},
   "source": [
    "На константной модели значение F1 слишком мало. Можно считать нашу модель адеквктной."
   ]
  },
  {
   "cell_type": "markdown",
   "metadata": {},
   "source": [
    "## Чек-лист готовности проекта"
   ]
  },
  {
   "cell_type": "markdown",
   "metadata": {},
   "source": [
    "Поставьте 'x' в выполненных пунктах. Далее нажмите Shift+Enter."
   ]
  },
  {
   "cell_type": "markdown",
   "metadata": {},
   "source": [
    "- [x]  Jupyter Notebook открыт\n",
    "- [x]  Весь код выполняется без ошибок\n",
    "- [x]  Ячейки с кодом расположены в порядке исполнения\n",
    "- [x]  Выполнен шаг 1: данные подготовлены\n",
    "- [x]  Выполнен шаг 2: задача исследована\n",
    "    - [x]  Исследован баланс классов\n",
    "    - [x]  Изучены модели без учёта дисбаланса\n",
    "    - [x]  Написаны выводы по результатам исследования\n",
    "- [x]  Выполнен шаг 3: учтён дисбаланс\n",
    "    - [x]  Применено несколько способов борьбы с дисбалансом\n",
    "    - [x]  Написаны выводы по результатам исследования\n",
    "- [x]  Выполнен шаг 4: проведено тестирование\n",
    "- [x]  Удалось достичь *F1*-меры не менее 0.59\n",
    "- [x]  Исследована метрика *AUC-ROC*"
   ]
  },
  {
   "cell_type": "markdown",
   "metadata": {},
   "source": [
    "# Вывод"
   ]
  },
  {
   "cell_type": "markdown",
   "metadata": {},
   "source": [
    "Я подготовил исходную выборку для анализа:\n",
    "- заполнил null в колонке Tenure медианным значением признака, чтобы увеличить объем выборки для исследования\n",
    "- убрал из датасета признаки, непригодные для анализа: 'RowNumber', 'CustomerId', 'Surname'\n",
    "- преобразовал категориальные признаки в численные методом прямого кодирования\n",
    "- привел все признаки к одному масштабу\n",
    "- разлелил выборку на 3 набора: обучающий, валидационный и тестовый\n",
    "\n",
    "После чего определил ряд служебных функций для упрощения анализа.\n",
    "\n",
    "Исследовав целевые признаки я обнаружил дисбаланс классов 1:4, на котором не удается достичь требуемых значений метрики f1.\n",
    "Максимальное значение удалось рассчитать для случайного леса 0.548. \n",
    "Это оказалось меньше требуемых требуемых 0.59.\n",
    "\n",
    "Поэтому я стал применять известные мне способы борьбы с дисбалансом классов:\n",
    "- взвешивание классов\n",
    "- увеличение выборки\n",
    "- уменьшение выборки\n",
    "\n",
    "Для увеличения и уменьшения выборки нет готовых функций, поэтому пришлось написать две функции соответственно upsample и downsample.\n",
    "\n",
    "\n",
    "Для каждого их способов борьбы с дисбалансом исследовал по три модели: логистическая регрессия, решающее дерево, случайный лес.\n",
    "Случайный лес показал себя лучше на всех выборках: в каждом способе борьбы с дисбалансом классов удалось достичь значения f1 больше требуемых 0.59.\n",
    "\n",
    "Лучших показателей удалось достичь методом борьбы с дисбалансом классов путем взвешивания классов.\n",
    "\n",
    "Параметры подходящего случайного леса: 'n_estimators': 70, 'max_depth': 13, 'criterion': 'entropy', 'min_samples_leaf': 5\n",
    "\n",
    "В этом случае удалось добится показателя f1 = 0.63 c AUC ROC = 0.861.\n",
    "Эти показатели удовлетворяют условиям поставленной задачи для исследования: добиться показателя больше 0.59.\n",
    "\n",
    "Тестирование модели случайного леса подтвердило полученные результаты, f1 оказался близок к валидационному = 0.627.\n",
    "Модель прошла проверку на адекватность.\n",
    "Решение найдено."
   ]
  },
  {
   "cell_type": "code",
   "execution_count": null,
   "metadata": {},
   "outputs": [],
   "source": []
  }
 ],
 "metadata": {
  "ExecuteTimeLog": [
   {
    "duration": 52,
    "start_time": "2023-08-25T18:30:36.528Z"
   },
   {
    "duration": 1119,
    "start_time": "2023-08-25T18:30:38.599Z"
   },
   {
    "duration": 242,
    "start_time": "2023-08-25T18:30:40.806Z"
   },
   {
    "duration": 1117,
    "start_time": "2023-08-25T18:30:58.829Z"
   },
   {
    "duration": 167,
    "start_time": "2023-08-25T18:30:59.949Z"
   },
   {
    "duration": 52,
    "start_time": "2023-08-25T18:32:16.511Z"
   },
   {
    "duration": 21,
    "start_time": "2023-08-25T18:32:44.709Z"
   },
   {
    "duration": 1217,
    "start_time": "2023-08-25T18:35:04.066Z"
   },
   {
    "duration": 52,
    "start_time": "2023-08-25T18:35:05.285Z"
   },
   {
    "duration": 23,
    "start_time": "2023-08-25T18:35:05.340Z"
   },
   {
    "duration": 15,
    "start_time": "2023-08-25T18:35:05.365Z"
   },
   {
    "duration": 116,
    "start_time": "2023-08-25T18:35:05.382Z"
   },
   {
    "duration": 18,
    "start_time": "2023-08-25T18:39:16.176Z"
   },
   {
    "duration": 1188,
    "start_time": "2023-08-25T18:42:06.331Z"
   },
   {
    "duration": 53,
    "start_time": "2023-08-25T18:42:07.522Z"
   },
   {
    "duration": 25,
    "start_time": "2023-08-25T18:42:07.577Z"
   },
   {
    "duration": 382,
    "start_time": "2023-08-25T18:42:07.604Z"
   },
   {
    "duration": 9,
    "start_time": "2023-08-25T18:42:07.988Z"
   },
   {
    "duration": 123,
    "start_time": "2023-08-25T18:42:07.999Z"
   },
   {
    "duration": 231,
    "start_time": "2023-08-25T18:42:32.008Z"
   },
   {
    "duration": 21,
    "start_time": "2023-08-25T18:43:01.340Z"
   },
   {
    "duration": 8,
    "start_time": "2023-08-25T18:43:38.341Z"
   },
   {
    "duration": 18,
    "start_time": "2023-08-25T18:43:41.886Z"
   },
   {
    "duration": 1103,
    "start_time": "2023-08-25T18:44:10.199Z"
   },
   {
    "duration": 52,
    "start_time": "2023-08-25T18:44:11.304Z"
   },
   {
    "duration": 23,
    "start_time": "2023-08-25T18:44:11.357Z"
   },
   {
    "duration": 22,
    "start_time": "2023-08-25T18:44:11.381Z"
   },
   {
    "duration": 7,
    "start_time": "2023-08-25T18:44:11.405Z"
   },
   {
    "duration": 134,
    "start_time": "2023-08-25T18:44:11.414Z"
   },
   {
    "duration": 9,
    "start_time": "2023-08-25T18:44:35.585Z"
   },
   {
    "duration": 18,
    "start_time": "2023-08-25T18:44:38.036Z"
   },
   {
    "duration": 1087,
    "start_time": "2023-08-25T18:44:56.930Z"
   },
   {
    "duration": 51,
    "start_time": "2023-08-25T18:44:58.019Z"
   },
   {
    "duration": 22,
    "start_time": "2023-08-25T18:44:58.072Z"
   },
   {
    "duration": 33,
    "start_time": "2023-08-25T18:44:58.096Z"
   },
   {
    "duration": 8,
    "start_time": "2023-08-25T18:44:58.130Z"
   },
   {
    "duration": 128,
    "start_time": "2023-08-25T18:44:58.140Z"
   },
   {
    "duration": 13,
    "start_time": "2023-08-25T18:47:14.085Z"
   },
   {
    "duration": 1137,
    "start_time": "2023-08-25T19:04:40.557Z"
   },
   {
    "duration": 51,
    "start_time": "2023-08-25T19:04:41.696Z"
   },
   {
    "duration": 20,
    "start_time": "2023-08-25T19:04:41.749Z"
   },
   {
    "duration": 20,
    "start_time": "2023-08-25T19:04:41.771Z"
   },
   {
    "duration": 11,
    "start_time": "2023-08-25T19:04:41.793Z"
   },
   {
    "duration": 6,
    "start_time": "2023-08-25T19:04:41.806Z"
   },
   {
    "duration": 15,
    "start_time": "2023-08-25T19:04:41.813Z"
   },
   {
    "duration": 50,
    "start_time": "2023-08-25T19:04:41.830Z"
   },
   {
    "duration": 1189,
    "start_time": "2023-08-25T19:04:54.460Z"
   },
   {
    "duration": 53,
    "start_time": "2023-08-25T19:04:55.651Z"
   },
   {
    "duration": 24,
    "start_time": "2023-08-25T19:04:55.705Z"
   },
   {
    "duration": 28,
    "start_time": "2023-08-25T19:04:55.730Z"
   },
   {
    "duration": 30,
    "start_time": "2023-08-25T19:04:55.760Z"
   },
   {
    "duration": 17,
    "start_time": "2023-08-25T19:04:55.792Z"
   },
   {
    "duration": 23,
    "start_time": "2023-08-25T19:04:55.811Z"
   },
   {
    "duration": 54,
    "start_time": "2023-08-25T19:04:55.836Z"
   },
   {
    "duration": 1149,
    "start_time": "2023-08-25T19:05:07.550Z"
   },
   {
    "duration": 54,
    "start_time": "2023-08-25T19:05:08.701Z"
   },
   {
    "duration": 25,
    "start_time": "2023-08-25T19:05:08.756Z"
   },
   {
    "duration": 21,
    "start_time": "2023-08-25T19:05:08.782Z"
   },
   {
    "duration": 13,
    "start_time": "2023-08-25T19:05:08.805Z"
   },
   {
    "duration": 5,
    "start_time": "2023-08-25T19:05:08.820Z"
   },
   {
    "duration": 44,
    "start_time": "2023-08-25T19:05:08.826Z"
   },
   {
    "duration": 40,
    "start_time": "2023-08-25T19:05:08.872Z"
   },
   {
    "duration": 1140,
    "start_time": "2023-08-25T19:05:22.301Z"
   },
   {
    "duration": 52,
    "start_time": "2023-08-25T19:05:23.444Z"
   },
   {
    "duration": 22,
    "start_time": "2023-08-25T19:05:23.498Z"
   },
   {
    "duration": 21,
    "start_time": "2023-08-25T19:05:23.521Z"
   },
   {
    "duration": 31,
    "start_time": "2023-08-25T19:05:23.545Z"
   },
   {
    "duration": 5,
    "start_time": "2023-08-25T19:05:23.578Z"
   },
   {
    "duration": 16,
    "start_time": "2023-08-25T19:05:23.585Z"
   },
   {
    "duration": 126,
    "start_time": "2023-08-25T19:05:23.602Z"
   },
   {
    "duration": 1223,
    "start_time": "2023-08-25T19:05:45.852Z"
   },
   {
    "duration": 55,
    "start_time": "2023-08-25T19:05:47.078Z"
   },
   {
    "duration": 23,
    "start_time": "2023-08-25T19:05:47.135Z"
   },
   {
    "duration": 22,
    "start_time": "2023-08-25T19:05:47.160Z"
   },
   {
    "duration": 13,
    "start_time": "2023-08-25T19:05:47.184Z"
   },
   {
    "duration": 5,
    "start_time": "2023-08-25T19:05:47.199Z"
   },
   {
    "duration": 7,
    "start_time": "2023-08-25T19:05:47.206Z"
   },
   {
    "duration": 75,
    "start_time": "2023-08-25T19:05:47.214Z"
   },
   {
    "duration": 1187,
    "start_time": "2023-08-25T19:08:55.252Z"
   },
   {
    "duration": 50,
    "start_time": "2023-08-25T19:08:56.442Z"
   },
   {
    "duration": 20,
    "start_time": "2023-08-25T19:08:56.494Z"
   },
   {
    "duration": 19,
    "start_time": "2023-08-25T19:08:56.515Z"
   },
   {
    "duration": 31,
    "start_time": "2023-08-25T19:08:56.536Z"
   },
   {
    "duration": 105,
    "start_time": "2023-08-25T19:08:56.569Z"
   },
   {
    "duration": 0,
    "start_time": "2023-08-25T19:08:56.675Z"
   },
   {
    "duration": 0,
    "start_time": "2023-08-25T19:08:56.676Z"
   },
   {
    "duration": 0,
    "start_time": "2023-08-25T19:08:56.677Z"
   },
   {
    "duration": 1113,
    "start_time": "2023-08-25T19:09:17.210Z"
   },
   {
    "duration": 52,
    "start_time": "2023-08-25T19:09:18.325Z"
   },
   {
    "duration": 21,
    "start_time": "2023-08-25T19:09:18.379Z"
   },
   {
    "duration": 28,
    "start_time": "2023-08-25T19:09:18.402Z"
   },
   {
    "duration": 42,
    "start_time": "2023-08-25T19:09:18.432Z"
   },
   {
    "duration": 109,
    "start_time": "2023-08-25T19:09:18.476Z"
   },
   {
    "duration": 0,
    "start_time": "2023-08-25T19:09:18.587Z"
   },
   {
    "duration": 0,
    "start_time": "2023-08-25T19:09:18.588Z"
   },
   {
    "duration": 0,
    "start_time": "2023-08-25T19:09:18.589Z"
   },
   {
    "duration": 1169,
    "start_time": "2023-08-25T19:28:16.335Z"
   },
   {
    "duration": 53,
    "start_time": "2023-08-25T19:28:17.506Z"
   },
   {
    "duration": 22,
    "start_time": "2023-08-25T19:28:17.560Z"
   },
   {
    "duration": 22,
    "start_time": "2023-08-25T19:28:17.584Z"
   },
   {
    "duration": 12,
    "start_time": "2023-08-25T19:28:17.607Z"
   },
   {
    "duration": 121,
    "start_time": "2023-08-25T19:28:17.621Z"
   },
   {
    "duration": 0,
    "start_time": "2023-08-25T19:28:17.744Z"
   },
   {
    "duration": 0,
    "start_time": "2023-08-25T19:28:17.745Z"
   },
   {
    "duration": 0,
    "start_time": "2023-08-25T19:28:17.746Z"
   },
   {
    "duration": 1159,
    "start_time": "2023-08-25T19:30:24.772Z"
   },
   {
    "duration": 52,
    "start_time": "2023-08-25T19:30:25.933Z"
   },
   {
    "duration": 21,
    "start_time": "2023-08-25T19:30:25.988Z"
   },
   {
    "duration": 21,
    "start_time": "2023-08-25T19:30:26.011Z"
   },
   {
    "duration": 36,
    "start_time": "2023-08-25T19:30:26.034Z"
   },
   {
    "duration": 117,
    "start_time": "2023-08-25T19:30:26.072Z"
   },
   {
    "duration": 1,
    "start_time": "2023-08-25T19:30:26.190Z"
   },
   {
    "duration": 0,
    "start_time": "2023-08-25T19:30:26.192Z"
   },
   {
    "duration": 0,
    "start_time": "2023-08-25T19:30:26.193Z"
   },
   {
    "duration": 1072,
    "start_time": "2023-08-25T19:30:52.721Z"
   },
   {
    "duration": 52,
    "start_time": "2023-08-25T19:30:53.795Z"
   },
   {
    "duration": 22,
    "start_time": "2023-08-25T19:30:53.849Z"
   },
   {
    "duration": 27,
    "start_time": "2023-08-25T19:30:53.873Z"
   },
   {
    "duration": 17,
    "start_time": "2023-08-25T19:30:53.902Z"
   },
   {
    "duration": 68,
    "start_time": "2023-08-25T19:30:53.921Z"
   },
   {
    "duration": 0,
    "start_time": "2023-08-25T19:30:53.991Z"
   },
   {
    "duration": 0,
    "start_time": "2023-08-25T19:30:53.992Z"
   },
   {
    "duration": 0,
    "start_time": "2023-08-25T19:30:53.993Z"
   },
   {
    "duration": 1123,
    "start_time": "2023-08-25T19:31:11.801Z"
   },
   {
    "duration": 51,
    "start_time": "2023-08-25T19:31:12.926Z"
   },
   {
    "duration": 21,
    "start_time": "2023-08-25T19:31:12.979Z"
   },
   {
    "duration": 32,
    "start_time": "2023-08-25T19:31:13.002Z"
   },
   {
    "duration": 11,
    "start_time": "2023-08-25T19:31:13.036Z"
   },
   {
    "duration": 18,
    "start_time": "2023-08-25T19:31:13.049Z"
   },
   {
    "duration": 32,
    "start_time": "2023-08-25T19:31:13.069Z"
   },
   {
    "duration": 25,
    "start_time": "2023-08-25T19:31:13.102Z"
   },
   {
    "duration": 66,
    "start_time": "2023-08-25T19:31:13.129Z"
   },
   {
    "duration": 1176,
    "start_time": "2023-08-25T19:31:27.450Z"
   },
   {
    "duration": 51,
    "start_time": "2023-08-25T19:31:28.629Z"
   },
   {
    "duration": 21,
    "start_time": "2023-08-25T19:31:28.682Z"
   },
   {
    "duration": 20,
    "start_time": "2023-08-25T19:31:28.705Z"
   },
   {
    "duration": 10,
    "start_time": "2023-08-25T19:31:28.726Z"
   },
   {
    "duration": 18,
    "start_time": "2023-08-25T19:31:28.738Z"
   },
   {
    "duration": 30,
    "start_time": "2023-08-25T19:31:28.757Z"
   },
   {
    "duration": 31,
    "start_time": "2023-08-25T19:31:28.789Z"
   },
   {
    "duration": 112,
    "start_time": "2023-08-25T19:31:28.822Z"
   },
   {
    "duration": 10,
    "start_time": "2023-08-25T19:33:37.431Z"
   },
   {
    "duration": 9,
    "start_time": "2023-08-25T19:36:06.497Z"
   },
   {
    "duration": 1212,
    "start_time": "2023-08-25T19:38:25.230Z"
   },
   {
    "duration": 52,
    "start_time": "2023-08-25T19:38:26.445Z"
   },
   {
    "duration": 23,
    "start_time": "2023-08-25T19:38:26.499Z"
   },
   {
    "duration": 22,
    "start_time": "2023-08-25T19:38:26.523Z"
   },
   {
    "duration": 29,
    "start_time": "2023-08-25T19:38:26.547Z"
   },
   {
    "duration": 2,
    "start_time": "2023-08-25T19:38:26.578Z"
   },
   {
    "duration": 13,
    "start_time": "2023-08-25T19:38:26.582Z"
   },
   {
    "duration": 12,
    "start_time": "2023-08-25T19:38:26.597Z"
   },
   {
    "duration": 58,
    "start_time": "2023-08-25T19:38:26.611Z"
   },
   {
    "duration": 1123,
    "start_time": "2023-08-25T19:39:46.122Z"
   },
   {
    "duration": 65,
    "start_time": "2023-08-25T19:39:47.247Z"
   },
   {
    "duration": 15,
    "start_time": "2023-08-25T19:39:47.315Z"
   },
   {
    "duration": 38,
    "start_time": "2023-08-25T19:39:47.332Z"
   },
   {
    "duration": 15,
    "start_time": "2023-08-25T19:39:47.373Z"
   },
   {
    "duration": 9,
    "start_time": "2023-08-25T19:39:47.390Z"
   },
   {
    "duration": 14,
    "start_time": "2023-08-25T19:39:47.401Z"
   },
   {
    "duration": 23,
    "start_time": "2023-08-25T19:39:47.417Z"
   },
   {
    "duration": 56,
    "start_time": "2023-08-25T19:39:47.441Z"
   },
   {
    "duration": 8,
    "start_time": "2023-08-25T19:41:30.416Z"
   },
   {
    "duration": 1148,
    "start_time": "2023-08-25T19:43:15.417Z"
   },
   {
    "duration": 61,
    "start_time": "2023-08-25T19:43:16.568Z"
   },
   {
    "duration": 14,
    "start_time": "2023-08-25T19:43:16.631Z"
   },
   {
    "duration": 18,
    "start_time": "2023-08-25T19:43:16.647Z"
   },
   {
    "duration": 69,
    "start_time": "2023-08-25T19:43:16.668Z"
   },
   {
    "duration": 0,
    "start_time": "2023-08-25T19:43:16.739Z"
   },
   {
    "duration": 0,
    "start_time": "2023-08-25T19:43:16.740Z"
   },
   {
    "duration": 0,
    "start_time": "2023-08-25T19:43:16.741Z"
   },
   {
    "duration": 0,
    "start_time": "2023-08-25T19:43:16.742Z"
   },
   {
    "duration": 0,
    "start_time": "2023-08-25T19:43:16.743Z"
   },
   {
    "duration": 0,
    "start_time": "2023-08-25T19:43:16.745Z"
   },
   {
    "duration": 0,
    "start_time": "2023-08-25T19:43:16.746Z"
   },
   {
    "duration": 1209,
    "start_time": "2023-08-25T19:43:35.502Z"
   },
   {
    "duration": 65,
    "start_time": "2023-08-25T19:43:36.714Z"
   },
   {
    "duration": 13,
    "start_time": "2023-08-25T19:43:36.784Z"
   },
   {
    "duration": 13,
    "start_time": "2023-08-25T19:43:36.799Z"
   },
   {
    "duration": 17,
    "start_time": "2023-08-25T19:43:36.814Z"
   },
   {
    "duration": 249,
    "start_time": "2023-08-25T19:43:36.833Z"
   },
   {
    "duration": 169,
    "start_time": "2023-08-25T19:43:37.084Z"
   },
   {
    "duration": 3,
    "start_time": "2023-08-25T19:43:37.256Z"
   },
   {
    "duration": 6,
    "start_time": "2023-08-25T19:43:37.262Z"
   },
   {
    "duration": 140,
    "start_time": "2023-08-25T19:43:37.270Z"
   },
   {
    "duration": 1409,
    "start_time": "2023-08-25T19:43:37.412Z"
   },
   {
    "duration": 1214,
    "start_time": "2023-08-25T19:48:01.303Z"
   },
   {
    "duration": 66,
    "start_time": "2023-08-25T19:48:02.519Z"
   },
   {
    "duration": 16,
    "start_time": "2023-08-25T19:48:02.587Z"
   },
   {
    "duration": 15,
    "start_time": "2023-08-25T19:48:02.605Z"
   },
   {
    "duration": 9,
    "start_time": "2023-08-25T19:48:02.622Z"
   },
   {
    "duration": 122,
    "start_time": "2023-08-25T19:48:02.633Z"
   },
   {
    "duration": 0,
    "start_time": "2023-08-25T19:48:02.756Z"
   },
   {
    "duration": 0,
    "start_time": "2023-08-25T19:48:02.767Z"
   },
   {
    "duration": 0,
    "start_time": "2023-08-25T19:48:02.769Z"
   },
   {
    "duration": 0,
    "start_time": "2023-08-25T19:48:02.770Z"
   },
   {
    "duration": 1204,
    "start_time": "2023-08-25T19:48:22.434Z"
   },
   {
    "duration": 63,
    "start_time": "2023-08-25T19:48:23.640Z"
   },
   {
    "duration": 13,
    "start_time": "2023-08-25T19:48:23.704Z"
   },
   {
    "duration": 8,
    "start_time": "2023-08-25T19:48:23.718Z"
   },
   {
    "duration": 4,
    "start_time": "2023-08-25T19:48:23.728Z"
   },
   {
    "duration": 35,
    "start_time": "2023-08-25T19:48:23.733Z"
   },
   {
    "duration": 25,
    "start_time": "2023-08-25T19:48:23.770Z"
   },
   {
    "duration": 2,
    "start_time": "2023-08-25T19:48:23.797Z"
   },
   {
    "duration": 11,
    "start_time": "2023-08-25T19:48:23.801Z"
   },
   {
    "duration": 66,
    "start_time": "2023-08-25T19:48:23.814Z"
   },
   {
    "duration": 55,
    "start_time": "2023-08-26T10:15:05.356Z"
   },
   {
    "duration": 1212,
    "start_time": "2023-08-26T10:15:13.037Z"
   },
   {
    "duration": 109,
    "start_time": "2023-08-26T10:15:14.251Z"
   },
   {
    "duration": 12,
    "start_time": "2023-08-26T10:15:14.362Z"
   },
   {
    "duration": 20,
    "start_time": "2023-08-26T10:15:14.375Z"
   },
   {
    "duration": 8,
    "start_time": "2023-08-26T10:15:14.397Z"
   },
   {
    "duration": 19,
    "start_time": "2023-08-26T10:15:14.406Z"
   },
   {
    "duration": 22,
    "start_time": "2023-08-26T10:15:14.428Z"
   },
   {
    "duration": 12,
    "start_time": "2023-08-26T10:15:14.452Z"
   },
   {
    "duration": 13,
    "start_time": "2023-08-26T10:15:14.466Z"
   },
   {
    "duration": 69,
    "start_time": "2023-08-26T10:15:14.481Z"
   },
   {
    "duration": 1261,
    "start_time": "2023-08-26T10:17:59.356Z"
   },
   {
    "duration": 65,
    "start_time": "2023-08-26T10:18:00.619Z"
   },
   {
    "duration": 14,
    "start_time": "2023-08-26T10:18:00.686Z"
   },
   {
    "duration": 29,
    "start_time": "2023-08-26T10:18:00.702Z"
   },
   {
    "duration": 13,
    "start_time": "2023-08-26T10:18:00.734Z"
   },
   {
    "duration": 50,
    "start_time": "2023-08-26T10:18:00.749Z"
   },
   {
    "duration": 52,
    "start_time": "2023-08-26T10:18:00.801Z"
   },
   {
    "duration": 13,
    "start_time": "2023-08-26T10:18:00.855Z"
   },
   {
    "duration": 34,
    "start_time": "2023-08-26T10:18:00.870Z"
   },
   {
    "duration": 68,
    "start_time": "2023-08-26T10:18:00.906Z"
   },
   {
    "duration": 114,
    "start_time": "2023-08-26T10:19:19.582Z"
   },
   {
    "duration": 1118,
    "start_time": "2023-08-26T10:19:53.794Z"
   },
   {
    "duration": 58,
    "start_time": "2023-08-26T10:19:54.914Z"
   },
   {
    "duration": 12,
    "start_time": "2023-08-26T10:19:54.973Z"
   },
   {
    "duration": 6,
    "start_time": "2023-08-26T10:19:54.987Z"
   },
   {
    "duration": 6,
    "start_time": "2023-08-26T10:19:54.995Z"
   },
   {
    "duration": 13,
    "start_time": "2023-08-26T10:19:55.002Z"
   },
   {
    "duration": 36,
    "start_time": "2023-08-26T10:19:55.017Z"
   },
   {
    "duration": 11,
    "start_time": "2023-08-26T10:19:55.055Z"
   },
   {
    "duration": 124,
    "start_time": "2023-08-26T10:19:55.067Z"
   },
   {
    "duration": 0,
    "start_time": "2023-08-26T10:19:55.193Z"
   },
   {
    "duration": 0,
    "start_time": "2023-08-26T10:19:55.194Z"
   },
   {
    "duration": 15,
    "start_time": "2023-08-26T10:20:13.374Z"
   },
   {
    "duration": 7,
    "start_time": "2023-08-26T10:21:36.687Z"
   },
   {
    "duration": 46,
    "start_time": "2023-08-26T10:24:31.621Z"
   },
   {
    "duration": 32,
    "start_time": "2023-08-26T10:25:06.901Z"
   },
   {
    "duration": 13,
    "start_time": "2023-08-26T10:25:36.547Z"
   },
   {
    "duration": 1278,
    "start_time": "2023-08-26T10:25:58.857Z"
   },
   {
    "duration": 77,
    "start_time": "2023-08-26T10:26:00.138Z"
   },
   {
    "duration": 20,
    "start_time": "2023-08-26T10:26:00.217Z"
   },
   {
    "duration": 112,
    "start_time": "2023-08-26T10:26:00.240Z"
   },
   {
    "duration": 89,
    "start_time": "2023-08-26T10:26:00.355Z"
   },
   {
    "duration": 107,
    "start_time": "2023-08-26T10:26:00.446Z"
   },
   {
    "duration": 65,
    "start_time": "2023-08-26T10:26:00.555Z"
   },
   {
    "duration": 46,
    "start_time": "2023-08-26T10:26:00.622Z"
   },
   {
    "duration": 60,
    "start_time": "2023-08-26T10:26:00.670Z"
   },
   {
    "duration": 61,
    "start_time": "2023-08-26T10:26:00.732Z"
   },
   {
    "duration": 12,
    "start_time": "2023-08-26T10:26:00.795Z"
   },
   {
    "duration": 89,
    "start_time": "2023-08-26T10:26:00.808Z"
   },
   {
    "duration": 1131,
    "start_time": "2023-08-26T10:32:57.786Z"
   },
   {
    "duration": 78,
    "start_time": "2023-08-26T10:32:58.919Z"
   },
   {
    "duration": 14,
    "start_time": "2023-08-26T10:32:58.999Z"
   },
   {
    "duration": 7,
    "start_time": "2023-08-26T10:32:59.016Z"
   },
   {
    "duration": 5,
    "start_time": "2023-08-26T10:32:59.034Z"
   },
   {
    "duration": 31,
    "start_time": "2023-08-26T10:32:59.045Z"
   },
   {
    "duration": 18,
    "start_time": "2023-08-26T10:32:59.078Z"
   },
   {
    "duration": 11,
    "start_time": "2023-08-26T10:32:59.097Z"
   },
   {
    "duration": 9,
    "start_time": "2023-08-26T10:32:59.109Z"
   },
   {
    "duration": 55,
    "start_time": "2023-08-26T10:32:59.120Z"
   },
   {
    "duration": 10,
    "start_time": "2023-08-26T10:32:59.176Z"
   },
   {
    "duration": 54,
    "start_time": "2023-08-26T10:32:59.188Z"
   },
   {
    "duration": 10,
    "start_time": "2023-08-26T10:32:59.244Z"
   },
   {
    "duration": 104,
    "start_time": "2023-08-26T10:42:18.678Z"
   },
   {
    "duration": 1771,
    "start_time": "2023-08-26T10:42:38.166Z"
   },
   {
    "duration": 61,
    "start_time": "2023-08-26T10:42:39.941Z"
   },
   {
    "duration": 12,
    "start_time": "2023-08-26T10:42:40.006Z"
   },
   {
    "duration": 9,
    "start_time": "2023-08-26T10:42:40.019Z"
   },
   {
    "duration": 15,
    "start_time": "2023-08-26T10:42:40.030Z"
   },
   {
    "duration": 17,
    "start_time": "2023-08-26T10:42:40.047Z"
   },
   {
    "duration": 21,
    "start_time": "2023-08-26T10:42:40.066Z"
   },
   {
    "duration": 12,
    "start_time": "2023-08-26T10:42:40.088Z"
   },
   {
    "duration": 8,
    "start_time": "2023-08-26T10:42:40.101Z"
   },
   {
    "duration": 56,
    "start_time": "2023-08-26T10:42:40.110Z"
   },
   {
    "duration": 12,
    "start_time": "2023-08-26T10:42:40.167Z"
   },
   {
    "duration": 63,
    "start_time": "2023-08-26T10:42:40.180Z"
   },
   {
    "duration": 8,
    "start_time": "2023-08-26T10:42:40.245Z"
   },
   {
    "duration": 11,
    "start_time": "2023-08-26T10:42:40.255Z"
   },
   {
    "duration": 1383,
    "start_time": "2023-08-26T10:43:38.402Z"
   },
   {
    "duration": 67,
    "start_time": "2023-08-26T10:43:39.787Z"
   },
   {
    "duration": 12,
    "start_time": "2023-08-26T10:43:39.856Z"
   },
   {
    "duration": 42,
    "start_time": "2023-08-26T10:43:39.870Z"
   },
   {
    "duration": 17,
    "start_time": "2023-08-26T10:43:39.914Z"
   },
   {
    "duration": 21,
    "start_time": "2023-08-26T10:43:39.937Z"
   },
   {
    "duration": 17,
    "start_time": "2023-08-26T10:43:39.959Z"
   },
   {
    "duration": 12,
    "start_time": "2023-08-26T10:43:39.977Z"
   },
   {
    "duration": 27,
    "start_time": "2023-08-26T10:43:39.990Z"
   },
   {
    "duration": 55,
    "start_time": "2023-08-26T10:43:40.018Z"
   },
   {
    "duration": 12,
    "start_time": "2023-08-26T10:43:40.075Z"
   },
   {
    "duration": 70,
    "start_time": "2023-08-26T10:43:40.088Z"
   },
   {
    "duration": 6,
    "start_time": "2023-08-26T10:43:40.160Z"
   },
   {
    "duration": 33,
    "start_time": "2023-08-26T10:43:40.168Z"
   },
   {
    "duration": 80,
    "start_time": "2023-08-26T10:43:40.203Z"
   },
   {
    "duration": 1147,
    "start_time": "2023-08-26T10:48:42.608Z"
   },
   {
    "duration": 57,
    "start_time": "2023-08-26T10:48:43.757Z"
   },
   {
    "duration": 14,
    "start_time": "2023-08-26T10:48:43.815Z"
   },
   {
    "duration": 21,
    "start_time": "2023-08-26T10:48:43.833Z"
   },
   {
    "duration": 4,
    "start_time": "2023-08-26T10:48:43.856Z"
   },
   {
    "duration": 17,
    "start_time": "2023-08-26T10:48:43.862Z"
   },
   {
    "duration": 35,
    "start_time": "2023-08-26T10:48:43.881Z"
   },
   {
    "duration": 23,
    "start_time": "2023-08-26T10:48:43.917Z"
   },
   {
    "duration": 12,
    "start_time": "2023-08-26T10:48:43.945Z"
   },
   {
    "duration": 38,
    "start_time": "2023-08-26T10:48:43.959Z"
   },
   {
    "duration": 12,
    "start_time": "2023-08-26T10:48:43.998Z"
   },
   {
    "duration": 63,
    "start_time": "2023-08-26T10:48:44.012Z"
   },
   {
    "duration": 4,
    "start_time": "2023-08-26T10:48:44.077Z"
   },
   {
    "duration": 11,
    "start_time": "2023-08-26T10:48:44.083Z"
   },
   {
    "duration": 39,
    "start_time": "2023-08-26T10:48:44.095Z"
   },
   {
    "duration": 17,
    "start_time": "2023-08-26T10:48:44.135Z"
   },
   {
    "duration": 42,
    "start_time": "2023-08-26T11:03:31.246Z"
   },
   {
    "duration": 13974,
    "start_time": "2023-08-26T11:21:09.721Z"
   },
   {
    "duration": 71,
    "start_time": "2023-08-26T11:21:23.697Z"
   },
   {
    "duration": 13,
    "start_time": "2023-08-26T11:21:23.769Z"
   },
   {
    "duration": 66,
    "start_time": "2023-08-26T11:21:23.784Z"
   },
   {
    "duration": 37,
    "start_time": "2023-08-26T11:21:23.852Z"
   },
   {
    "duration": 36,
    "start_time": "2023-08-26T11:21:23.891Z"
   },
   {
    "duration": 48,
    "start_time": "2023-08-26T11:21:23.932Z"
   },
   {
    "duration": 18,
    "start_time": "2023-08-26T11:21:23.982Z"
   },
   {
    "duration": 65,
    "start_time": "2023-08-26T11:21:24.003Z"
   },
   {
    "duration": 114,
    "start_time": "2023-08-26T11:21:24.070Z"
   },
   {
    "duration": 13,
    "start_time": "2023-08-26T11:21:24.185Z"
   },
   {
    "duration": 63,
    "start_time": "2023-08-26T11:21:24.200Z"
   },
   {
    "duration": 10,
    "start_time": "2023-08-26T11:21:24.266Z"
   },
   {
    "duration": 20,
    "start_time": "2023-08-26T11:21:24.277Z"
   },
   {
    "duration": 55,
    "start_time": "2023-08-26T11:21:24.298Z"
   },
   {
    "duration": 41,
    "start_time": "2023-08-26T11:21:24.357Z"
   },
   {
    "duration": 52,
    "start_time": "2023-08-26T11:21:24.400Z"
   },
   {
    "duration": 120,
    "start_time": "2023-08-26T11:21:24.458Z"
   },
   {
    "duration": 0,
    "start_time": "2023-08-26T11:21:24.580Z"
   },
   {
    "duration": 20662,
    "start_time": "2023-08-26T12:30:27.859Z"
   },
   {
    "duration": 97,
    "start_time": "2023-08-26T12:30:48.523Z"
   },
   {
    "duration": 13,
    "start_time": "2023-08-26T12:30:48.621Z"
   },
   {
    "duration": 15,
    "start_time": "2023-08-26T12:30:48.635Z"
   },
   {
    "duration": 33,
    "start_time": "2023-08-26T12:30:48.651Z"
   },
   {
    "duration": 33,
    "start_time": "2023-08-26T12:30:48.686Z"
   },
   {
    "duration": 26,
    "start_time": "2023-08-26T12:30:48.721Z"
   },
   {
    "duration": 23,
    "start_time": "2023-08-26T12:30:48.749Z"
   },
   {
    "duration": 21,
    "start_time": "2023-08-26T12:30:48.774Z"
   },
   {
    "duration": 65,
    "start_time": "2023-08-26T12:30:48.796Z"
   },
   {
    "duration": 14,
    "start_time": "2023-08-26T12:30:48.863Z"
   },
   {
    "duration": 85,
    "start_time": "2023-08-26T12:30:48.879Z"
   },
   {
    "duration": 28,
    "start_time": "2023-08-26T12:30:48.965Z"
   },
   {
    "duration": 37,
    "start_time": "2023-08-26T12:30:48.995Z"
   },
   {
    "duration": 8,
    "start_time": "2023-08-26T12:30:49.034Z"
   },
   {
    "duration": 10,
    "start_time": "2023-08-26T12:30:49.043Z"
   },
   {
    "duration": 45,
    "start_time": "2023-08-26T12:30:49.055Z"
   },
   {
    "duration": 69,
    "start_time": "2023-08-26T12:30:49.102Z"
   },
   {
    "duration": 36588,
    "start_time": "2023-08-26T12:30:49.174Z"
   },
   {
    "duration": 43,
    "start_time": "2023-08-26T13:28:43.253Z"
   },
   {
    "duration": 1348,
    "start_time": "2023-08-26T13:32:29.993Z"
   },
   {
    "duration": 58,
    "start_time": "2023-08-26T13:32:31.343Z"
   },
   {
    "duration": 145,
    "start_time": "2023-08-26T13:32:31.403Z"
   },
   {
    "duration": 0,
    "start_time": "2023-08-26T13:32:31.550Z"
   },
   {
    "duration": 0,
    "start_time": "2023-08-26T13:32:31.553Z"
   },
   {
    "duration": 0,
    "start_time": "2023-08-26T13:32:31.554Z"
   },
   {
    "duration": 0,
    "start_time": "2023-08-26T13:32:31.556Z"
   },
   {
    "duration": 0,
    "start_time": "2023-08-26T13:32:31.558Z"
   },
   {
    "duration": 0,
    "start_time": "2023-08-26T13:32:31.559Z"
   },
   {
    "duration": 0,
    "start_time": "2023-08-26T13:32:31.560Z"
   },
   {
    "duration": 0,
    "start_time": "2023-08-26T13:32:31.562Z"
   },
   {
    "duration": 0,
    "start_time": "2023-08-26T13:32:31.564Z"
   },
   {
    "duration": 0,
    "start_time": "2023-08-26T13:32:31.565Z"
   },
   {
    "duration": 0,
    "start_time": "2023-08-26T13:32:31.566Z"
   },
   {
    "duration": 0,
    "start_time": "2023-08-26T13:32:31.568Z"
   },
   {
    "duration": 0,
    "start_time": "2023-08-26T13:32:31.570Z"
   },
   {
    "duration": 0,
    "start_time": "2023-08-26T13:32:31.571Z"
   },
   {
    "duration": 0,
    "start_time": "2023-08-26T13:32:31.572Z"
   },
   {
    "duration": 0,
    "start_time": "2023-08-26T13:32:31.574Z"
   },
   {
    "duration": 0,
    "start_time": "2023-08-26T13:32:31.575Z"
   },
   {
    "duration": 1137,
    "start_time": "2023-08-26T13:32:49.849Z"
   },
   {
    "duration": 58,
    "start_time": "2023-08-26T13:32:50.988Z"
   },
   {
    "duration": 13,
    "start_time": "2023-08-26T13:32:51.047Z"
   },
   {
    "duration": 11,
    "start_time": "2023-08-26T13:32:51.062Z"
   },
   {
    "duration": 18,
    "start_time": "2023-08-26T13:32:51.075Z"
   },
   {
    "duration": 26,
    "start_time": "2023-08-26T13:32:51.094Z"
   },
   {
    "duration": 31,
    "start_time": "2023-08-26T13:32:51.122Z"
   },
   {
    "duration": 13,
    "start_time": "2023-08-26T13:32:51.155Z"
   },
   {
    "duration": 8,
    "start_time": "2023-08-26T13:32:51.170Z"
   },
   {
    "duration": 57,
    "start_time": "2023-08-26T13:32:51.180Z"
   },
   {
    "duration": 11,
    "start_time": "2023-08-26T13:32:51.239Z"
   },
   {
    "duration": 51,
    "start_time": "2023-08-26T13:32:51.252Z"
   },
   {
    "duration": 5,
    "start_time": "2023-08-26T13:32:51.305Z"
   },
   {
    "duration": 15,
    "start_time": "2023-08-26T13:32:51.312Z"
   },
   {
    "duration": 26,
    "start_time": "2023-08-26T13:32:51.328Z"
   },
   {
    "duration": 19,
    "start_time": "2023-08-26T13:32:51.356Z"
   },
   {
    "duration": 72,
    "start_time": "2023-08-26T13:32:51.377Z"
   },
   {
    "duration": 67,
    "start_time": "2023-08-26T13:32:51.450Z"
   },
   {
    "duration": 504,
    "start_time": "2023-08-26T13:32:51.524Z"
   },
   {
    "duration": 3,
    "start_time": "2023-08-26T13:33:08.142Z"
   },
   {
    "duration": 103,
    "start_time": "2023-08-26T13:34:48.203Z"
   },
   {
    "duration": 57,
    "start_time": "2023-08-26T13:35:02.523Z"
   },
   {
    "duration": 58,
    "start_time": "2023-08-26T13:35:08.581Z"
   },
   {
    "duration": 29,
    "start_time": "2023-08-26T13:35:23.954Z"
   },
   {
    "duration": 10,
    "start_time": "2023-08-26T13:43:32.220Z"
   },
   {
    "duration": 10,
    "start_time": "2023-08-26T13:43:52.935Z"
   },
   {
    "duration": 11,
    "start_time": "2023-08-26T13:45:04.035Z"
   },
   {
    "duration": 1691,
    "start_time": "2023-08-26T13:45:10.597Z"
   },
   {
    "duration": 1441,
    "start_time": "2023-08-26T13:47:34.098Z"
   },
   {
    "duration": 56,
    "start_time": "2023-08-26T13:47:35.541Z"
   },
   {
    "duration": 13,
    "start_time": "2023-08-26T13:47:35.599Z"
   },
   {
    "duration": 18,
    "start_time": "2023-08-26T13:47:35.614Z"
   },
   {
    "duration": 15,
    "start_time": "2023-08-26T13:47:35.633Z"
   },
   {
    "duration": 42,
    "start_time": "2023-08-26T13:47:35.650Z"
   },
   {
    "duration": 21,
    "start_time": "2023-08-26T13:47:35.694Z"
   },
   {
    "duration": 11,
    "start_time": "2023-08-26T13:47:35.716Z"
   },
   {
    "duration": 10,
    "start_time": "2023-08-26T13:47:35.729Z"
   },
   {
    "duration": 101,
    "start_time": "2023-08-26T13:47:35.741Z"
   },
   {
    "duration": 16,
    "start_time": "2023-08-26T13:47:35.845Z"
   },
   {
    "duration": 61,
    "start_time": "2023-08-26T13:47:35.863Z"
   },
   {
    "duration": 7,
    "start_time": "2023-08-26T13:47:35.927Z"
   },
   {
    "duration": 24,
    "start_time": "2023-08-26T13:47:35.937Z"
   },
   {
    "duration": 10,
    "start_time": "2023-08-26T13:47:35.963Z"
   },
   {
    "duration": 7,
    "start_time": "2023-08-26T13:47:35.975Z"
   },
   {
    "duration": 1673,
    "start_time": "2023-08-26T13:47:35.985Z"
   },
   {
    "duration": 1071,
    "start_time": "2023-08-26T13:47:37.661Z"
   },
   {
    "duration": 42,
    "start_time": "2023-08-26T13:47:38.734Z"
   },
   {
    "duration": 69,
    "start_time": "2023-08-26T13:47:38.777Z"
   },
   {
    "duration": 29,
    "start_time": "2023-08-26T13:47:38.847Z"
   },
   {
    "duration": 1682,
    "start_time": "2023-08-26T13:49:36.594Z"
   },
   {
    "duration": 1028,
    "start_time": "2023-08-26T13:49:44.322Z"
   },
   {
    "duration": 1711,
    "start_time": "2023-08-26T13:50:33.580Z"
   },
   {
    "duration": 1713,
    "start_time": "2023-08-26T13:51:21.460Z"
   },
   {
    "duration": 3294,
    "start_time": "2023-08-26T13:51:28.810Z"
   },
   {
    "duration": 6704,
    "start_time": "2023-08-26T13:52:03.435Z"
   },
   {
    "duration": 5034,
    "start_time": "2023-08-26T13:52:29.351Z"
   },
   {
    "duration": 1751,
    "start_time": "2023-08-26T13:52:40.973Z"
   },
   {
    "duration": 3323,
    "start_time": "2023-08-26T13:52:51.436Z"
   },
   {
    "duration": 218,
    "start_time": "2023-08-26T13:54:44.141Z"
   },
   {
    "duration": 301,
    "start_time": "2023-08-26T13:55:28.779Z"
   },
   {
    "duration": 124,
    "start_time": "2023-08-26T13:56:05.683Z"
   },
   {
    "duration": 1093,
    "start_time": "2023-08-26T19:42:51.655Z"
   },
   {
    "duration": 108,
    "start_time": "2023-08-26T19:42:52.750Z"
   },
   {
    "duration": 13,
    "start_time": "2023-08-26T19:42:52.860Z"
   },
   {
    "duration": 20,
    "start_time": "2023-08-26T19:42:52.876Z"
   },
   {
    "duration": 28,
    "start_time": "2023-08-26T19:42:52.898Z"
   },
   {
    "duration": 30,
    "start_time": "2023-08-26T19:42:52.928Z"
   },
   {
    "duration": 52,
    "start_time": "2023-08-26T19:42:52.961Z"
   },
   {
    "duration": 21,
    "start_time": "2023-08-26T19:42:53.016Z"
   },
   {
    "duration": 49,
    "start_time": "2023-08-26T19:42:53.039Z"
   },
   {
    "duration": 57,
    "start_time": "2023-08-26T19:42:53.091Z"
   },
   {
    "duration": 79,
    "start_time": "2023-08-26T19:42:53.150Z"
   },
   {
    "duration": 62,
    "start_time": "2023-08-26T19:42:53.231Z"
   },
   {
    "duration": 9,
    "start_time": "2023-08-26T19:42:53.295Z"
   },
   {
    "duration": 12,
    "start_time": "2023-08-26T19:42:53.311Z"
   },
   {
    "duration": 50,
    "start_time": "2023-08-26T19:42:53.325Z"
   },
   {
    "duration": 36,
    "start_time": "2023-08-26T19:42:53.377Z"
   },
   {
    "duration": 2002,
    "start_time": "2023-08-26T19:42:53.415Z"
   },
   {
    "duration": 3598,
    "start_time": "2023-08-26T19:42:55.419Z"
   },
   {
    "duration": 46,
    "start_time": "2023-08-26T19:42:59.019Z"
   },
   {
    "duration": 252,
    "start_time": "2023-08-26T19:42:59.066Z"
   },
   {
    "duration": 58,
    "start_time": "2023-08-26T19:42:59.320Z"
   },
   {
    "duration": 360,
    "start_time": "2023-08-26T19:42:59.380Z"
   },
   {
    "duration": 31,
    "start_time": "2023-08-26T19:42:59.742Z"
   },
   {
    "duration": 154,
    "start_time": "2023-08-26T19:42:59.774Z"
   },
   {
    "duration": 96,
    "start_time": "2023-08-26T19:49:42.208Z"
   },
   {
    "duration": 1089,
    "start_time": "2023-08-26T19:49:48.842Z"
   },
   {
    "duration": 56,
    "start_time": "2023-08-26T19:49:49.933Z"
   },
   {
    "duration": 12,
    "start_time": "2023-08-26T19:49:49.991Z"
   },
   {
    "duration": 36,
    "start_time": "2023-08-26T19:49:50.005Z"
   },
   {
    "duration": 50,
    "start_time": "2023-08-26T19:49:50.043Z"
   },
   {
    "duration": 32,
    "start_time": "2023-08-26T19:49:50.096Z"
   },
   {
    "duration": 41,
    "start_time": "2023-08-26T19:49:50.130Z"
   },
   {
    "duration": 14,
    "start_time": "2023-08-26T19:49:50.173Z"
   },
   {
    "duration": 15,
    "start_time": "2023-08-26T19:49:50.189Z"
   },
   {
    "duration": 36,
    "start_time": "2023-08-26T19:49:50.207Z"
   },
   {
    "duration": 13,
    "start_time": "2023-08-26T19:49:50.246Z"
   },
   {
    "duration": 58,
    "start_time": "2023-08-26T19:49:50.261Z"
   },
   {
    "duration": 7,
    "start_time": "2023-08-26T19:49:50.320Z"
   },
   {
    "duration": 26,
    "start_time": "2023-08-26T19:49:50.329Z"
   },
   {
    "duration": 6,
    "start_time": "2023-08-26T19:49:50.357Z"
   },
   {
    "duration": 6,
    "start_time": "2023-08-26T19:49:50.365Z"
   },
   {
    "duration": 5,
    "start_time": "2023-08-26T19:49:50.373Z"
   },
   {
    "duration": 1810,
    "start_time": "2023-08-26T19:49:50.380Z"
   },
   {
    "duration": 3478,
    "start_time": "2023-08-26T19:49:52.192Z"
   },
   {
    "duration": 5602,
    "start_time": "2023-08-26T19:49:55.672Z"
   },
   {
    "duration": 59,
    "start_time": "2023-08-26T19:50:01.276Z"
   },
   {
    "duration": 425,
    "start_time": "2023-08-26T19:50:01.337Z"
   },
   {
    "duration": 71,
    "start_time": "2023-08-26T19:50:01.764Z"
   },
   {
    "duration": 630,
    "start_time": "2023-08-26T19:50:01.838Z"
   },
   {
    "duration": 49,
    "start_time": "2023-08-26T19:50:02.472Z"
   },
   {
    "duration": 322,
    "start_time": "2023-08-26T19:50:02.523Z"
   },
   {
    "duration": 1146,
    "start_time": "2023-08-26T20:01:52.714Z"
   },
   {
    "duration": 59,
    "start_time": "2023-08-26T20:01:53.862Z"
   },
   {
    "duration": 13,
    "start_time": "2023-08-26T20:01:53.923Z"
   },
   {
    "duration": 7,
    "start_time": "2023-08-26T20:01:53.938Z"
   },
   {
    "duration": 4,
    "start_time": "2023-08-26T20:01:53.947Z"
   },
   {
    "duration": 15,
    "start_time": "2023-08-26T20:01:53.952Z"
   },
   {
    "duration": 48,
    "start_time": "2023-08-26T20:01:53.969Z"
   },
   {
    "duration": 12,
    "start_time": "2023-08-26T20:01:54.018Z"
   },
   {
    "duration": 10,
    "start_time": "2023-08-26T20:01:54.032Z"
   },
   {
    "duration": 62,
    "start_time": "2023-08-26T20:01:54.046Z"
   },
   {
    "duration": 13,
    "start_time": "2023-08-26T20:01:54.110Z"
   },
   {
    "duration": 48,
    "start_time": "2023-08-26T20:01:54.125Z"
   },
   {
    "duration": 28,
    "start_time": "2023-08-26T20:01:54.175Z"
   },
   {
    "duration": 7,
    "start_time": "2023-08-26T20:01:54.205Z"
   },
   {
    "duration": 8,
    "start_time": "2023-08-26T20:01:54.214Z"
   },
   {
    "duration": 12,
    "start_time": "2023-08-26T20:01:54.223Z"
   },
   {
    "duration": 5,
    "start_time": "2023-08-26T20:01:54.237Z"
   },
   {
    "duration": 15,
    "start_time": "2023-08-26T20:01:54.243Z"
   },
   {
    "duration": 1978,
    "start_time": "2023-08-26T20:01:54.259Z"
   },
   {
    "duration": 3480,
    "start_time": "2023-08-26T20:01:56.239Z"
   },
   {
    "duration": 109,
    "start_time": "2023-08-26T20:01:59.721Z"
   },
   {
    "duration": 0,
    "start_time": "2023-08-26T20:01:59.831Z"
   },
   {
    "duration": 0,
    "start_time": "2023-08-26T20:01:59.833Z"
   },
   {
    "duration": 0,
    "start_time": "2023-08-26T20:01:59.834Z"
   },
   {
    "duration": 0,
    "start_time": "2023-08-26T20:01:59.836Z"
   },
   {
    "duration": 0,
    "start_time": "2023-08-26T20:01:59.838Z"
   },
   {
    "duration": 0,
    "start_time": "2023-08-26T20:01:59.839Z"
   },
   {
    "duration": 0,
    "start_time": "2023-08-26T20:01:59.841Z"
   },
   {
    "duration": 5799,
    "start_time": "2023-08-26T20:02:24.758Z"
   },
   {
    "duration": 247,
    "start_time": "2023-08-26T20:02:33.638Z"
   },
   {
    "duration": 3,
    "start_time": "2023-08-26T20:03:07.941Z"
   },
   {
    "duration": 283,
    "start_time": "2023-08-26T20:03:14.623Z"
   },
   {
    "duration": 1147,
    "start_time": "2023-08-26T20:04:43.825Z"
   },
   {
    "duration": 63,
    "start_time": "2023-08-26T20:04:44.974Z"
   },
   {
    "duration": 13,
    "start_time": "2023-08-26T20:04:45.039Z"
   },
   {
    "duration": 32,
    "start_time": "2023-08-26T20:04:45.053Z"
   },
   {
    "duration": 27,
    "start_time": "2023-08-26T20:04:45.087Z"
   },
   {
    "duration": 33,
    "start_time": "2023-08-26T20:04:45.115Z"
   },
   {
    "duration": 51,
    "start_time": "2023-08-26T20:04:45.151Z"
   },
   {
    "duration": 15,
    "start_time": "2023-08-26T20:04:45.203Z"
   },
   {
    "duration": 15,
    "start_time": "2023-08-26T20:04:45.222Z"
   },
   {
    "duration": 37,
    "start_time": "2023-08-26T20:04:45.240Z"
   },
   {
    "duration": 34,
    "start_time": "2023-08-26T20:04:45.279Z"
   },
   {
    "duration": 56,
    "start_time": "2023-08-26T20:04:45.316Z"
   },
   {
    "duration": 8,
    "start_time": "2023-08-26T20:04:45.374Z"
   },
   {
    "duration": 7,
    "start_time": "2023-08-26T20:04:45.383Z"
   },
   {
    "duration": 20,
    "start_time": "2023-08-26T20:04:45.401Z"
   },
   {
    "duration": 14,
    "start_time": "2023-08-26T20:04:45.423Z"
   },
   {
    "duration": 16,
    "start_time": "2023-08-26T20:04:45.439Z"
   },
   {
    "duration": 7,
    "start_time": "2023-08-26T20:04:45.457Z"
   },
   {
    "duration": 1924,
    "start_time": "2023-08-26T20:04:45.466Z"
   },
   {
    "duration": 3588,
    "start_time": "2023-08-26T20:04:47.392Z"
   },
   {
    "duration": 5799,
    "start_time": "2023-08-26T20:04:50.982Z"
   },
   {
    "duration": 250,
    "start_time": "2023-08-26T20:04:56.783Z"
   },
   {
    "duration": 44,
    "start_time": "2023-08-26T20:04:57.035Z"
   },
   {
    "duration": 264,
    "start_time": "2023-08-26T20:04:57.080Z"
   },
   {
    "duration": 76,
    "start_time": "2023-08-26T20:04:57.345Z"
   },
   {
    "duration": 362,
    "start_time": "2023-08-26T20:04:57.423Z"
   },
   {
    "duration": 7994,
    "start_time": "2023-08-26T20:04:57.787Z"
   },
   {
    "duration": 44,
    "start_time": "2023-08-26T20:05:05.785Z"
   },
   {
    "duration": 346,
    "start_time": "2023-08-26T20:05:05.831Z"
   },
   {
    "duration": 2670,
    "start_time": "2023-08-26T20:05:06.180Z"
   },
   {
    "duration": 1310,
    "start_time": "2023-08-26T20:07:00.961Z"
   },
   {
    "duration": 62,
    "start_time": "2023-08-26T20:07:02.273Z"
   },
   {
    "duration": 15,
    "start_time": "2023-08-26T20:07:02.336Z"
   },
   {
    "duration": 18,
    "start_time": "2023-08-26T20:07:02.353Z"
   },
   {
    "duration": 10,
    "start_time": "2023-08-26T20:07:02.373Z"
   },
   {
    "duration": 38,
    "start_time": "2023-08-26T20:07:02.385Z"
   },
   {
    "duration": 30,
    "start_time": "2023-08-26T20:07:02.424Z"
   },
   {
    "duration": 31,
    "start_time": "2023-08-26T20:07:02.456Z"
   },
   {
    "duration": 11,
    "start_time": "2023-08-26T20:07:02.489Z"
   },
   {
    "duration": 41,
    "start_time": "2023-08-26T20:07:02.502Z"
   },
   {
    "duration": 14,
    "start_time": "2023-08-26T20:07:02.545Z"
   },
   {
    "duration": 74,
    "start_time": "2023-08-26T20:07:02.561Z"
   },
   {
    "duration": 6,
    "start_time": "2023-08-26T20:07:02.637Z"
   },
   {
    "duration": 21,
    "start_time": "2023-08-26T20:07:02.645Z"
   },
   {
    "duration": 10,
    "start_time": "2023-08-26T20:07:02.667Z"
   },
   {
    "duration": 18,
    "start_time": "2023-08-26T20:07:02.679Z"
   },
   {
    "duration": 24,
    "start_time": "2023-08-26T20:07:02.699Z"
   },
   {
    "duration": 8,
    "start_time": "2023-08-26T20:07:02.725Z"
   },
   {
    "duration": 1877,
    "start_time": "2023-08-26T20:07:02.734Z"
   },
   {
    "duration": 3525,
    "start_time": "2023-08-26T20:07:04.613Z"
   },
   {
    "duration": 5599,
    "start_time": "2023-08-26T20:07:08.140Z"
   },
   {
    "duration": 252,
    "start_time": "2023-08-26T20:07:13.741Z"
   },
   {
    "duration": 51,
    "start_time": "2023-08-26T20:07:13.995Z"
   },
   {
    "duration": 267,
    "start_time": "2023-08-26T20:07:14.048Z"
   },
   {
    "duration": 65,
    "start_time": "2023-08-26T20:07:14.317Z"
   },
   {
    "duration": 382,
    "start_time": "2023-08-26T20:07:14.384Z"
   },
   {
    "duration": 7612,
    "start_time": "2023-08-26T20:07:14.768Z"
   },
   {
    "duration": 43,
    "start_time": "2023-08-26T20:07:22.384Z"
   },
   {
    "duration": 161,
    "start_time": "2023-08-26T20:07:22.429Z"
   },
   {
    "duration": 2643,
    "start_time": "2023-08-26T20:07:22.592Z"
   },
   {
    "duration": 131,
    "start_time": "2023-08-26T20:08:51.658Z"
   },
   {
    "duration": 333,
    "start_time": "2023-08-26T20:09:10.372Z"
   },
   {
    "duration": 5522,
    "start_time": "2023-08-26T20:12:18.623Z"
   },
   {
    "duration": 47,
    "start_time": "2023-08-26T20:12:41.258Z"
   },
   {
    "duration": 262,
    "start_time": "2023-08-26T20:13:19.611Z"
   },
   {
    "duration": 67,
    "start_time": "2023-08-26T20:15:13.892Z"
   },
   {
    "duration": 7878,
    "start_time": "2023-08-26T20:15:20.968Z"
   },
   {
    "duration": 35,
    "start_time": "2023-08-26T20:15:51.026Z"
   },
   {
    "duration": 7609,
    "start_time": "2023-08-26T20:16:14.372Z"
   },
   {
    "duration": 1154,
    "start_time": "2023-08-26T20:18:08.462Z"
   },
   {
    "duration": 61,
    "start_time": "2023-08-26T20:18:09.618Z"
   },
   {
    "duration": 14,
    "start_time": "2023-08-26T20:18:09.681Z"
   },
   {
    "duration": 13,
    "start_time": "2023-08-26T20:18:09.697Z"
   },
   {
    "duration": 21,
    "start_time": "2023-08-26T20:18:09.712Z"
   },
   {
    "duration": 17,
    "start_time": "2023-08-26T20:18:09.735Z"
   },
   {
    "duration": 24,
    "start_time": "2023-08-26T20:18:09.753Z"
   },
   {
    "duration": 14,
    "start_time": "2023-08-26T20:18:09.778Z"
   },
   {
    "duration": 11,
    "start_time": "2023-08-26T20:18:09.793Z"
   },
   {
    "duration": 51,
    "start_time": "2023-08-26T20:18:09.807Z"
   },
   {
    "duration": 13,
    "start_time": "2023-08-26T20:18:09.859Z"
   },
   {
    "duration": 70,
    "start_time": "2023-08-26T20:18:09.873Z"
   },
   {
    "duration": 6,
    "start_time": "2023-08-26T20:18:09.944Z"
   },
   {
    "duration": 24,
    "start_time": "2023-08-26T20:18:09.952Z"
   },
   {
    "duration": 74,
    "start_time": "2023-08-26T20:18:09.978Z"
   },
   {
    "duration": 27,
    "start_time": "2023-08-26T20:18:10.054Z"
   },
   {
    "duration": 38,
    "start_time": "2023-08-26T20:18:10.083Z"
   },
   {
    "duration": 6,
    "start_time": "2023-08-26T20:18:10.123Z"
   },
   {
    "duration": 5604,
    "start_time": "2023-08-26T20:18:10.131Z"
   },
   {
    "duration": 56,
    "start_time": "2023-08-26T20:18:15.736Z"
   },
   {
    "duration": 248,
    "start_time": "2023-08-26T20:18:15.803Z"
   },
   {
    "duration": 68,
    "start_time": "2023-08-26T20:18:16.052Z"
   },
   {
    "duration": 7665,
    "start_time": "2023-08-26T20:18:16.121Z"
   },
   {
    "duration": 43,
    "start_time": "2023-08-26T20:18:23.788Z"
   },
   {
    "duration": 2613,
    "start_time": "2023-08-26T20:18:23.832Z"
   },
   {
    "duration": 11,
    "start_time": "2023-08-26T20:20:13.114Z"
   },
   {
    "duration": 16,
    "start_time": "2023-08-26T20:21:24.124Z"
   },
   {
    "duration": 12,
    "start_time": "2023-08-26T20:22:32.286Z"
   },
   {
    "duration": 13,
    "start_time": "2023-08-26T20:23:48.816Z"
   },
   {
    "duration": 36,
    "start_time": "2023-08-26T20:23:55.419Z"
   },
   {
    "duration": 3,
    "start_time": "2023-08-26T20:26:19.272Z"
   },
   {
    "duration": 1140,
    "start_time": "2023-08-26T20:31:56.190Z"
   },
   {
    "duration": 57,
    "start_time": "2023-08-26T20:31:57.332Z"
   },
   {
    "duration": 12,
    "start_time": "2023-08-26T20:31:57.390Z"
   },
   {
    "duration": 7,
    "start_time": "2023-08-26T20:31:57.404Z"
   },
   {
    "duration": 3,
    "start_time": "2023-08-26T20:31:57.413Z"
   },
   {
    "duration": 14,
    "start_time": "2023-08-26T20:31:57.417Z"
   },
   {
    "duration": 21,
    "start_time": "2023-08-26T20:31:57.433Z"
   },
   {
    "duration": 13,
    "start_time": "2023-08-26T20:31:57.456Z"
   },
   {
    "duration": 35,
    "start_time": "2023-08-26T20:31:57.471Z"
   },
   {
    "duration": 32,
    "start_time": "2023-08-26T20:31:57.508Z"
   },
   {
    "duration": 11,
    "start_time": "2023-08-26T20:31:57.542Z"
   },
   {
    "duration": 67,
    "start_time": "2023-08-26T20:31:57.555Z"
   },
   {
    "duration": 7,
    "start_time": "2023-08-26T20:31:57.623Z"
   },
   {
    "duration": 6,
    "start_time": "2023-08-26T20:31:57.632Z"
   },
   {
    "duration": 19,
    "start_time": "2023-08-26T20:31:57.639Z"
   },
   {
    "duration": 17,
    "start_time": "2023-08-26T20:31:57.660Z"
   },
   {
    "duration": 4,
    "start_time": "2023-08-26T20:31:57.679Z"
   },
   {
    "duration": 18,
    "start_time": "2023-08-26T20:31:57.685Z"
   },
   {
    "duration": 5660,
    "start_time": "2023-08-26T20:31:57.705Z"
   },
   {
    "duration": 63,
    "start_time": "2023-08-26T20:32:03.366Z"
   },
   {
    "duration": 283,
    "start_time": "2023-08-26T20:32:03.431Z"
   },
   {
    "duration": 14,
    "start_time": "2023-08-26T20:32:03.715Z"
   },
   {
    "duration": 78,
    "start_time": "2023-08-26T20:32:03.731Z"
   },
   {
    "duration": 7745,
    "start_time": "2023-08-26T20:32:03.811Z"
   },
   {
    "duration": 12,
    "start_time": "2023-08-26T20:32:11.558Z"
   },
   {
    "duration": 47,
    "start_time": "2023-08-26T20:32:11.572Z"
   },
   {
    "duration": 2533,
    "start_time": "2023-08-26T20:32:11.621Z"
   },
   {
    "duration": 3,
    "start_time": "2023-08-26T20:43:34.039Z"
   },
   {
    "duration": 42,
    "start_time": "2023-08-26T20:44:19.574Z"
   },
   {
    "duration": 174,
    "start_time": "2023-08-26T20:44:40.228Z"
   },
   {
    "duration": 102,
    "start_time": "2023-08-26T20:45:09.204Z"
   },
   {
    "duration": 1210,
    "start_time": "2023-08-27T09:02:17.929Z"
   },
   {
    "duration": 116,
    "start_time": "2023-08-27T09:02:19.141Z"
   },
   {
    "duration": 12,
    "start_time": "2023-08-27T09:02:19.259Z"
   },
   {
    "duration": 8,
    "start_time": "2023-08-27T09:02:19.274Z"
   },
   {
    "duration": 7,
    "start_time": "2023-08-27T09:02:19.283Z"
   },
   {
    "duration": 21,
    "start_time": "2023-08-27T09:02:19.292Z"
   },
   {
    "duration": 35,
    "start_time": "2023-08-27T09:02:19.314Z"
   },
   {
    "duration": 13,
    "start_time": "2023-08-27T09:02:19.351Z"
   },
   {
    "duration": 8,
    "start_time": "2023-08-27T09:02:19.365Z"
   },
   {
    "duration": 32,
    "start_time": "2023-08-27T09:02:19.376Z"
   },
   {
    "duration": 36,
    "start_time": "2023-08-27T09:02:19.410Z"
   },
   {
    "duration": 43,
    "start_time": "2023-08-27T09:02:19.448Z"
   },
   {
    "duration": 6,
    "start_time": "2023-08-27T09:02:19.493Z"
   },
   {
    "duration": 6,
    "start_time": "2023-08-27T09:02:19.500Z"
   },
   {
    "duration": 6,
    "start_time": "2023-08-27T09:02:19.507Z"
   },
   {
    "duration": 36,
    "start_time": "2023-08-27T09:02:19.514Z"
   },
   {
    "duration": 4,
    "start_time": "2023-08-27T09:02:19.552Z"
   },
   {
    "duration": 9,
    "start_time": "2023-08-27T09:02:19.558Z"
   },
   {
    "duration": 5983,
    "start_time": "2023-08-27T09:02:19.568Z"
   },
   {
    "duration": 54,
    "start_time": "2023-08-27T09:02:25.552Z"
   },
   {
    "duration": 297,
    "start_time": "2023-08-27T09:02:25.608Z"
   },
   {
    "duration": 142,
    "start_time": "2023-08-27T09:02:25.907Z"
   },
   {
    "duration": 107,
    "start_time": "2023-08-27T09:02:26.050Z"
   },
   {
    "duration": 72,
    "start_time": "2023-08-27T09:02:26.159Z"
   },
   {
    "duration": 8051,
    "start_time": "2023-08-27T09:02:26.233Z"
   },
   {
    "duration": 164,
    "start_time": "2023-08-27T09:02:34.285Z"
   },
   {
    "duration": 13,
    "start_time": "2023-08-27T09:02:34.450Z"
   },
   {
    "duration": 107,
    "start_time": "2023-08-27T09:02:34.467Z"
   },
   {
    "duration": 2720,
    "start_time": "2023-08-27T09:02:34.575Z"
   },
   {
    "duration": 251,
    "start_time": "2023-08-27T09:02:37.297Z"
   },
   {
    "duration": 1241,
    "start_time": "2023-08-27T09:08:31.942Z"
   },
   {
    "duration": 62,
    "start_time": "2023-08-27T09:08:33.185Z"
   },
   {
    "duration": 13,
    "start_time": "2023-08-27T09:08:33.249Z"
   },
   {
    "duration": 11,
    "start_time": "2023-08-27T09:08:33.264Z"
   },
   {
    "duration": 15,
    "start_time": "2023-08-27T09:08:33.276Z"
   },
   {
    "duration": 27,
    "start_time": "2023-08-27T09:08:33.292Z"
   },
   {
    "duration": 25,
    "start_time": "2023-08-27T09:08:33.320Z"
   },
   {
    "duration": 12,
    "start_time": "2023-08-27T09:08:33.347Z"
   },
   {
    "duration": 23,
    "start_time": "2023-08-27T09:08:33.361Z"
   },
   {
    "duration": 35,
    "start_time": "2023-08-27T09:08:33.387Z"
   },
   {
    "duration": 25,
    "start_time": "2023-08-27T09:08:33.423Z"
   },
   {
    "duration": 44,
    "start_time": "2023-08-27T09:08:33.449Z"
   },
   {
    "duration": 8,
    "start_time": "2023-08-27T09:08:33.495Z"
   },
   {
    "duration": 8,
    "start_time": "2023-08-27T09:08:33.506Z"
   },
   {
    "duration": 36,
    "start_time": "2023-08-27T09:08:33.516Z"
   },
   {
    "duration": 6,
    "start_time": "2023-08-27T09:08:33.554Z"
   },
   {
    "duration": 4,
    "start_time": "2023-08-27T09:08:33.562Z"
   },
   {
    "duration": 6,
    "start_time": "2023-08-27T09:08:33.567Z"
   },
   {
    "duration": 5973,
    "start_time": "2023-08-27T09:08:33.575Z"
   },
   {
    "duration": 5,
    "start_time": "2023-08-27T09:08:39.550Z"
   },
   {
    "duration": 602,
    "start_time": "2023-08-27T09:08:39.556Z"
   },
   {
    "duration": 56,
    "start_time": "2023-08-27T09:08:40.159Z"
   },
   {
    "duration": 311,
    "start_time": "2023-08-27T09:08:40.216Z"
   },
   {
    "duration": 218,
    "start_time": "2023-08-27T09:08:40.529Z"
   },
   {
    "duration": 13,
    "start_time": "2023-08-27T09:08:40.749Z"
   },
   {
    "duration": 86,
    "start_time": "2023-08-27T09:08:40.764Z"
   },
   {
    "duration": 8166,
    "start_time": "2023-08-27T09:08:40.852Z"
   },
   {
    "duration": 132,
    "start_time": "2023-08-27T09:08:49.022Z"
   },
   {
    "duration": 99,
    "start_time": "2023-08-27T09:08:49.157Z"
   },
   {
    "duration": 53,
    "start_time": "2023-08-27T09:08:49.258Z"
   },
   {
    "duration": 2698,
    "start_time": "2023-08-27T09:08:49.312Z"
   },
   {
    "duration": 144,
    "start_time": "2023-08-27T09:08:52.012Z"
   },
   {
    "duration": 1178,
    "start_time": "2023-08-27T09:13:12.568Z"
   },
   {
    "duration": 62,
    "start_time": "2023-08-27T09:13:13.748Z"
   },
   {
    "duration": 13,
    "start_time": "2023-08-27T09:13:13.812Z"
   },
   {
    "duration": 20,
    "start_time": "2023-08-27T09:13:13.827Z"
   },
   {
    "duration": 8,
    "start_time": "2023-08-27T09:13:13.849Z"
   },
   {
    "duration": 19,
    "start_time": "2023-08-27T09:13:13.858Z"
   },
   {
    "duration": 27,
    "start_time": "2023-08-27T09:13:13.878Z"
   },
   {
    "duration": 23,
    "start_time": "2023-08-27T09:13:13.906Z"
   },
   {
    "duration": 23,
    "start_time": "2023-08-27T09:13:13.930Z"
   },
   {
    "duration": 52,
    "start_time": "2023-08-27T09:13:13.956Z"
   },
   {
    "duration": 13,
    "start_time": "2023-08-27T09:13:14.009Z"
   },
   {
    "duration": 66,
    "start_time": "2023-08-27T09:13:14.023Z"
   },
   {
    "duration": 9,
    "start_time": "2023-08-27T09:13:14.091Z"
   },
   {
    "duration": 11,
    "start_time": "2023-08-27T09:13:14.101Z"
   },
   {
    "duration": 16,
    "start_time": "2023-08-27T09:13:14.113Z"
   },
   {
    "duration": 9,
    "start_time": "2023-08-27T09:13:14.131Z"
   },
   {
    "duration": 14,
    "start_time": "2023-08-27T09:13:14.147Z"
   },
   {
    "duration": 26,
    "start_time": "2023-08-27T09:13:14.162Z"
   },
   {
    "duration": 6247,
    "start_time": "2023-08-27T09:13:14.190Z"
   },
   {
    "duration": 5,
    "start_time": "2023-08-27T09:13:20.446Z"
   },
   {
    "duration": 5046,
    "start_time": "2023-08-27T09:13:20.452Z"
   },
   {
    "duration": 15,
    "start_time": "2023-08-27T09:13:25.500Z"
   },
   {
    "duration": 8511,
    "start_time": "2023-08-27T09:13:25.516Z"
   },
   {
    "duration": 22,
    "start_time": "2023-08-27T09:13:34.030Z"
   },
   {
    "duration": 3202,
    "start_time": "2023-08-27T09:13:34.054Z"
   },
   {
    "duration": 1659,
    "start_time": "2023-08-27T09:14:04.890Z"
   },
   {
    "duration": 60,
    "start_time": "2023-08-27T09:14:06.552Z"
   },
   {
    "duration": 14,
    "start_time": "2023-08-27T09:14:06.614Z"
   },
   {
    "duration": 7,
    "start_time": "2023-08-27T09:14:06.629Z"
   },
   {
    "duration": 3,
    "start_time": "2023-08-27T09:14:06.639Z"
   },
   {
    "duration": 18,
    "start_time": "2023-08-27T09:14:06.643Z"
   },
   {
    "duration": 23,
    "start_time": "2023-08-27T09:14:06.663Z"
   },
   {
    "duration": 14,
    "start_time": "2023-08-27T09:14:06.687Z"
   },
   {
    "duration": 9,
    "start_time": "2023-08-27T09:14:06.702Z"
   },
   {
    "duration": 68,
    "start_time": "2023-08-27T09:14:06.713Z"
   },
   {
    "duration": 16,
    "start_time": "2023-08-27T09:14:06.783Z"
   },
   {
    "duration": 69,
    "start_time": "2023-08-27T09:14:06.801Z"
   },
   {
    "duration": 6,
    "start_time": "2023-08-27T09:14:06.872Z"
   },
   {
    "duration": 8,
    "start_time": "2023-08-27T09:14:06.881Z"
   },
   {
    "duration": 10,
    "start_time": "2023-08-27T09:14:06.890Z"
   },
   {
    "duration": 25,
    "start_time": "2023-08-27T09:14:06.902Z"
   },
   {
    "duration": 5,
    "start_time": "2023-08-27T09:14:06.928Z"
   },
   {
    "duration": 14,
    "start_time": "2023-08-27T09:14:06.935Z"
   },
   {
    "duration": 5961,
    "start_time": "2023-08-27T09:14:06.950Z"
   },
   {
    "duration": 5,
    "start_time": "2023-08-27T09:14:12.913Z"
   },
   {
    "duration": 5109,
    "start_time": "2023-08-27T09:14:12.920Z"
   },
   {
    "duration": 23,
    "start_time": "2023-08-27T09:14:18.030Z"
   },
   {
    "duration": 8414,
    "start_time": "2023-08-27T09:14:18.055Z"
   },
   {
    "duration": 13,
    "start_time": "2023-08-27T09:14:26.471Z"
   },
   {
    "duration": 2876,
    "start_time": "2023-08-27T09:14:26.485Z"
   },
   {
    "duration": 1180,
    "start_time": "2023-08-27T09:51:58.294Z"
   },
   {
    "duration": 60,
    "start_time": "2023-08-27T09:51:59.476Z"
   },
   {
    "duration": 21,
    "start_time": "2023-08-27T09:51:59.538Z"
   },
   {
    "duration": 9,
    "start_time": "2023-08-27T09:51:59.561Z"
   },
   {
    "duration": 8,
    "start_time": "2023-08-27T09:51:59.571Z"
   },
   {
    "duration": 17,
    "start_time": "2023-08-27T09:51:59.581Z"
   },
   {
    "duration": 23,
    "start_time": "2023-08-27T09:51:59.600Z"
   },
   {
    "duration": 13,
    "start_time": "2023-08-27T09:51:59.624Z"
   },
   {
    "duration": 20,
    "start_time": "2023-08-27T09:51:59.639Z"
   },
   {
    "duration": 39,
    "start_time": "2023-08-27T09:51:59.661Z"
   },
   {
    "duration": 14,
    "start_time": "2023-08-27T09:51:59.702Z"
   },
   {
    "duration": 68,
    "start_time": "2023-08-27T09:51:59.718Z"
   },
   {
    "duration": 7,
    "start_time": "2023-08-27T09:51:59.788Z"
   },
   {
    "duration": 7,
    "start_time": "2023-08-27T09:51:59.797Z"
   },
   {
    "duration": 7,
    "start_time": "2023-08-27T09:51:59.806Z"
   },
   {
    "duration": 45,
    "start_time": "2023-08-27T09:51:59.815Z"
   },
   {
    "duration": 4,
    "start_time": "2023-08-27T09:51:59.862Z"
   },
   {
    "duration": 7,
    "start_time": "2023-08-27T09:51:59.868Z"
   },
   {
    "duration": 6244,
    "start_time": "2023-08-27T09:51:59.877Z"
   },
   {
    "duration": 5,
    "start_time": "2023-08-27T09:52:06.123Z"
   },
   {
    "duration": 5275,
    "start_time": "2023-08-27T09:52:06.129Z"
   },
   {
    "duration": 12,
    "start_time": "2023-08-27T09:52:11.406Z"
   },
   {
    "duration": 8732,
    "start_time": "2023-08-27T09:52:11.420Z"
   },
   {
    "duration": 13,
    "start_time": "2023-08-27T09:52:20.159Z"
   },
   {
    "duration": 3049,
    "start_time": "2023-08-27T09:52:20.174Z"
   },
   {
    "duration": 6365,
    "start_time": "2023-08-27T09:52:55.283Z"
   },
   {
    "duration": 1112,
    "start_time": "2023-08-27T10:09:48.191Z"
   },
   {
    "duration": 69,
    "start_time": "2023-08-27T10:09:49.305Z"
   },
   {
    "duration": 14,
    "start_time": "2023-08-27T10:09:49.375Z"
   },
   {
    "duration": 9,
    "start_time": "2023-08-27T10:09:49.391Z"
   },
   {
    "duration": 3,
    "start_time": "2023-08-27T10:09:49.402Z"
   },
   {
    "duration": 13,
    "start_time": "2023-08-27T10:09:49.407Z"
   },
   {
    "duration": 43,
    "start_time": "2023-08-27T10:09:49.422Z"
   },
   {
    "duration": 15,
    "start_time": "2023-08-27T10:09:49.467Z"
   },
   {
    "duration": 13,
    "start_time": "2023-08-27T10:09:49.484Z"
   },
   {
    "duration": 60,
    "start_time": "2023-08-27T10:09:49.499Z"
   },
   {
    "duration": 14,
    "start_time": "2023-08-27T10:09:49.560Z"
   },
   {
    "duration": 5,
    "start_time": "2023-08-27T10:09:49.575Z"
   },
   {
    "duration": 5,
    "start_time": "2023-08-27T10:09:49.582Z"
   },
   {
    "duration": 6,
    "start_time": "2023-08-27T10:09:49.589Z"
   },
   {
    "duration": 6465,
    "start_time": "2023-08-27T10:09:49.596Z"
   },
   {
    "duration": 5298,
    "start_time": "2023-08-27T10:09:56.063Z"
   },
   {
    "duration": 16,
    "start_time": "2023-08-27T10:10:01.363Z"
   },
   {
    "duration": 8886,
    "start_time": "2023-08-27T10:10:01.381Z"
   },
   {
    "duration": 13,
    "start_time": "2023-08-27T10:10:10.269Z"
   },
   {
    "duration": 3133,
    "start_time": "2023-08-27T10:10:10.285Z"
   },
   {
    "duration": 603,
    "start_time": "2023-08-27T10:18:57.804Z"
   },
   {
    "duration": 148,
    "start_time": "2023-08-27T10:36:15.273Z"
   },
   {
    "duration": 106,
    "start_time": "2023-08-27T10:36:43.365Z"
   },
   {
    "duration": 131,
    "start_time": "2023-08-27T10:37:06.630Z"
   },
   {
    "duration": 4,
    "start_time": "2023-08-27T10:37:10.483Z"
   },
   {
    "duration": 4,
    "start_time": "2023-08-27T10:37:39.088Z"
   },
   {
    "duration": 8,
    "start_time": "2023-08-27T10:42:21.603Z"
   },
   {
    "duration": 15,
    "start_time": "2023-08-27T10:42:34.907Z"
   },
   {
    "duration": 9,
    "start_time": "2023-08-27T10:42:43.690Z"
   },
   {
    "duration": 9,
    "start_time": "2023-08-27T10:43:27.219Z"
   },
   {
    "duration": 146,
    "start_time": "2023-08-27T10:46:20.981Z"
   },
   {
    "duration": 12,
    "start_time": "2023-08-27T10:46:26.271Z"
   },
   {
    "duration": 15,
    "start_time": "2023-08-27T10:46:33.827Z"
   },
   {
    "duration": 11,
    "start_time": "2023-08-27T10:46:46.910Z"
   },
   {
    "duration": 1190,
    "start_time": "2023-08-27T10:46:52.272Z"
   },
   {
    "duration": 61,
    "start_time": "2023-08-27T10:46:53.464Z"
   },
   {
    "duration": 13,
    "start_time": "2023-08-27T10:46:53.526Z"
   },
   {
    "duration": 17,
    "start_time": "2023-08-27T10:46:53.541Z"
   },
   {
    "duration": 4,
    "start_time": "2023-08-27T10:46:53.560Z"
   },
   {
    "duration": 15,
    "start_time": "2023-08-27T10:46:53.565Z"
   },
   {
    "duration": 32,
    "start_time": "2023-08-27T10:46:53.582Z"
   },
   {
    "duration": 13,
    "start_time": "2023-08-27T10:46:53.617Z"
   },
   {
    "duration": 26,
    "start_time": "2023-08-27T10:46:53.632Z"
   },
   {
    "duration": 36,
    "start_time": "2023-08-27T10:46:53.659Z"
   },
   {
    "duration": 15,
    "start_time": "2023-08-27T10:46:53.697Z"
   },
   {
    "duration": 5,
    "start_time": "2023-08-27T10:46:53.713Z"
   },
   {
    "duration": 37,
    "start_time": "2023-08-27T10:46:53.720Z"
   },
   {
    "duration": 0,
    "start_time": "2023-08-27T10:46:53.759Z"
   },
   {
    "duration": 0,
    "start_time": "2023-08-27T10:46:53.761Z"
   },
   {
    "duration": 0,
    "start_time": "2023-08-27T10:46:53.762Z"
   },
   {
    "duration": 0,
    "start_time": "2023-08-27T10:46:53.763Z"
   },
   {
    "duration": 0,
    "start_time": "2023-08-27T10:46:53.764Z"
   },
   {
    "duration": 0,
    "start_time": "2023-08-27T10:46:53.767Z"
   },
   {
    "duration": 0,
    "start_time": "2023-08-27T10:46:53.768Z"
   },
   {
    "duration": 0,
    "start_time": "2023-08-27T10:46:53.769Z"
   },
   {
    "duration": 0,
    "start_time": "2023-08-27T10:46:53.770Z"
   },
   {
    "duration": 0,
    "start_time": "2023-08-27T10:46:53.771Z"
   },
   {
    "duration": 5,
    "start_time": "2023-08-27T10:47:17.915Z"
   },
   {
    "duration": 1167,
    "start_time": "2023-08-27T10:47:22.829Z"
   },
   {
    "duration": 67,
    "start_time": "2023-08-27T10:47:23.998Z"
   },
   {
    "duration": 15,
    "start_time": "2023-08-27T10:47:24.067Z"
   },
   {
    "duration": 17,
    "start_time": "2023-08-27T10:47:24.085Z"
   },
   {
    "duration": 23,
    "start_time": "2023-08-27T10:47:24.104Z"
   },
   {
    "duration": 30,
    "start_time": "2023-08-27T10:47:24.129Z"
   },
   {
    "duration": 36,
    "start_time": "2023-08-27T10:47:24.161Z"
   },
   {
    "duration": 27,
    "start_time": "2023-08-27T10:47:24.198Z"
   },
   {
    "duration": 18,
    "start_time": "2023-08-27T10:47:24.227Z"
   },
   {
    "duration": 39,
    "start_time": "2023-08-27T10:47:24.247Z"
   },
   {
    "duration": 12,
    "start_time": "2023-08-27T10:47:24.288Z"
   },
   {
    "duration": 26,
    "start_time": "2023-08-27T10:47:24.302Z"
   },
   {
    "duration": 44,
    "start_time": "2023-08-27T10:47:24.330Z"
   },
   {
    "duration": 1136,
    "start_time": "2023-08-27T10:47:24.376Z"
   },
   {
    "duration": 0,
    "start_time": "2023-08-27T10:47:25.515Z"
   },
   {
    "duration": 0,
    "start_time": "2023-08-27T10:47:25.516Z"
   },
   {
    "duration": 0,
    "start_time": "2023-08-27T10:47:25.517Z"
   },
   {
    "duration": 0,
    "start_time": "2023-08-27T10:47:25.518Z"
   },
   {
    "duration": 0,
    "start_time": "2023-08-27T10:47:25.520Z"
   },
   {
    "duration": 0,
    "start_time": "2023-08-27T10:47:25.521Z"
   },
   {
    "duration": 0,
    "start_time": "2023-08-27T10:47:25.522Z"
   },
   {
    "duration": 0,
    "start_time": "2023-08-27T10:47:25.523Z"
   },
   {
    "duration": 0,
    "start_time": "2023-08-27T10:47:25.524Z"
   },
   {
    "duration": 317,
    "start_time": "2023-08-27T10:47:56.942Z"
   },
   {
    "duration": 361,
    "start_time": "2023-08-27T10:49:43.301Z"
   },
   {
    "duration": 1178,
    "start_time": "2023-08-27T10:52:32.283Z"
   },
   {
    "duration": 62,
    "start_time": "2023-08-27T10:52:33.464Z"
   },
   {
    "duration": 13,
    "start_time": "2023-08-27T10:52:33.528Z"
   },
   {
    "duration": 21,
    "start_time": "2023-08-27T10:52:33.543Z"
   },
   {
    "duration": 4,
    "start_time": "2023-08-27T10:52:33.565Z"
   },
   {
    "duration": 25,
    "start_time": "2023-08-27T10:52:33.571Z"
   },
   {
    "duration": 20,
    "start_time": "2023-08-27T10:52:33.598Z"
   },
   {
    "duration": 14,
    "start_time": "2023-08-27T10:52:33.620Z"
   },
   {
    "duration": 22,
    "start_time": "2023-08-27T10:52:33.635Z"
   },
   {
    "duration": 37,
    "start_time": "2023-08-27T10:52:33.659Z"
   },
   {
    "duration": 14,
    "start_time": "2023-08-27T10:52:33.697Z"
   },
   {
    "duration": 13,
    "start_time": "2023-08-27T10:52:33.712Z"
   },
   {
    "duration": 26,
    "start_time": "2023-08-27T10:52:33.726Z"
   },
   {
    "duration": 295,
    "start_time": "2023-08-27T10:52:33.758Z"
   },
   {
    "duration": 10,
    "start_time": "2023-08-27T10:52:34.056Z"
   },
   {
    "duration": 97,
    "start_time": "2023-08-27T10:52:34.068Z"
   },
   {
    "duration": 6576,
    "start_time": "2023-08-27T10:52:34.167Z"
   },
   {
    "duration": 421,
    "start_time": "2023-08-27T10:52:40.753Z"
   },
   {
    "duration": 5143,
    "start_time": "2023-08-27T10:52:41.176Z"
   },
   {
    "duration": 13,
    "start_time": "2023-08-27T10:52:46.321Z"
   },
   {
    "duration": 8630,
    "start_time": "2023-08-27T10:52:46.346Z"
   },
   {
    "duration": 14,
    "start_time": "2023-08-27T10:52:54.978Z"
   },
   {
    "duration": 3077,
    "start_time": "2023-08-27T10:52:54.994Z"
   },
   {
    "duration": 5,
    "start_time": "2023-08-27T10:54:24.858Z"
   },
   {
    "duration": 439,
    "start_time": "2023-08-27T10:54:26.618Z"
   },
   {
    "duration": 4,
    "start_time": "2023-08-27T11:07:06.991Z"
   },
   {
    "duration": 128,
    "start_time": "2023-08-27T11:07:39.940Z"
   },
   {
    "duration": 299,
    "start_time": "2023-08-27T11:07:56.752Z"
   },
   {
    "duration": 332,
    "start_time": "2023-08-27T11:08:15.133Z"
   },
   {
    "duration": 360,
    "start_time": "2023-08-27T11:08:40.692Z"
   },
   {
    "duration": 421,
    "start_time": "2023-08-27T11:12:56.527Z"
   },
   {
    "duration": 776,
    "start_time": "2023-08-27T11:13:13.158Z"
   },
   {
    "duration": 283,
    "start_time": "2023-08-27T11:13:33.373Z"
   },
   {
    "duration": 4,
    "start_time": "2023-08-27T11:16:59.275Z"
   },
   {
    "duration": 338,
    "start_time": "2023-08-27T11:17:08.534Z"
   },
   {
    "duration": 10,
    "start_time": "2023-08-27T11:23:14.925Z"
   },
   {
    "duration": 6,
    "start_time": "2023-08-27T11:23:19.469Z"
   },
   {
    "duration": 18823,
    "start_time": "2023-08-27T11:23:23.859Z"
   },
   {
    "duration": 18502,
    "start_time": "2023-08-27T11:24:16.502Z"
   },
   {
    "duration": 5,
    "start_time": "2023-08-27T11:24:57.407Z"
   },
   {
    "duration": 18842,
    "start_time": "2023-08-27T11:25:00.551Z"
   },
   {
    "duration": 6211,
    "start_time": "2023-08-27T11:26:18.138Z"
   },
   {
    "duration": 6161,
    "start_time": "2023-08-27T11:27:11.478Z"
   },
   {
    "duration": 6165,
    "start_time": "2023-08-27T11:28:09.876Z"
   },
   {
    "duration": 6130,
    "start_time": "2023-08-27T11:28:55.689Z"
   },
   {
    "duration": 6201,
    "start_time": "2023-08-27T11:29:43.850Z"
   },
   {
    "duration": 6236,
    "start_time": "2023-08-27T11:30:02.673Z"
   },
   {
    "duration": 6179,
    "start_time": "2023-08-27T11:31:38.227Z"
   },
   {
    "duration": 6232,
    "start_time": "2023-08-27T11:32:05.675Z"
   },
   {
    "duration": 6114,
    "start_time": "2023-08-27T11:35:17.487Z"
   },
   {
    "duration": 6212,
    "start_time": "2023-08-27T11:36:21.557Z"
   },
   {
    "duration": 6284,
    "start_time": "2023-08-27T11:36:53.052Z"
   },
   {
    "duration": 6212,
    "start_time": "2023-08-27T11:37:38.643Z"
   },
   {
    "duration": 6305,
    "start_time": "2023-08-27T11:38:53.850Z"
   },
   {
    "duration": 6,
    "start_time": "2023-08-27T11:39:06.669Z"
   },
   {
    "duration": 6335,
    "start_time": "2023-08-27T11:39:10.944Z"
   },
   {
    "duration": 1130,
    "start_time": "2023-08-27T11:39:22.203Z"
   },
   {
    "duration": 63,
    "start_time": "2023-08-27T11:39:23.335Z"
   },
   {
    "duration": 14,
    "start_time": "2023-08-27T11:39:23.399Z"
   },
   {
    "duration": 7,
    "start_time": "2023-08-27T11:39:23.415Z"
   },
   {
    "duration": 4,
    "start_time": "2023-08-27T11:39:23.424Z"
   },
   {
    "duration": 22,
    "start_time": "2023-08-27T11:39:23.429Z"
   },
   {
    "duration": 26,
    "start_time": "2023-08-27T11:39:23.452Z"
   },
   {
    "duration": 14,
    "start_time": "2023-08-27T11:39:23.479Z"
   },
   {
    "duration": 18,
    "start_time": "2023-08-27T11:39:23.494Z"
   },
   {
    "duration": 58,
    "start_time": "2023-08-27T11:39:23.515Z"
   },
   {
    "duration": 14,
    "start_time": "2023-08-27T11:39:23.574Z"
   },
   {
    "duration": 4,
    "start_time": "2023-08-27T11:39:23.590Z"
   },
   {
    "duration": 7,
    "start_time": "2023-08-27T11:39:23.596Z"
   },
   {
    "duration": 6,
    "start_time": "2023-08-27T11:39:23.605Z"
   },
   {
    "duration": 144,
    "start_time": "2023-08-27T11:39:23.613Z"
   },
   {
    "duration": 0,
    "start_time": "2023-08-27T11:39:23.758Z"
   },
   {
    "duration": 0,
    "start_time": "2023-08-27T11:39:23.759Z"
   },
   {
    "duration": 0,
    "start_time": "2023-08-27T11:39:23.761Z"
   },
   {
    "duration": 0,
    "start_time": "2023-08-27T11:39:23.762Z"
   },
   {
    "duration": 0,
    "start_time": "2023-08-27T11:39:23.763Z"
   },
   {
    "duration": 0,
    "start_time": "2023-08-27T11:39:23.765Z"
   },
   {
    "duration": 0,
    "start_time": "2023-08-27T11:39:23.766Z"
   },
   {
    "duration": 0,
    "start_time": "2023-08-27T11:39:23.767Z"
   },
   {
    "duration": 0,
    "start_time": "2023-08-27T11:39:23.768Z"
   },
   {
    "duration": 0,
    "start_time": "2023-08-27T11:39:23.769Z"
   },
   {
    "duration": 0,
    "start_time": "2023-08-27T11:39:23.771Z"
   },
   {
    "duration": 0,
    "start_time": "2023-08-27T11:39:23.772Z"
   },
   {
    "duration": 1205,
    "start_time": "2023-08-27T11:39:46.424Z"
   },
   {
    "duration": 63,
    "start_time": "2023-08-27T11:39:47.631Z"
   },
   {
    "duration": 13,
    "start_time": "2023-08-27T11:39:47.697Z"
   },
   {
    "duration": 7,
    "start_time": "2023-08-27T11:39:47.713Z"
   },
   {
    "duration": 8,
    "start_time": "2023-08-27T11:39:47.721Z"
   },
   {
    "duration": 23,
    "start_time": "2023-08-27T11:39:47.731Z"
   },
   {
    "duration": 23,
    "start_time": "2023-08-27T11:39:47.758Z"
   },
   {
    "duration": 18,
    "start_time": "2023-08-27T11:39:47.783Z"
   },
   {
    "duration": 13,
    "start_time": "2023-08-27T11:39:47.802Z"
   },
   {
    "duration": 61,
    "start_time": "2023-08-27T11:39:47.818Z"
   },
   {
    "duration": 18,
    "start_time": "2023-08-27T11:39:47.881Z"
   },
   {
    "duration": 7,
    "start_time": "2023-08-27T11:39:47.901Z"
   },
   {
    "duration": 15,
    "start_time": "2023-08-27T11:39:47.910Z"
   },
   {
    "duration": 23,
    "start_time": "2023-08-27T11:39:47.927Z"
   },
   {
    "duration": 7,
    "start_time": "2023-08-27T11:39:47.953Z"
   },
   {
    "duration": 48,
    "start_time": "2023-08-27T11:39:47.962Z"
   },
   {
    "duration": 29,
    "start_time": "2023-08-27T11:39:48.012Z"
   },
   {
    "duration": 6588,
    "start_time": "2023-08-27T11:39:48.043Z"
   },
   {
    "duration": 6410,
    "start_time": "2023-08-27T11:39:54.633Z"
   },
   {
    "duration": 441,
    "start_time": "2023-08-27T11:40:01.047Z"
   },
   {
    "duration": 5457,
    "start_time": "2023-08-27T11:40:01.490Z"
   },
   {
    "duration": 14,
    "start_time": "2023-08-27T11:40:06.949Z"
   },
   {
    "duration": 8831,
    "start_time": "2023-08-27T11:40:06.965Z"
   },
   {
    "duration": 19,
    "start_time": "2023-08-27T11:40:15.799Z"
   },
   {
    "duration": 3084,
    "start_time": "2023-08-27T11:40:15.821Z"
   },
   {
    "duration": 6,
    "start_time": "2023-08-27T11:40:53.752Z"
   },
   {
    "duration": 6282,
    "start_time": "2023-08-27T11:40:57.857Z"
   },
   {
    "duration": 6315,
    "start_time": "2023-08-27T11:42:19.802Z"
   },
   {
    "duration": 6332,
    "start_time": "2023-08-27T11:44:34.643Z"
   },
   {
    "duration": 6222,
    "start_time": "2023-08-27T11:45:33.370Z"
   },
   {
    "duration": 6483,
    "start_time": "2023-08-27T11:46:05.718Z"
   },
   {
    "duration": 6364,
    "start_time": "2023-08-27T11:48:17.243Z"
   },
   {
    "duration": 6359,
    "start_time": "2023-08-27T11:48:56.654Z"
   },
   {
    "duration": 6313,
    "start_time": "2023-08-27T11:49:18.179Z"
   },
   {
    "duration": 6228,
    "start_time": "2023-08-27T11:49:38.830Z"
   },
   {
    "duration": 6,
    "start_time": "2023-08-27T11:50:07.958Z"
   },
   {
    "duration": 6499,
    "start_time": "2023-08-27T11:50:16.847Z"
   },
   {
    "duration": 6506,
    "start_time": "2023-08-27T11:50:38.108Z"
   },
   {
    "duration": 121,
    "start_time": "2023-08-27T11:52:36.171Z"
   },
   {
    "duration": 6299,
    "start_time": "2023-08-27T11:53:18.927Z"
   },
   {
    "duration": 5,
    "start_time": "2023-08-27T11:54:58.172Z"
   },
   {
    "duration": 6245,
    "start_time": "2023-08-27T11:55:01.639Z"
   },
   {
    "duration": 1153,
    "start_time": "2023-08-27T11:58:30.593Z"
   },
   {
    "duration": 62,
    "start_time": "2023-08-27T11:58:31.749Z"
   },
   {
    "duration": 14,
    "start_time": "2023-08-27T11:58:31.813Z"
   },
   {
    "duration": 10,
    "start_time": "2023-08-27T11:58:31.829Z"
   },
   {
    "duration": 23,
    "start_time": "2023-08-27T11:58:31.840Z"
   },
   {
    "duration": 44,
    "start_time": "2023-08-27T11:58:31.865Z"
   },
   {
    "duration": 41,
    "start_time": "2023-08-27T11:58:31.911Z"
   },
   {
    "duration": 32,
    "start_time": "2023-08-27T11:58:31.954Z"
   },
   {
    "duration": 23,
    "start_time": "2023-08-27T11:58:31.987Z"
   },
   {
    "duration": 40,
    "start_time": "2023-08-27T11:58:32.013Z"
   },
   {
    "duration": 14,
    "start_time": "2023-08-27T11:58:32.055Z"
   },
   {
    "duration": 17,
    "start_time": "2023-08-27T11:58:32.070Z"
   },
   {
    "duration": 12,
    "start_time": "2023-08-27T11:58:32.089Z"
   },
   {
    "duration": 17,
    "start_time": "2023-08-27T11:58:32.103Z"
   },
   {
    "duration": 25,
    "start_time": "2023-08-27T11:58:32.122Z"
   },
   {
    "duration": 31,
    "start_time": "2023-08-27T11:58:32.150Z"
   },
   {
    "duration": 13,
    "start_time": "2023-08-27T11:58:32.183Z"
   },
   {
    "duration": 6328,
    "start_time": "2023-08-27T11:58:32.198Z"
   },
   {
    "duration": 4,
    "start_time": "2023-08-27T11:58:38.528Z"
   },
   {
    "duration": 6258,
    "start_time": "2023-08-27T11:58:38.534Z"
   },
   {
    "duration": 417,
    "start_time": "2023-08-27T11:58:44.794Z"
   },
   {
    "duration": 11601,
    "start_time": "2023-08-27T11:58:45.213Z"
   },
   {
    "duration": 15,
    "start_time": "2023-08-27T11:58:56.816Z"
   },
   {
    "duration": 17068,
    "start_time": "2023-08-27T11:58:56.847Z"
   },
   {
    "duration": 14,
    "start_time": "2023-08-27T11:59:13.917Z"
   },
   {
    "duration": 5950,
    "start_time": "2023-08-27T11:59:13.932Z"
   },
   {
    "duration": 11,
    "start_time": "2023-08-27T11:59:19.884Z"
   },
   {
    "duration": 1261,
    "start_time": "2023-08-27T11:59:35.052Z"
   },
   {
    "duration": 64,
    "start_time": "2023-08-27T11:59:36.315Z"
   },
   {
    "duration": 13,
    "start_time": "2023-08-27T11:59:36.380Z"
   },
   {
    "duration": 17,
    "start_time": "2023-08-27T11:59:36.396Z"
   },
   {
    "duration": 21,
    "start_time": "2023-08-27T11:59:36.414Z"
   },
   {
    "duration": 33,
    "start_time": "2023-08-27T11:59:36.437Z"
   },
   {
    "duration": 49,
    "start_time": "2023-08-27T11:59:36.472Z"
   },
   {
    "duration": 15,
    "start_time": "2023-08-27T11:59:36.523Z"
   },
   {
    "duration": 25,
    "start_time": "2023-08-27T11:59:36.540Z"
   },
   {
    "duration": 73,
    "start_time": "2023-08-27T11:59:36.568Z"
   },
   {
    "duration": 14,
    "start_time": "2023-08-27T11:59:36.643Z"
   },
   {
    "duration": 45,
    "start_time": "2023-08-27T11:59:36.658Z"
   },
   {
    "duration": 27,
    "start_time": "2023-08-27T11:59:36.705Z"
   },
   {
    "duration": 36,
    "start_time": "2023-08-27T11:59:36.733Z"
   },
   {
    "duration": 17,
    "start_time": "2023-08-27T11:59:36.771Z"
   },
   {
    "duration": 49,
    "start_time": "2023-08-27T11:59:36.789Z"
   },
   {
    "duration": 47,
    "start_time": "2023-08-27T11:59:36.840Z"
   },
   {
    "duration": 6215,
    "start_time": "2023-08-27T11:59:36.889Z"
   },
   {
    "duration": 3,
    "start_time": "2023-08-27T11:59:43.106Z"
   },
   {
    "duration": 6214,
    "start_time": "2023-08-27T11:59:43.111Z"
   },
   {
    "duration": 397,
    "start_time": "2023-08-27T11:59:49.327Z"
   },
   {
    "duration": 11213,
    "start_time": "2023-08-27T11:59:49.726Z"
   },
   {
    "duration": 17,
    "start_time": "2023-08-27T12:00:00.941Z"
   },
   {
    "duration": 17313,
    "start_time": "2023-08-27T12:00:00.960Z"
   },
   {
    "duration": 13,
    "start_time": "2023-08-27T12:00:18.275Z"
   },
   {
    "duration": 6022,
    "start_time": "2023-08-27T12:00:18.289Z"
   },
   {
    "duration": 40,
    "start_time": "2023-08-27T12:00:24.313Z"
   },
   {
    "duration": 4,
    "start_time": "2023-08-27T13:43:42.208Z"
   },
   {
    "duration": 6317,
    "start_time": "2023-08-27T13:43:45.556Z"
   },
   {
    "duration": 1180,
    "start_time": "2023-08-27T13:44:10.072Z"
   },
   {
    "duration": 62,
    "start_time": "2023-08-27T13:44:11.254Z"
   },
   {
    "duration": 13,
    "start_time": "2023-08-27T13:44:11.318Z"
   },
   {
    "duration": 20,
    "start_time": "2023-08-27T13:44:11.333Z"
   },
   {
    "duration": 11,
    "start_time": "2023-08-27T13:44:11.355Z"
   },
   {
    "duration": 22,
    "start_time": "2023-08-27T13:44:11.367Z"
   },
   {
    "duration": 33,
    "start_time": "2023-08-27T13:44:11.391Z"
   },
   {
    "duration": 16,
    "start_time": "2023-08-27T13:44:11.426Z"
   },
   {
    "duration": 20,
    "start_time": "2023-08-27T13:44:11.447Z"
   },
   {
    "duration": 33,
    "start_time": "2023-08-27T13:44:11.469Z"
   },
   {
    "duration": 13,
    "start_time": "2023-08-27T13:44:11.504Z"
   },
   {
    "duration": 7,
    "start_time": "2023-08-27T13:44:11.519Z"
   },
   {
    "duration": 5,
    "start_time": "2023-08-27T13:44:11.546Z"
   },
   {
    "duration": 6,
    "start_time": "2023-08-27T13:44:11.555Z"
   },
   {
    "duration": 8,
    "start_time": "2023-08-27T13:44:11.563Z"
   },
   {
    "duration": 12,
    "start_time": "2023-08-27T13:44:11.574Z"
   },
   {
    "duration": 20,
    "start_time": "2023-08-27T13:44:11.588Z"
   },
   {
    "duration": 6342,
    "start_time": "2023-08-27T13:44:11.610Z"
   },
   {
    "duration": 5,
    "start_time": "2023-08-27T13:44:17.953Z"
   },
   {
    "duration": 6577,
    "start_time": "2023-08-27T13:44:17.959Z"
   },
   {
    "duration": 139,
    "start_time": "2023-08-27T13:44:24.538Z"
   },
   {
    "duration": 11751,
    "start_time": "2023-08-27T13:44:24.678Z"
   },
   {
    "duration": 20,
    "start_time": "2023-08-27T13:44:36.431Z"
   },
   {
    "duration": 17120,
    "start_time": "2023-08-27T13:44:36.454Z"
   },
   {
    "duration": 13,
    "start_time": "2023-08-27T13:44:53.576Z"
   },
   {
    "duration": 6024,
    "start_time": "2023-08-27T13:44:53.591Z"
   },
   {
    "duration": 36,
    "start_time": "2023-08-27T13:44:59.617Z"
   },
   {
    "duration": 4,
    "start_time": "2023-08-27T13:46:13.122Z"
   },
   {
    "duration": 1256,
    "start_time": "2023-08-27T13:48:45.146Z"
   },
   {
    "duration": 62,
    "start_time": "2023-08-27T13:48:46.404Z"
   },
   {
    "duration": 18,
    "start_time": "2023-08-27T13:48:46.468Z"
   },
   {
    "duration": 10,
    "start_time": "2023-08-27T13:48:46.488Z"
   },
   {
    "duration": 4,
    "start_time": "2023-08-27T13:48:46.500Z"
   },
   {
    "duration": 42,
    "start_time": "2023-08-27T13:48:46.506Z"
   },
   {
    "duration": 20,
    "start_time": "2023-08-27T13:48:46.549Z"
   },
   {
    "duration": 15,
    "start_time": "2023-08-27T13:48:46.571Z"
   },
   {
    "duration": 12,
    "start_time": "2023-08-27T13:48:46.588Z"
   },
   {
    "duration": 61,
    "start_time": "2023-08-27T13:48:46.602Z"
   },
   {
    "duration": 13,
    "start_time": "2023-08-27T13:48:46.665Z"
   },
   {
    "duration": 5,
    "start_time": "2023-08-27T13:48:46.680Z"
   },
   {
    "duration": 6,
    "start_time": "2023-08-27T13:48:46.687Z"
   },
   {
    "duration": 11,
    "start_time": "2023-08-27T13:48:46.696Z"
   },
   {
    "duration": 17,
    "start_time": "2023-08-27T13:48:46.708Z"
   },
   {
    "duration": 19,
    "start_time": "2023-08-27T13:48:46.727Z"
   },
   {
    "duration": 4,
    "start_time": "2023-08-27T13:48:46.748Z"
   },
   {
    "duration": 6425,
    "start_time": "2023-08-27T13:48:46.754Z"
   },
   {
    "duration": 139,
    "start_time": "2023-08-27T13:48:53.180Z"
   },
   {
    "duration": 6214,
    "start_time": "2023-08-27T13:48:53.321Z"
   },
   {
    "duration": 18,
    "start_time": "2023-08-27T13:48:59.537Z"
   },
   {
    "duration": 8497,
    "start_time": "2023-08-27T13:48:59.557Z"
   },
   {
    "duration": 13,
    "start_time": "2023-08-27T13:49:08.056Z"
   },
   {
    "duration": 2920,
    "start_time": "2023-08-27T13:49:08.071Z"
   },
   {
    "duration": 27,
    "start_time": "2023-08-27T13:49:10.992Z"
   },
   {
    "duration": 130,
    "start_time": "2023-08-27T13:49:20.926Z"
   },
   {
    "duration": 77,
    "start_time": "2023-08-27T13:50:27.781Z"
   },
   {
    "duration": 81,
    "start_time": "2023-08-27T13:50:36.269Z"
   },
   {
    "duration": 1536,
    "start_time": "2023-08-27T13:52:41.084Z"
   },
   {
    "duration": 3,
    "start_time": "2023-08-27T13:52:42.622Z"
   },
   {
    "duration": 60,
    "start_time": "2023-08-27T13:52:42.626Z"
   },
   {
    "duration": 14,
    "start_time": "2023-08-27T13:52:42.688Z"
   },
   {
    "duration": 7,
    "start_time": "2023-08-27T13:52:42.705Z"
   },
   {
    "duration": 11,
    "start_time": "2023-08-27T13:52:42.714Z"
   },
   {
    "duration": 23,
    "start_time": "2023-08-27T13:52:42.727Z"
   },
   {
    "duration": 23,
    "start_time": "2023-08-27T13:52:42.751Z"
   },
   {
    "duration": 13,
    "start_time": "2023-08-27T13:52:42.776Z"
   },
   {
    "duration": 8,
    "start_time": "2023-08-27T13:52:42.791Z"
   },
   {
    "duration": 54,
    "start_time": "2023-08-27T13:52:42.801Z"
   },
   {
    "duration": 10,
    "start_time": "2023-08-27T13:52:42.857Z"
   },
   {
    "duration": 5,
    "start_time": "2023-08-27T13:52:42.869Z"
   },
   {
    "duration": 4,
    "start_time": "2023-08-27T13:52:42.877Z"
   },
   {
    "duration": 7,
    "start_time": "2023-08-27T13:52:42.882Z"
   },
   {
    "duration": 6,
    "start_time": "2023-08-27T13:52:42.890Z"
   },
   {
    "duration": 9,
    "start_time": "2023-08-27T13:52:42.898Z"
   },
   {
    "duration": 8,
    "start_time": "2023-08-27T13:52:42.909Z"
   },
   {
    "duration": 6239,
    "start_time": "2023-08-27T13:52:42.947Z"
   },
   {
    "duration": 129,
    "start_time": "2023-08-27T13:52:49.187Z"
   },
   {
    "duration": 6236,
    "start_time": "2023-08-27T13:52:49.318Z"
   },
   {
    "duration": 12,
    "start_time": "2023-08-27T13:52:55.556Z"
   },
   {
    "duration": 8433,
    "start_time": "2023-08-27T13:52:55.570Z"
   },
   {
    "duration": 13,
    "start_time": "2023-08-27T13:53:04.005Z"
   },
   {
    "duration": 2978,
    "start_time": "2023-08-27T13:53:04.019Z"
   },
   {
    "duration": 27,
    "start_time": "2023-08-27T13:53:06.998Z"
   },
   {
    "duration": 4,
    "start_time": "2023-08-27T13:53:33.222Z"
   },
   {
    "duration": 1453,
    "start_time": "2023-08-27T13:54:16.616Z"
   },
   {
    "duration": 3,
    "start_time": "2023-08-27T13:54:18.071Z"
   },
   {
    "duration": 67,
    "start_time": "2023-08-27T13:54:18.076Z"
   },
   {
    "duration": 13,
    "start_time": "2023-08-27T13:54:18.145Z"
   },
   {
    "duration": 8,
    "start_time": "2023-08-27T13:54:18.160Z"
   },
   {
    "duration": 10,
    "start_time": "2023-08-27T13:54:18.169Z"
   },
   {
    "duration": 17,
    "start_time": "2023-08-27T13:54:18.180Z"
   },
   {
    "duration": 33,
    "start_time": "2023-08-27T13:54:18.199Z"
   },
   {
    "duration": 22,
    "start_time": "2023-08-27T13:54:18.234Z"
   },
   {
    "duration": 9,
    "start_time": "2023-08-27T13:54:18.258Z"
   },
   {
    "duration": 32,
    "start_time": "2023-08-27T13:54:18.268Z"
   },
   {
    "duration": 11,
    "start_time": "2023-08-27T13:54:18.301Z"
   },
   {
    "duration": 5,
    "start_time": "2023-08-27T13:54:18.347Z"
   },
   {
    "duration": 9,
    "start_time": "2023-08-27T13:54:18.354Z"
   },
   {
    "duration": 6,
    "start_time": "2023-08-27T13:54:18.364Z"
   },
   {
    "duration": 14,
    "start_time": "2023-08-27T13:54:18.372Z"
   },
   {
    "duration": 8,
    "start_time": "2023-08-27T13:54:18.388Z"
   },
   {
    "duration": 10,
    "start_time": "2023-08-27T13:54:18.397Z"
   },
   {
    "duration": 6220,
    "start_time": "2023-08-27T13:54:18.409Z"
   },
   {
    "duration": 139,
    "start_time": "2023-08-27T13:54:24.630Z"
   },
   {
    "duration": 6266,
    "start_time": "2023-08-27T13:54:24.771Z"
   },
   {
    "duration": 25,
    "start_time": "2023-08-27T13:54:31.039Z"
   },
   {
    "duration": 8447,
    "start_time": "2023-08-27T13:54:31.066Z"
   },
   {
    "duration": 13,
    "start_time": "2023-08-27T13:54:39.515Z"
   },
   {
    "duration": 2953,
    "start_time": "2023-08-27T13:54:39.529Z"
   },
   {
    "duration": 28,
    "start_time": "2023-08-27T13:54:42.484Z"
   },
   {
    "duration": 2,
    "start_time": "2023-08-27T13:57:36.122Z"
   },
   {
    "duration": 52,
    "start_time": "2023-08-27T13:57:39.173Z"
   },
   {
    "duration": 3,
    "start_time": "2023-08-27T13:57:43.822Z"
   },
   {
    "duration": 54,
    "start_time": "2023-08-27T13:57:45.969Z"
   },
   {
    "duration": 6404,
    "start_time": "2023-08-27T13:58:04.066Z"
   },
   {
    "duration": 6723,
    "start_time": "2023-08-27T13:59:41.725Z"
   },
   {
    "duration": 4,
    "start_time": "2023-08-27T14:00:08.782Z"
   },
   {
    "duration": 6819,
    "start_time": "2023-08-27T14:00:09.742Z"
   },
   {
    "duration": 6917,
    "start_time": "2023-08-27T14:00:25.220Z"
   },
   {
    "duration": 5,
    "start_time": "2023-08-27T14:00:46.211Z"
   },
   {
    "duration": 6532,
    "start_time": "2023-08-27T14:00:48.243Z"
   },
   {
    "duration": 6250,
    "start_time": "2023-08-27T14:01:22.349Z"
   },
   {
    "duration": 4,
    "start_time": "2023-08-27T14:01:34.782Z"
   },
   {
    "duration": 6216,
    "start_time": "2023-08-27T14:01:37.002Z"
   },
   {
    "duration": 6,
    "start_time": "2023-08-27T14:02:00.417Z"
   },
   {
    "duration": 6583,
    "start_time": "2023-08-27T14:02:01.812Z"
   },
   {
    "duration": 5,
    "start_time": "2023-08-27T14:03:00.350Z"
   },
   {
    "duration": 4,
    "start_time": "2023-08-27T14:03:04.922Z"
   },
   {
    "duration": 6329,
    "start_time": "2023-08-27T14:03:10.351Z"
   },
   {
    "duration": 5,
    "start_time": "2023-08-27T14:03:56.916Z"
   },
   {
    "duration": 5,
    "start_time": "2023-08-27T14:04:03.158Z"
   },
   {
    "duration": 6370,
    "start_time": "2023-08-27T14:04:04.457Z"
   },
   {
    "duration": 5,
    "start_time": "2023-08-27T14:04:42.569Z"
   },
   {
    "duration": 6263,
    "start_time": "2023-08-27T14:04:44.212Z"
   },
   {
    "duration": 5,
    "start_time": "2023-08-27T14:05:09.590Z"
   },
   {
    "duration": 6454,
    "start_time": "2023-08-27T14:05:10.868Z"
   },
   {
    "duration": 4,
    "start_time": "2023-08-27T14:06:21.640Z"
   },
   {
    "duration": 6201,
    "start_time": "2023-08-27T14:06:22.376Z"
   },
   {
    "duration": 4,
    "start_time": "2023-08-27T14:07:21.836Z"
   },
   {
    "duration": 6288,
    "start_time": "2023-08-27T14:07:23.022Z"
   },
   {
    "duration": 5,
    "start_time": "2023-08-27T14:07:34.512Z"
   },
   {
    "duration": 6230,
    "start_time": "2023-08-27T14:07:35.541Z"
   },
   {
    "duration": 6,
    "start_time": "2023-08-27T14:08:46.957Z"
   },
   {
    "duration": 6128,
    "start_time": "2023-08-27T14:08:47.978Z"
   },
   {
    "duration": 4,
    "start_time": "2023-08-27T14:09:37.591Z"
   },
   {
    "duration": 4,
    "start_time": "2023-08-27T14:09:48.252Z"
   },
   {
    "duration": 6249,
    "start_time": "2023-08-27T14:09:49.370Z"
   },
   {
    "duration": 4,
    "start_time": "2023-08-27T14:10:11.057Z"
   },
   {
    "duration": 6237,
    "start_time": "2023-08-27T14:10:12.455Z"
   },
   {
    "duration": 4,
    "start_time": "2023-08-27T14:10:42.058Z"
   },
   {
    "duration": 6110,
    "start_time": "2023-08-27T14:10:43.194Z"
   },
   {
    "duration": 5,
    "start_time": "2023-08-27T14:10:55.316Z"
   },
   {
    "duration": 6283,
    "start_time": "2023-08-27T14:10:56.056Z"
   },
   {
    "duration": 5,
    "start_time": "2023-08-27T14:11:15.519Z"
   },
   {
    "duration": 6317,
    "start_time": "2023-08-27T14:11:15.992Z"
   },
   {
    "duration": 5,
    "start_time": "2023-08-27T14:11:32.824Z"
   },
   {
    "duration": 6280,
    "start_time": "2023-08-27T14:11:33.776Z"
   },
   {
    "duration": 5,
    "start_time": "2023-08-27T14:12:05.377Z"
   },
   {
    "duration": 6188,
    "start_time": "2023-08-27T14:12:07.476Z"
   },
   {
    "duration": 6,
    "start_time": "2023-08-27T14:14:43.926Z"
   },
   {
    "duration": 6180,
    "start_time": "2023-08-27T14:14:46.826Z"
   },
   {
    "duration": 5,
    "start_time": "2023-08-27T14:15:31.242Z"
   },
   {
    "duration": 6346,
    "start_time": "2023-08-27T14:15:33.388Z"
   },
   {
    "duration": 5,
    "start_time": "2023-08-27T14:15:51.630Z"
   },
   {
    "duration": 6252,
    "start_time": "2023-08-27T14:15:53.132Z"
   },
   {
    "duration": 5,
    "start_time": "2023-08-27T14:16:54.928Z"
   },
   {
    "duration": 6335,
    "start_time": "2023-08-27T14:16:55.612Z"
   },
   {
    "duration": 4,
    "start_time": "2023-08-27T14:17:11.790Z"
   },
   {
    "duration": 6293,
    "start_time": "2023-08-27T14:17:12.682Z"
   },
   {
    "duration": 1518,
    "start_time": "2023-08-27T14:18:50.383Z"
   },
   {
    "duration": 61,
    "start_time": "2023-08-27T14:18:51.903Z"
   },
   {
    "duration": 15,
    "start_time": "2023-08-27T14:18:51.966Z"
   },
   {
    "duration": 16,
    "start_time": "2023-08-27T14:18:51.983Z"
   },
   {
    "duration": 25,
    "start_time": "2023-08-27T14:18:52.002Z"
   },
   {
    "duration": 39,
    "start_time": "2023-08-27T14:18:52.029Z"
   },
   {
    "duration": 40,
    "start_time": "2023-08-27T14:18:52.069Z"
   },
   {
    "duration": 16,
    "start_time": "2023-08-27T14:18:52.111Z"
   },
   {
    "duration": 25,
    "start_time": "2023-08-27T14:18:52.129Z"
   },
   {
    "duration": 39,
    "start_time": "2023-08-27T14:18:52.158Z"
   },
   {
    "duration": 12,
    "start_time": "2023-08-27T14:18:52.198Z"
   },
   {
    "duration": 16,
    "start_time": "2023-08-27T14:18:52.212Z"
   },
   {
    "duration": 20,
    "start_time": "2023-08-27T14:18:52.230Z"
   },
   {
    "duration": 17,
    "start_time": "2023-08-27T14:18:52.253Z"
   },
   {
    "duration": 25,
    "start_time": "2023-08-27T14:18:52.272Z"
   },
   {
    "duration": 40,
    "start_time": "2023-08-27T14:18:52.299Z"
   },
   {
    "duration": 26,
    "start_time": "2023-08-27T14:18:52.341Z"
   },
   {
    "duration": 6399,
    "start_time": "2023-08-27T14:18:52.368Z"
   },
   {
    "duration": 130,
    "start_time": "2023-08-27T14:18:58.769Z"
   },
   {
    "duration": 6326,
    "start_time": "2023-08-27T14:18:58.901Z"
   },
   {
    "duration": 19,
    "start_time": "2023-08-27T14:19:05.229Z"
   },
   {
    "duration": 8678,
    "start_time": "2023-08-27T14:19:05.250Z"
   },
   {
    "duration": 20,
    "start_time": "2023-08-27T14:19:13.930Z"
   },
   {
    "duration": 3061,
    "start_time": "2023-08-27T14:19:13.952Z"
   },
   {
    "duration": 47,
    "start_time": "2023-08-27T14:19:17.014Z"
   },
   {
    "duration": 1517,
    "start_time": "2023-08-27T14:25:09.347Z"
   },
   {
    "duration": 60,
    "start_time": "2023-08-27T14:25:10.866Z"
   },
   {
    "duration": 14,
    "start_time": "2023-08-27T14:25:10.928Z"
   },
   {
    "duration": 9,
    "start_time": "2023-08-27T14:25:10.944Z"
   },
   {
    "duration": 6,
    "start_time": "2023-08-27T14:25:10.955Z"
   },
   {
    "duration": 18,
    "start_time": "2023-08-27T14:25:10.963Z"
   },
   {
    "duration": 20,
    "start_time": "2023-08-27T14:25:10.983Z"
   },
   {
    "duration": 13,
    "start_time": "2023-08-27T14:25:11.005Z"
   },
   {
    "duration": 9,
    "start_time": "2023-08-27T14:25:11.046Z"
   },
   {
    "duration": 41,
    "start_time": "2023-08-27T14:25:11.059Z"
   },
   {
    "duration": 14,
    "start_time": "2023-08-27T14:25:11.102Z"
   },
   {
    "duration": 29,
    "start_time": "2023-08-27T14:25:11.118Z"
   },
   {
    "duration": 6,
    "start_time": "2023-08-27T14:25:11.149Z"
   },
   {
    "duration": 10,
    "start_time": "2023-08-27T14:25:11.157Z"
   },
   {
    "duration": 8,
    "start_time": "2023-08-27T14:25:11.169Z"
   },
   {
    "duration": 8,
    "start_time": "2023-08-27T14:25:11.180Z"
   },
   {
    "duration": 6,
    "start_time": "2023-08-27T14:25:11.189Z"
   },
   {
    "duration": 6343,
    "start_time": "2023-08-27T14:25:11.196Z"
   },
   {
    "duration": 127,
    "start_time": "2023-08-27T14:25:17.546Z"
   },
   {
    "duration": 6337,
    "start_time": "2023-08-27T14:25:17.674Z"
   },
   {
    "duration": 13,
    "start_time": "2023-08-27T14:25:24.013Z"
   },
   {
    "duration": 8575,
    "start_time": "2023-08-27T14:25:24.029Z"
   },
   {
    "duration": 12,
    "start_time": "2023-08-27T14:25:32.606Z"
   },
   {
    "duration": 3053,
    "start_time": "2023-08-27T14:25:32.619Z"
   },
   {
    "duration": 35,
    "start_time": "2023-08-27T14:25:35.676Z"
   },
   {
    "duration": 9,
    "start_time": "2023-08-27T14:26:34.547Z"
   },
   {
    "duration": 1512,
    "start_time": "2023-08-27T14:38:53.983Z"
   },
   {
    "duration": 61,
    "start_time": "2023-08-27T14:38:55.497Z"
   },
   {
    "duration": 16,
    "start_time": "2023-08-27T14:38:55.559Z"
   },
   {
    "duration": 7,
    "start_time": "2023-08-27T14:38:55.577Z"
   },
   {
    "duration": 4,
    "start_time": "2023-08-27T14:38:55.586Z"
   },
   {
    "duration": 15,
    "start_time": "2023-08-27T14:38:55.592Z"
   },
   {
    "duration": 47,
    "start_time": "2023-08-27T14:38:55.608Z"
   },
   {
    "duration": 15,
    "start_time": "2023-08-27T14:38:55.657Z"
   },
   {
    "duration": 10,
    "start_time": "2023-08-27T14:38:55.674Z"
   },
   {
    "duration": 65,
    "start_time": "2023-08-27T14:38:55.686Z"
   },
   {
    "duration": 22,
    "start_time": "2023-08-27T14:38:55.753Z"
   },
   {
    "duration": 5,
    "start_time": "2023-08-27T14:38:55.777Z"
   },
   {
    "duration": 8,
    "start_time": "2023-08-27T14:38:55.784Z"
   },
   {
    "duration": 8,
    "start_time": "2023-08-27T14:38:55.793Z"
   },
   {
    "duration": 8,
    "start_time": "2023-08-27T14:38:55.803Z"
   },
   {
    "duration": 11,
    "start_time": "2023-08-27T14:38:55.846Z"
   },
   {
    "duration": 5,
    "start_time": "2023-08-27T14:38:55.860Z"
   },
   {
    "duration": 162,
    "start_time": "2023-08-27T14:38:55.867Z"
   },
   {
    "duration": 0,
    "start_time": "2023-08-27T14:38:56.031Z"
   },
   {
    "duration": 0,
    "start_time": "2023-08-27T14:38:56.033Z"
   },
   {
    "duration": 0,
    "start_time": "2023-08-27T14:38:56.035Z"
   },
   {
    "duration": 0,
    "start_time": "2023-08-27T14:38:56.036Z"
   },
   {
    "duration": 1,
    "start_time": "2023-08-27T14:38:56.047Z"
   },
   {
    "duration": 0,
    "start_time": "2023-08-27T14:38:56.049Z"
   },
   {
    "duration": 0,
    "start_time": "2023-08-27T14:38:56.050Z"
   },
   {
    "duration": 1595,
    "start_time": "2023-08-27T14:40:47.039Z"
   },
   {
    "duration": 60,
    "start_time": "2023-08-27T14:40:48.636Z"
   },
   {
    "duration": 17,
    "start_time": "2023-08-27T14:40:48.698Z"
   },
   {
    "duration": 8,
    "start_time": "2023-08-27T14:40:48.718Z"
   },
   {
    "duration": 4,
    "start_time": "2023-08-27T14:40:48.729Z"
   },
   {
    "duration": 22,
    "start_time": "2023-08-27T14:40:48.735Z"
   },
   {
    "duration": 22,
    "start_time": "2023-08-27T14:40:48.759Z"
   },
   {
    "duration": 14,
    "start_time": "2023-08-27T14:40:48.783Z"
   },
   {
    "duration": 9,
    "start_time": "2023-08-27T14:40:48.799Z"
   },
   {
    "duration": 76,
    "start_time": "2023-08-27T14:40:48.810Z"
   },
   {
    "duration": 18,
    "start_time": "2023-08-27T14:40:48.888Z"
   },
   {
    "duration": 8,
    "start_time": "2023-08-27T14:40:48.908Z"
   },
   {
    "duration": 4,
    "start_time": "2023-08-27T14:40:48.918Z"
   },
   {
    "duration": 4,
    "start_time": "2023-08-27T14:40:48.949Z"
   },
   {
    "duration": 8,
    "start_time": "2023-08-27T14:40:48.955Z"
   },
   {
    "duration": 9,
    "start_time": "2023-08-27T14:40:48.964Z"
   },
   {
    "duration": 7,
    "start_time": "2023-08-27T14:40:48.974Z"
   },
   {
    "duration": 6276,
    "start_time": "2023-08-27T14:40:48.983Z"
   },
   {
    "duration": 0,
    "start_time": "2023-08-27T14:40:55.261Z"
   },
   {
    "duration": 0,
    "start_time": "2023-08-27T14:40:55.263Z"
   },
   {
    "duration": 0,
    "start_time": "2023-08-27T14:40:55.264Z"
   },
   {
    "duration": 0,
    "start_time": "2023-08-27T14:40:55.266Z"
   },
   {
    "duration": 0,
    "start_time": "2023-08-27T14:40:55.268Z"
   },
   {
    "duration": 0,
    "start_time": "2023-08-27T14:40:55.269Z"
   },
   {
    "duration": 0,
    "start_time": "2023-08-27T14:40:55.271Z"
   },
   {
    "duration": 1408,
    "start_time": "2023-08-27T14:41:13.549Z"
   },
   {
    "duration": 60,
    "start_time": "2023-08-27T14:41:14.959Z"
   },
   {
    "duration": 14,
    "start_time": "2023-08-27T14:41:15.021Z"
   },
   {
    "duration": 37,
    "start_time": "2023-08-27T14:41:15.036Z"
   },
   {
    "duration": 31,
    "start_time": "2023-08-27T14:41:15.076Z"
   },
   {
    "duration": 37,
    "start_time": "2023-08-27T14:41:15.108Z"
   },
   {
    "duration": 24,
    "start_time": "2023-08-27T14:41:15.147Z"
   },
   {
    "duration": 14,
    "start_time": "2023-08-27T14:41:15.173Z"
   },
   {
    "duration": 11,
    "start_time": "2023-08-27T14:41:15.188Z"
   },
   {
    "duration": 63,
    "start_time": "2023-08-27T14:41:15.200Z"
   },
   {
    "duration": 15,
    "start_time": "2023-08-27T14:41:15.265Z"
   },
   {
    "duration": 15,
    "start_time": "2023-08-27T14:41:15.281Z"
   },
   {
    "duration": 6,
    "start_time": "2023-08-27T14:41:15.298Z"
   },
   {
    "duration": 9,
    "start_time": "2023-08-27T14:41:15.307Z"
   },
   {
    "duration": 9,
    "start_time": "2023-08-27T14:41:15.318Z"
   },
   {
    "duration": 24,
    "start_time": "2023-08-27T14:41:15.329Z"
   },
   {
    "duration": 14,
    "start_time": "2023-08-27T14:41:15.354Z"
   },
   {
    "duration": 6064,
    "start_time": "2023-08-27T14:41:15.369Z"
   },
   {
    "duration": 0,
    "start_time": "2023-08-27T14:41:21.435Z"
   },
   {
    "duration": 0,
    "start_time": "2023-08-27T14:41:21.447Z"
   },
   {
    "duration": 0,
    "start_time": "2023-08-27T14:41:21.448Z"
   },
   {
    "duration": 0,
    "start_time": "2023-08-27T14:41:21.450Z"
   },
   {
    "duration": 0,
    "start_time": "2023-08-27T14:41:21.452Z"
   },
   {
    "duration": 0,
    "start_time": "2023-08-27T14:41:21.453Z"
   },
   {
    "duration": 0,
    "start_time": "2023-08-27T14:41:21.455Z"
   },
   {
    "duration": 1479,
    "start_time": "2023-08-27T14:42:11.101Z"
   },
   {
    "duration": 58,
    "start_time": "2023-08-27T14:42:12.582Z"
   },
   {
    "duration": 13,
    "start_time": "2023-08-27T14:42:12.641Z"
   },
   {
    "duration": 10,
    "start_time": "2023-08-27T14:42:12.656Z"
   },
   {
    "duration": 5,
    "start_time": "2023-08-27T14:42:12.667Z"
   },
   {
    "duration": 14,
    "start_time": "2023-08-27T14:42:12.673Z"
   },
   {
    "duration": 21,
    "start_time": "2023-08-27T14:42:12.688Z"
   },
   {
    "duration": 40,
    "start_time": "2023-08-27T14:42:12.710Z"
   },
   {
    "duration": 9,
    "start_time": "2023-08-27T14:42:12.752Z"
   },
   {
    "duration": 35,
    "start_time": "2023-08-27T14:42:12.764Z"
   },
   {
    "duration": 14,
    "start_time": "2023-08-27T14:42:12.802Z"
   },
   {
    "duration": 5,
    "start_time": "2023-08-27T14:42:12.846Z"
   },
   {
    "duration": 5,
    "start_time": "2023-08-27T14:42:12.853Z"
   },
   {
    "duration": 9,
    "start_time": "2023-08-27T14:42:12.860Z"
   },
   {
    "duration": 11,
    "start_time": "2023-08-27T14:42:12.871Z"
   },
   {
    "duration": 9,
    "start_time": "2023-08-27T14:42:12.883Z"
   },
   {
    "duration": 6,
    "start_time": "2023-08-27T14:42:12.894Z"
   },
   {
    "duration": 6458,
    "start_time": "2023-08-27T14:42:12.902Z"
   },
   {
    "duration": 0,
    "start_time": "2023-08-27T14:42:19.362Z"
   },
   {
    "duration": 0,
    "start_time": "2023-08-27T14:42:19.363Z"
   },
   {
    "duration": 0,
    "start_time": "2023-08-27T14:42:19.365Z"
   },
   {
    "duration": 0,
    "start_time": "2023-08-27T14:42:19.367Z"
   },
   {
    "duration": 0,
    "start_time": "2023-08-27T14:42:19.368Z"
   },
   {
    "duration": 0,
    "start_time": "2023-08-27T14:42:19.370Z"
   },
   {
    "duration": 0,
    "start_time": "2023-08-27T14:42:19.372Z"
   },
   {
    "duration": 1488,
    "start_time": "2023-08-27T14:42:58.821Z"
   },
   {
    "duration": 64,
    "start_time": "2023-08-27T14:43:00.312Z"
   },
   {
    "duration": 17,
    "start_time": "2023-08-27T14:43:00.377Z"
   },
   {
    "duration": 78,
    "start_time": "2023-08-27T14:43:00.396Z"
   },
   {
    "duration": 25,
    "start_time": "2023-08-27T14:43:00.477Z"
   },
   {
    "duration": 55,
    "start_time": "2023-08-27T14:43:00.503Z"
   },
   {
    "duration": 37,
    "start_time": "2023-08-27T14:43:00.560Z"
   },
   {
    "duration": 74,
    "start_time": "2023-08-27T14:43:00.598Z"
   },
   {
    "duration": 173,
    "start_time": "2023-08-27T14:43:00.674Z"
   },
   {
    "duration": 71,
    "start_time": "2023-08-27T14:43:00.849Z"
   },
   {
    "duration": 14,
    "start_time": "2023-08-27T14:43:00.921Z"
   },
   {
    "duration": 34,
    "start_time": "2023-08-27T14:43:00.936Z"
   },
   {
    "duration": 14,
    "start_time": "2023-08-27T14:43:00.971Z"
   },
   {
    "duration": 22,
    "start_time": "2023-08-27T14:43:00.988Z"
   },
   {
    "duration": 27,
    "start_time": "2023-08-27T14:43:01.012Z"
   },
   {
    "duration": 53,
    "start_time": "2023-08-27T14:43:01.041Z"
   },
   {
    "duration": 40,
    "start_time": "2023-08-27T14:43:01.095Z"
   },
   {
    "duration": 6279,
    "start_time": "2023-08-27T14:43:01.137Z"
   },
   {
    "duration": 137,
    "start_time": "2023-08-27T14:43:07.417Z"
   },
   {
    "duration": 6427,
    "start_time": "2023-08-27T14:43:07.556Z"
   },
   {
    "duration": 16,
    "start_time": "2023-08-27T14:43:13.986Z"
   },
   {
    "duration": 8557,
    "start_time": "2023-08-27T14:43:14.004Z"
   },
   {
    "duration": 15,
    "start_time": "2023-08-27T14:43:22.562Z"
   },
   {
    "duration": 2938,
    "start_time": "2023-08-27T14:43:22.579Z"
   },
   {
    "duration": 42,
    "start_time": "2023-08-27T14:43:25.518Z"
   },
   {
    "duration": 1501,
    "start_time": "2023-08-27T15:14:35.291Z"
   },
   {
    "duration": 63,
    "start_time": "2023-08-27T15:14:36.795Z"
   },
   {
    "duration": 17,
    "start_time": "2023-08-27T15:14:36.860Z"
   },
   {
    "duration": 10,
    "start_time": "2023-08-27T15:14:36.879Z"
   },
   {
    "duration": 3,
    "start_time": "2023-08-27T15:14:36.891Z"
   },
   {
    "duration": 40,
    "start_time": "2023-08-27T15:14:36.896Z"
   },
   {
    "duration": 26,
    "start_time": "2023-08-27T15:14:36.937Z"
   },
   {
    "duration": 13,
    "start_time": "2023-08-27T15:14:36.964Z"
   },
   {
    "duration": 11,
    "start_time": "2023-08-27T15:14:36.979Z"
   },
   {
    "duration": 67,
    "start_time": "2023-08-27T15:14:36.992Z"
   },
   {
    "duration": 14,
    "start_time": "2023-08-27T15:14:37.061Z"
   },
   {
    "duration": 10,
    "start_time": "2023-08-27T15:14:37.077Z"
   },
   {
    "duration": 5,
    "start_time": "2023-08-27T15:14:37.089Z"
   },
   {
    "duration": 6,
    "start_time": "2023-08-27T15:14:37.098Z"
   },
   {
    "duration": 7,
    "start_time": "2023-08-27T15:14:37.105Z"
   },
   {
    "duration": 37,
    "start_time": "2023-08-27T15:14:37.114Z"
   },
   {
    "duration": 7,
    "start_time": "2023-08-27T15:14:37.154Z"
   },
   {
    "duration": 5,
    "start_time": "2023-08-27T15:14:37.163Z"
   },
   {
    "duration": 0,
    "start_time": "2023-08-27T15:14:37.170Z"
   },
   {
    "duration": 0,
    "start_time": "2023-08-27T15:14:37.171Z"
   },
   {
    "duration": 0,
    "start_time": "2023-08-27T15:14:37.173Z"
   },
   {
    "duration": 0,
    "start_time": "2023-08-27T15:14:37.174Z"
   },
   {
    "duration": 0,
    "start_time": "2023-08-27T15:14:37.176Z"
   },
   {
    "duration": 1418,
    "start_time": "2023-08-27T15:15:26.484Z"
   },
   {
    "duration": 60,
    "start_time": "2023-08-27T15:15:27.904Z"
   },
   {
    "duration": 15,
    "start_time": "2023-08-27T15:15:27.966Z"
   },
   {
    "duration": 119,
    "start_time": "2023-08-27T15:15:27.983Z"
   },
   {
    "duration": 59,
    "start_time": "2023-08-27T15:15:28.105Z"
   },
   {
    "duration": 41,
    "start_time": "2023-08-27T15:15:28.166Z"
   },
   {
    "duration": 35,
    "start_time": "2023-08-27T15:15:28.209Z"
   },
   {
    "duration": 21,
    "start_time": "2023-08-27T15:15:28.246Z"
   },
   {
    "duration": 23,
    "start_time": "2023-08-27T15:15:28.270Z"
   },
   {
    "duration": 57,
    "start_time": "2023-08-27T15:15:28.295Z"
   },
   {
    "duration": 15,
    "start_time": "2023-08-27T15:15:28.354Z"
   },
   {
    "duration": 25,
    "start_time": "2023-08-27T15:15:28.370Z"
   },
   {
    "duration": 37,
    "start_time": "2023-08-27T15:15:28.397Z"
   },
   {
    "duration": 27,
    "start_time": "2023-08-27T15:15:28.437Z"
   },
   {
    "duration": 30,
    "start_time": "2023-08-27T15:15:28.466Z"
   },
   {
    "duration": 47,
    "start_time": "2023-08-27T15:15:28.498Z"
   },
   {
    "duration": 39,
    "start_time": "2023-08-27T15:15:28.547Z"
   },
   {
    "duration": 6331,
    "start_time": "2023-08-27T15:15:28.588Z"
   },
   {
    "duration": 134,
    "start_time": "2023-08-27T15:15:34.921Z"
   },
   {
    "duration": 15,
    "start_time": "2023-08-27T15:15:35.056Z"
   },
   {
    "duration": 15,
    "start_time": "2023-08-27T15:15:35.074Z"
   },
   {
    "duration": 81,
    "start_time": "2023-08-27T15:15:35.092Z"
   },
   {
    "duration": 0,
    "start_time": "2023-08-27T15:15:35.175Z"
   },
   {
    "duration": 17853,
    "start_time": "2023-08-27T15:15:51.559Z"
   },
   {
    "duration": 30,
    "start_time": "2023-08-27T15:16:23.944Z"
   },
   {
    "duration": 1500,
    "start_time": "2023-08-27T15:18:09.901Z"
   },
   {
    "duration": 60,
    "start_time": "2023-08-27T15:18:11.403Z"
   },
   {
    "duration": 15,
    "start_time": "2023-08-27T15:18:11.467Z"
   },
   {
    "duration": 7,
    "start_time": "2023-08-27T15:18:11.484Z"
   },
   {
    "duration": 4,
    "start_time": "2023-08-27T15:18:11.493Z"
   },
   {
    "duration": 50,
    "start_time": "2023-08-27T15:18:11.498Z"
   },
   {
    "duration": 20,
    "start_time": "2023-08-27T15:18:11.550Z"
   },
   {
    "duration": 14,
    "start_time": "2023-08-27T15:18:11.572Z"
   },
   {
    "duration": 9,
    "start_time": "2023-08-27T15:18:11.588Z"
   },
   {
    "duration": 69,
    "start_time": "2023-08-27T15:18:11.598Z"
   },
   {
    "duration": 14,
    "start_time": "2023-08-27T15:18:11.669Z"
   },
   {
    "duration": 14,
    "start_time": "2023-08-27T15:18:11.684Z"
   },
   {
    "duration": 10,
    "start_time": "2023-08-27T15:18:11.702Z"
   },
   {
    "duration": 5,
    "start_time": "2023-08-27T15:18:11.714Z"
   },
   {
    "duration": 26,
    "start_time": "2023-08-27T15:18:11.721Z"
   },
   {
    "duration": 6,
    "start_time": "2023-08-27T15:18:11.749Z"
   },
   {
    "duration": 8,
    "start_time": "2023-08-27T15:18:11.758Z"
   },
   {
    "duration": 6560,
    "start_time": "2023-08-27T15:18:11.768Z"
   },
   {
    "duration": 153,
    "start_time": "2023-08-27T15:18:18.330Z"
   },
   {
    "duration": 15,
    "start_time": "2023-08-27T15:18:18.485Z"
   },
   {
    "duration": 15,
    "start_time": "2023-08-27T15:18:18.502Z"
   },
   {
    "duration": 17887,
    "start_time": "2023-08-27T15:18:18.519Z"
   },
   {
    "duration": 41,
    "start_time": "2023-08-27T15:18:36.408Z"
   },
   {
    "duration": 17938,
    "start_time": "2023-08-27T15:18:57.281Z"
   },
   {
    "duration": 39,
    "start_time": "2023-08-27T15:19:15.221Z"
   },
   {
    "duration": 1419,
    "start_time": "2023-08-27T15:24:56.746Z"
   },
   {
    "duration": 59,
    "start_time": "2023-08-27T15:24:58.168Z"
   },
   {
    "duration": 16,
    "start_time": "2023-08-27T15:24:58.229Z"
   },
   {
    "duration": 15,
    "start_time": "2023-08-27T15:24:58.247Z"
   },
   {
    "duration": 12,
    "start_time": "2023-08-27T15:24:58.264Z"
   },
   {
    "duration": 19,
    "start_time": "2023-08-27T15:24:58.277Z"
   },
   {
    "duration": 20,
    "start_time": "2023-08-27T15:24:58.297Z"
   },
   {
    "duration": 13,
    "start_time": "2023-08-27T15:24:58.318Z"
   },
   {
    "duration": 20,
    "start_time": "2023-08-27T15:24:58.332Z"
   },
   {
    "duration": 33,
    "start_time": "2023-08-27T15:24:58.355Z"
   },
   {
    "duration": 13,
    "start_time": "2023-08-27T15:24:58.390Z"
   },
   {
    "duration": 30,
    "start_time": "2023-08-27T15:24:58.405Z"
   },
   {
    "duration": 22,
    "start_time": "2023-08-27T15:24:58.436Z"
   },
   {
    "duration": 28,
    "start_time": "2023-08-27T15:24:58.460Z"
   },
   {
    "duration": 33,
    "start_time": "2023-08-27T15:24:58.490Z"
   },
   {
    "duration": 6394,
    "start_time": "2023-08-27T15:24:58.525Z"
   },
   {
    "duration": 134,
    "start_time": "2023-08-27T15:25:04.921Z"
   },
   {
    "duration": 14,
    "start_time": "2023-08-27T15:25:05.057Z"
   },
   {
    "duration": 37,
    "start_time": "2023-08-27T15:25:05.073Z"
   },
   {
    "duration": 17899,
    "start_time": "2023-08-27T15:25:05.112Z"
   },
   {
    "duration": 43,
    "start_time": "2023-08-27T15:25:23.013Z"
   },
   {
    "duration": 16594,
    "start_time": "2023-08-27T15:28:21.436Z"
   },
   {
    "duration": 36,
    "start_time": "2023-08-27T15:28:46.884Z"
   },
   {
    "duration": 107,
    "start_time": "2023-08-27T15:46:06.347Z"
   },
   {
    "duration": 7882,
    "start_time": "2023-08-27T15:46:16.524Z"
   },
   {
    "duration": 1479,
    "start_time": "2023-08-27T15:51:55.985Z"
   },
   {
    "duration": 60,
    "start_time": "2023-08-27T15:51:57.466Z"
   },
   {
    "duration": 14,
    "start_time": "2023-08-27T15:51:57.527Z"
   },
   {
    "duration": 7,
    "start_time": "2023-08-27T15:51:57.543Z"
   },
   {
    "duration": 10,
    "start_time": "2023-08-27T15:51:57.552Z"
   },
   {
    "duration": 24,
    "start_time": "2023-08-27T15:51:57.563Z"
   },
   {
    "duration": 22,
    "start_time": "2023-08-27T15:51:57.589Z"
   },
   {
    "duration": 12,
    "start_time": "2023-08-27T15:51:57.613Z"
   },
   {
    "duration": 23,
    "start_time": "2023-08-27T15:51:57.627Z"
   },
   {
    "duration": 32,
    "start_time": "2023-08-27T15:51:57.652Z"
   },
   {
    "duration": 12,
    "start_time": "2023-08-27T15:51:57.686Z"
   },
   {
    "duration": 12,
    "start_time": "2023-08-27T15:51:57.700Z"
   },
   {
    "duration": 33,
    "start_time": "2023-08-27T15:51:57.714Z"
   },
   {
    "duration": 9,
    "start_time": "2023-08-27T15:51:57.749Z"
   },
   {
    "duration": 12,
    "start_time": "2023-08-27T15:51:57.760Z"
   },
   {
    "duration": 5629,
    "start_time": "2023-08-27T15:51:57.774Z"
   },
   {
    "duration": 125,
    "start_time": "2023-08-27T15:52:03.405Z"
   },
   {
    "duration": 24,
    "start_time": "2023-08-27T15:52:03.531Z"
   },
   {
    "duration": 67,
    "start_time": "2023-08-27T15:52:03.557Z"
   },
   {
    "duration": 14807,
    "start_time": "2023-08-27T15:52:03.625Z"
   },
   {
    "duration": 32,
    "start_time": "2023-08-27T15:52:18.434Z"
   },
   {
    "duration": 6466,
    "start_time": "2023-08-27T15:52:18.467Z"
   },
   {
    "duration": 220,
    "start_time": "2023-08-27T15:52:24.934Z"
   },
   {
    "duration": 204,
    "start_time": "2023-08-27T15:53:53.723Z"
   },
   {
    "duration": 330,
    "start_time": "2023-08-27T15:55:14.898Z"
   },
   {
    "duration": 216,
    "start_time": "2023-08-27T15:55:49.370Z"
   },
   {
    "duration": 229,
    "start_time": "2023-08-27T16:00:31.543Z"
   },
   {
    "duration": 241,
    "start_time": "2023-08-27T16:00:45.836Z"
   },
   {
    "duration": 206,
    "start_time": "2023-08-27T16:01:29.403Z"
   },
   {
    "duration": 218,
    "start_time": "2023-08-27T16:03:14.285Z"
   },
   {
    "duration": 218,
    "start_time": "2023-08-27T16:04:23.751Z"
   },
   {
    "duration": 1483,
    "start_time": "2023-08-27T16:06:12.028Z"
   },
   {
    "duration": 59,
    "start_time": "2023-08-27T16:06:13.513Z"
   },
   {
    "duration": 15,
    "start_time": "2023-08-27T16:06:13.574Z"
   },
   {
    "duration": 8,
    "start_time": "2023-08-27T16:06:13.591Z"
   },
   {
    "duration": 4,
    "start_time": "2023-08-27T16:06:13.601Z"
   },
   {
    "duration": 42,
    "start_time": "2023-08-27T16:06:13.607Z"
   },
   {
    "duration": 28,
    "start_time": "2023-08-27T16:06:13.651Z"
   },
   {
    "duration": 13,
    "start_time": "2023-08-27T16:06:13.681Z"
   },
   {
    "duration": 10,
    "start_time": "2023-08-27T16:06:13.696Z"
   },
   {
    "duration": 58,
    "start_time": "2023-08-27T16:06:13.709Z"
   },
   {
    "duration": 13,
    "start_time": "2023-08-27T16:06:13.769Z"
   },
   {
    "duration": 8,
    "start_time": "2023-08-27T16:06:13.783Z"
   },
   {
    "duration": 8,
    "start_time": "2023-08-27T16:06:13.793Z"
   },
   {
    "duration": 7,
    "start_time": "2023-08-27T16:06:13.803Z"
   },
   {
    "duration": 7,
    "start_time": "2023-08-27T16:06:13.812Z"
   },
   {
    "duration": 5571,
    "start_time": "2023-08-27T16:06:13.820Z"
   },
   {
    "duration": 147,
    "start_time": "2023-08-27T16:06:19.393Z"
   },
   {
    "duration": 15,
    "start_time": "2023-08-27T16:06:19.542Z"
   },
   {
    "duration": 16,
    "start_time": "2023-08-27T16:06:19.559Z"
   },
   {
    "duration": 14658,
    "start_time": "2023-08-27T16:06:19.576Z"
   },
   {
    "duration": 34,
    "start_time": "2023-08-27T16:06:34.236Z"
   },
   {
    "duration": 6448,
    "start_time": "2023-08-27T16:06:34.272Z"
   },
   {
    "duration": 214,
    "start_time": "2023-08-27T16:06:40.722Z"
   },
   {
    "duration": 36,
    "start_time": "2023-08-27T16:08:25.966Z"
   },
   {
    "duration": 17,
    "start_time": "2023-08-27T16:08:30.886Z"
   },
   {
    "duration": 37,
    "start_time": "2023-08-27T16:08:52.856Z"
   },
   {
    "duration": 16,
    "start_time": "2023-08-27T16:08:57.021Z"
   },
   {
    "duration": 1419,
    "start_time": "2023-08-27T16:09:11.635Z"
   },
   {
    "duration": 58,
    "start_time": "2023-08-27T16:09:13.056Z"
   },
   {
    "duration": 13,
    "start_time": "2023-08-27T16:09:13.116Z"
   },
   {
    "duration": 7,
    "start_time": "2023-08-27T16:09:13.131Z"
   },
   {
    "duration": 4,
    "start_time": "2023-08-27T16:09:13.146Z"
   },
   {
    "duration": 18,
    "start_time": "2023-08-27T16:09:13.151Z"
   },
   {
    "duration": 21,
    "start_time": "2023-08-27T16:09:13.171Z"
   },
   {
    "duration": 13,
    "start_time": "2023-08-27T16:09:13.194Z"
   },
   {
    "duration": 39,
    "start_time": "2023-08-27T16:09:13.209Z"
   },
   {
    "duration": 39,
    "start_time": "2023-08-27T16:09:13.250Z"
   },
   {
    "duration": 13,
    "start_time": "2023-08-27T16:09:13.290Z"
   },
   {
    "duration": 21,
    "start_time": "2023-08-27T16:09:13.305Z"
   },
   {
    "duration": 23,
    "start_time": "2023-08-27T16:09:13.327Z"
   },
   {
    "duration": 6,
    "start_time": "2023-08-27T16:09:13.353Z"
   },
   {
    "duration": 8,
    "start_time": "2023-08-27T16:09:13.360Z"
   },
   {
    "duration": 6,
    "start_time": "2023-08-27T16:09:13.370Z"
   },
   {
    "duration": 5493,
    "start_time": "2023-08-27T16:09:13.377Z"
   },
   {
    "duration": 131,
    "start_time": "2023-08-27T16:09:18.872Z"
   },
   {
    "duration": 16,
    "start_time": "2023-08-27T16:09:19.005Z"
   },
   {
    "duration": 29,
    "start_time": "2023-08-27T16:09:19.024Z"
   },
   {
    "duration": 14579,
    "start_time": "2023-08-27T16:09:19.055Z"
   },
   {
    "duration": 33,
    "start_time": "2023-08-27T16:09:33.636Z"
   },
   {
    "duration": 6468,
    "start_time": "2023-08-27T16:09:33.671Z"
   },
   {
    "duration": 253,
    "start_time": "2023-08-27T16:09:40.141Z"
   },
   {
    "duration": 419,
    "start_time": "2023-08-27T16:10:35.588Z"
   },
   {
    "duration": 224,
    "start_time": "2023-08-27T16:10:47.787Z"
   },
   {
    "duration": 144,
    "start_time": "2023-08-27T17:56:26.054Z"
   },
   {
    "duration": 17284,
    "start_time": "2023-08-27T17:58:03.225Z"
   },
   {
    "duration": 1866,
    "start_time": "2023-08-27T18:00:47.643Z"
   },
   {
    "duration": 96,
    "start_time": "2023-08-27T18:00:49.513Z"
   },
   {
    "duration": 24,
    "start_time": "2023-08-27T18:00:49.611Z"
   },
   {
    "duration": 14,
    "start_time": "2023-08-27T18:00:49.638Z"
   },
   {
    "duration": 6,
    "start_time": "2023-08-27T18:00:49.656Z"
   },
   {
    "duration": 39,
    "start_time": "2023-08-27T18:00:49.673Z"
   },
   {
    "duration": 21,
    "start_time": "2023-08-27T18:00:49.715Z"
   },
   {
    "duration": 32,
    "start_time": "2023-08-27T18:00:49.738Z"
   },
   {
    "duration": 22,
    "start_time": "2023-08-27T18:00:49.773Z"
   },
   {
    "duration": 64,
    "start_time": "2023-08-27T18:00:49.813Z"
   },
   {
    "duration": 25,
    "start_time": "2023-08-27T18:00:49.879Z"
   },
   {
    "duration": 20,
    "start_time": "2023-08-27T18:00:49.911Z"
   },
   {
    "duration": 6,
    "start_time": "2023-08-27T18:00:49.934Z"
   },
   {
    "duration": 24,
    "start_time": "2023-08-27T18:00:49.942Z"
   },
   {
    "duration": 20,
    "start_time": "2023-08-27T18:00:49.968Z"
   },
   {
    "duration": 16,
    "start_time": "2023-08-27T18:00:49.990Z"
   },
   {
    "duration": 6685,
    "start_time": "2023-08-27T18:00:50.008Z"
   },
   {
    "duration": 149,
    "start_time": "2023-08-27T18:00:56.695Z"
   },
   {
    "duration": 25,
    "start_time": "2023-08-27T18:00:56.853Z"
   },
   {
    "duration": 26,
    "start_time": "2023-08-27T18:00:56.880Z"
   },
   {
    "duration": 17474,
    "start_time": "2023-08-27T18:00:56.908Z"
   },
   {
    "duration": 7784,
    "start_time": "2023-08-27T18:01:14.384Z"
   },
   {
    "duration": 260,
    "start_time": "2023-08-27T18:01:22.176Z"
   },
   {
    "duration": 1878,
    "start_time": "2023-08-27T18:07:34.527Z"
   },
   {
    "duration": 96,
    "start_time": "2023-08-27T18:07:36.416Z"
   },
   {
    "duration": 14,
    "start_time": "2023-08-27T18:07:36.514Z"
   },
   {
    "duration": 32,
    "start_time": "2023-08-27T18:07:36.530Z"
   },
   {
    "duration": 5,
    "start_time": "2023-08-27T18:07:36.563Z"
   },
   {
    "duration": 32,
    "start_time": "2023-08-27T18:07:36.570Z"
   },
   {
    "duration": 27,
    "start_time": "2023-08-27T18:07:36.604Z"
   },
   {
    "duration": 15,
    "start_time": "2023-08-27T18:07:36.634Z"
   },
   {
    "duration": 22,
    "start_time": "2023-08-27T18:07:36.651Z"
   },
   {
    "duration": 56,
    "start_time": "2023-08-27T18:07:36.676Z"
   },
   {
    "duration": 25,
    "start_time": "2023-08-27T18:07:36.734Z"
   },
   {
    "duration": 44,
    "start_time": "2023-08-27T18:07:36.762Z"
   },
   {
    "duration": 8,
    "start_time": "2023-08-27T18:07:36.809Z"
   },
   {
    "duration": 6,
    "start_time": "2023-08-27T18:07:36.818Z"
   },
   {
    "duration": 7,
    "start_time": "2023-08-27T18:07:36.825Z"
   },
   {
    "duration": 29,
    "start_time": "2023-08-27T18:07:36.833Z"
   },
   {
    "duration": 6604,
    "start_time": "2023-08-27T18:07:36.863Z"
   },
   {
    "duration": 160,
    "start_time": "2023-08-27T18:07:43.471Z"
   },
   {
    "duration": 27,
    "start_time": "2023-08-27T18:07:43.633Z"
   },
   {
    "duration": 26,
    "start_time": "2023-08-27T18:07:43.661Z"
   },
   {
    "duration": 17934,
    "start_time": "2023-08-27T18:07:43.690Z"
   },
   {
    "duration": 7854,
    "start_time": "2023-08-27T18:08:01.626Z"
   },
   {
    "duration": 271,
    "start_time": "2023-08-27T18:08:09.482Z"
   },
   {
    "duration": 1593,
    "start_time": "2023-08-28T19:02:24.394Z"
   },
   {
    "duration": 176,
    "start_time": "2023-08-28T19:02:25.991Z"
   },
   {
    "duration": 15,
    "start_time": "2023-08-28T19:02:26.168Z"
   },
   {
    "duration": 15,
    "start_time": "2023-08-28T19:02:26.185Z"
   },
   {
    "duration": 2,
    "start_time": "2023-08-28T19:02:26.202Z"
   },
   {
    "duration": 14,
    "start_time": "2023-08-28T19:02:26.206Z"
   },
   {
    "duration": 14,
    "start_time": "2023-08-28T19:02:26.222Z"
   },
   {
    "duration": 39,
    "start_time": "2023-08-28T19:02:26.237Z"
   },
   {
    "duration": 14,
    "start_time": "2023-08-28T19:02:26.277Z"
   },
   {
    "duration": 36,
    "start_time": "2023-08-28T19:02:26.293Z"
   },
   {
    "duration": 39,
    "start_time": "2023-08-28T19:02:26.331Z"
   },
   {
    "duration": 13,
    "start_time": "2023-08-28T19:02:26.372Z"
   },
   {
    "duration": 16,
    "start_time": "2023-08-28T19:02:26.386Z"
   },
   {
    "duration": 9,
    "start_time": "2023-08-28T19:02:26.403Z"
   },
   {
    "duration": 14,
    "start_time": "2023-08-28T19:02:26.414Z"
   },
   {
    "duration": 27,
    "start_time": "2023-08-28T19:02:26.430Z"
   },
   {
    "duration": 12,
    "start_time": "2023-08-28T19:02:26.459Z"
   },
   {
    "duration": 128,
    "start_time": "2023-08-28T19:02:26.473Z"
   },
   {
    "duration": 0,
    "start_time": "2023-08-28T19:02:26.602Z"
   },
   {
    "duration": 0,
    "start_time": "2023-08-28T19:02:26.604Z"
   },
   {
    "duration": 0,
    "start_time": "2023-08-28T19:02:26.605Z"
   },
   {
    "duration": 0,
    "start_time": "2023-08-28T19:02:26.607Z"
   },
   {
    "duration": 0,
    "start_time": "2023-08-28T19:02:26.608Z"
   },
   {
    "duration": 0,
    "start_time": "2023-08-28T19:02:26.609Z"
   },
   {
    "duration": 14,
    "start_time": "2023-08-28T19:03:13.535Z"
   },
   {
    "duration": 10,
    "start_time": "2023-08-28T19:03:18.481Z"
   },
   {
    "duration": 6,
    "start_time": "2023-08-28T19:04:43.818Z"
   },
   {
    "duration": 7,
    "start_time": "2023-08-28T19:05:27.539Z"
   },
   {
    "duration": 6,
    "start_time": "2023-08-28T19:07:43.734Z"
   },
   {
    "duration": 1436,
    "start_time": "2023-08-28T19:08:28.057Z"
   },
   {
    "duration": 55,
    "start_time": "2023-08-28T19:08:29.495Z"
   },
   {
    "duration": 13,
    "start_time": "2023-08-28T19:08:29.551Z"
   },
   {
    "duration": 6,
    "start_time": "2023-08-28T19:08:29.565Z"
   },
   {
    "duration": 2,
    "start_time": "2023-08-28T19:08:29.574Z"
   },
   {
    "duration": 13,
    "start_time": "2023-08-28T19:08:29.577Z"
   },
   {
    "duration": 14,
    "start_time": "2023-08-28T19:08:29.592Z"
   },
   {
    "duration": 22,
    "start_time": "2023-08-28T19:08:29.608Z"
   },
   {
    "duration": 12,
    "start_time": "2023-08-28T19:08:29.632Z"
   },
   {
    "duration": 29,
    "start_time": "2023-08-28T19:08:29.645Z"
   },
   {
    "duration": 36,
    "start_time": "2023-08-28T19:08:29.676Z"
   },
   {
    "duration": 11,
    "start_time": "2023-08-28T19:08:29.714Z"
   },
   {
    "duration": 17,
    "start_time": "2023-08-28T19:08:29.727Z"
   },
   {
    "duration": 4,
    "start_time": "2023-08-28T19:08:29.766Z"
   },
   {
    "duration": 7,
    "start_time": "2023-08-28T19:08:29.772Z"
   },
   {
    "duration": 15,
    "start_time": "2023-08-28T19:08:29.781Z"
   },
   {
    "duration": 8,
    "start_time": "2023-08-28T19:08:29.798Z"
   },
   {
    "duration": 5174,
    "start_time": "2023-08-28T19:08:29.807Z"
   },
   {
    "duration": 135,
    "start_time": "2023-08-28T19:08:34.983Z"
   },
   {
    "duration": 16,
    "start_time": "2023-08-28T19:08:35.120Z"
   },
   {
    "duration": 79,
    "start_time": "2023-08-28T19:08:35.138Z"
   },
   {
    "duration": 13544,
    "start_time": "2023-08-28T19:08:35.219Z"
   },
   {
    "duration": 5552,
    "start_time": "2023-08-28T19:08:48.764Z"
   },
   {
    "duration": 207,
    "start_time": "2023-08-28T19:08:54.318Z"
   },
   {
    "duration": 1482,
    "start_time": "2023-08-28T19:25:32.153Z"
   },
   {
    "duration": 58,
    "start_time": "2023-08-28T19:25:33.637Z"
   },
   {
    "duration": 13,
    "start_time": "2023-08-28T19:25:33.697Z"
   },
   {
    "duration": 22,
    "start_time": "2023-08-28T19:25:33.712Z"
   },
   {
    "duration": 3,
    "start_time": "2023-08-28T19:25:33.736Z"
   },
   {
    "duration": 46,
    "start_time": "2023-08-28T19:25:33.740Z"
   },
   {
    "duration": 16,
    "start_time": "2023-08-28T19:25:33.788Z"
   },
   {
    "duration": 31,
    "start_time": "2023-08-28T19:25:33.806Z"
   },
   {
    "duration": 27,
    "start_time": "2023-08-28T19:25:33.839Z"
   },
   {
    "duration": 29,
    "start_time": "2023-08-28T19:25:33.868Z"
   },
   {
    "duration": 94,
    "start_time": "2023-08-28T19:25:33.899Z"
   },
   {
    "duration": 17,
    "start_time": "2023-08-28T19:25:33.995Z"
   },
   {
    "duration": 18,
    "start_time": "2023-08-28T19:25:34.014Z"
   },
   {
    "duration": 8,
    "start_time": "2023-08-28T19:25:34.034Z"
   },
   {
    "duration": 29,
    "start_time": "2023-08-28T19:25:34.044Z"
   },
   {
    "duration": 114,
    "start_time": "2023-08-28T19:25:34.076Z"
   },
   {
    "duration": 0,
    "start_time": "2023-08-28T19:25:34.192Z"
   },
   {
    "duration": 0,
    "start_time": "2023-08-28T19:25:34.194Z"
   },
   {
    "duration": 0,
    "start_time": "2023-08-28T19:25:34.195Z"
   },
   {
    "duration": 0,
    "start_time": "2023-08-28T19:25:34.196Z"
   },
   {
    "duration": 0,
    "start_time": "2023-08-28T19:25:34.198Z"
   },
   {
    "duration": 0,
    "start_time": "2023-08-28T19:25:34.199Z"
   },
   {
    "duration": 0,
    "start_time": "2023-08-28T19:25:34.200Z"
   },
   {
    "duration": 0,
    "start_time": "2023-08-28T19:25:34.202Z"
   },
   {
    "duration": 0,
    "start_time": "2023-08-28T19:25:34.203Z"
   },
   {
    "duration": 1528,
    "start_time": "2023-08-28T19:26:03.225Z"
   },
   {
    "duration": 56,
    "start_time": "2023-08-28T19:26:04.755Z"
   },
   {
    "duration": 14,
    "start_time": "2023-08-28T19:26:04.813Z"
   },
   {
    "duration": 11,
    "start_time": "2023-08-28T19:26:04.828Z"
   },
   {
    "duration": 17,
    "start_time": "2023-08-28T19:26:04.841Z"
   },
   {
    "duration": 25,
    "start_time": "2023-08-28T19:26:04.860Z"
   },
   {
    "duration": 45,
    "start_time": "2023-08-28T19:26:04.887Z"
   },
   {
    "duration": 66,
    "start_time": "2023-08-28T19:26:04.934Z"
   },
   {
    "duration": 32,
    "start_time": "2023-08-28T19:26:05.002Z"
   },
   {
    "duration": 16,
    "start_time": "2023-08-28T19:26:05.036Z"
   },
   {
    "duration": 47,
    "start_time": "2023-08-28T19:26:05.053Z"
   },
   {
    "duration": 13,
    "start_time": "2023-08-28T19:26:05.102Z"
   },
   {
    "duration": 29,
    "start_time": "2023-08-28T19:26:05.116Z"
   },
   {
    "duration": 32,
    "start_time": "2023-08-28T19:26:05.148Z"
   },
   {
    "duration": 16,
    "start_time": "2023-08-28T19:26:05.181Z"
   },
   {
    "duration": 28,
    "start_time": "2023-08-28T19:26:05.199Z"
   },
   {
    "duration": 9,
    "start_time": "2023-08-28T19:26:05.229Z"
   },
   {
    "duration": 15,
    "start_time": "2023-08-28T19:26:05.240Z"
   },
   {
    "duration": 1420,
    "start_time": "2023-08-28T19:32:17.824Z"
   },
   {
    "duration": 56,
    "start_time": "2023-08-28T19:32:19.246Z"
   },
   {
    "duration": 15,
    "start_time": "2023-08-28T19:32:19.304Z"
   },
   {
    "duration": 8,
    "start_time": "2023-08-28T19:32:19.321Z"
   },
   {
    "duration": 5,
    "start_time": "2023-08-28T19:32:19.331Z"
   },
   {
    "duration": 15,
    "start_time": "2023-08-28T19:32:19.337Z"
   },
   {
    "duration": 26,
    "start_time": "2023-08-28T19:32:19.354Z"
   },
   {
    "duration": 27,
    "start_time": "2023-08-28T19:32:19.382Z"
   },
   {
    "duration": 12,
    "start_time": "2023-08-28T19:32:19.411Z"
   },
   {
    "duration": 10,
    "start_time": "2023-08-28T19:32:19.425Z"
   },
   {
    "duration": 58,
    "start_time": "2023-08-28T19:32:19.437Z"
   },
   {
    "duration": 13,
    "start_time": "2023-08-28T19:32:19.497Z"
   },
   {
    "duration": 13,
    "start_time": "2023-08-28T19:32:19.512Z"
   },
   {
    "duration": 10,
    "start_time": "2023-08-28T19:32:19.526Z"
   },
   {
    "duration": 11,
    "start_time": "2023-08-28T19:32:19.538Z"
   },
   {
    "duration": 16,
    "start_time": "2023-08-28T19:32:19.551Z"
   },
   {
    "duration": 18,
    "start_time": "2023-08-28T19:32:19.568Z"
   },
   {
    "duration": 8,
    "start_time": "2023-08-28T19:32:19.588Z"
   },
   {
    "duration": 30099,
    "start_time": "2023-08-28T19:32:19.597Z"
   },
   {
    "duration": 119,
    "start_time": "2023-08-28T19:32:49.697Z"
   },
   {
    "duration": 12,
    "start_time": "2023-08-28T19:32:49.818Z"
   },
   {
    "duration": 12,
    "start_time": "2023-08-28T19:32:49.831Z"
   },
   {
    "duration": 89252,
    "start_time": "2023-08-28T19:32:49.844Z"
   },
   {
    "duration": 39187,
    "start_time": "2023-08-28T19:34:19.098Z"
   },
   {
    "duration": 0,
    "start_time": "2023-08-28T19:34:58.286Z"
   },
   {
    "duration": 7,
    "start_time": "2023-08-28T19:46:58.785Z"
   },
   {
    "duration": 1439,
    "start_time": "2023-08-28T19:50:59.680Z"
   },
   {
    "duration": 57,
    "start_time": "2023-08-28T19:51:01.121Z"
   },
   {
    "duration": 14,
    "start_time": "2023-08-28T19:51:01.179Z"
   },
   {
    "duration": 68,
    "start_time": "2023-08-28T19:51:01.195Z"
   },
   {
    "duration": 65,
    "start_time": "2023-08-28T19:51:01.265Z"
   },
   {
    "duration": 42,
    "start_time": "2023-08-28T19:51:01.331Z"
   },
   {
    "duration": 46,
    "start_time": "2023-08-28T19:51:01.375Z"
   },
   {
    "duration": 43,
    "start_time": "2023-08-28T19:51:01.423Z"
   },
   {
    "duration": 26,
    "start_time": "2023-08-28T19:51:01.467Z"
   },
   {
    "duration": 42,
    "start_time": "2023-08-28T19:51:01.495Z"
   },
   {
    "duration": 70,
    "start_time": "2023-08-28T19:51:01.539Z"
   },
   {
    "duration": 59,
    "start_time": "2023-08-28T19:51:01.610Z"
   },
   {
    "duration": 59,
    "start_time": "2023-08-28T19:51:01.671Z"
   },
   {
    "duration": 69,
    "start_time": "2023-08-28T19:51:01.733Z"
   },
   {
    "duration": 41,
    "start_time": "2023-08-28T19:51:01.804Z"
   },
   {
    "duration": 77,
    "start_time": "2023-08-28T19:51:01.847Z"
   },
   {
    "duration": 90,
    "start_time": "2023-08-28T19:51:01.925Z"
   },
   {
    "duration": 0,
    "start_time": "2023-08-28T19:51:02.016Z"
   },
   {
    "duration": 0,
    "start_time": "2023-08-28T19:51:02.018Z"
   },
   {
    "duration": 0,
    "start_time": "2023-08-28T19:51:02.019Z"
   },
   {
    "duration": 0,
    "start_time": "2023-08-28T19:51:02.020Z"
   },
   {
    "duration": 0,
    "start_time": "2023-08-28T19:51:02.021Z"
   },
   {
    "duration": 0,
    "start_time": "2023-08-28T19:51:02.022Z"
   },
   {
    "duration": 0,
    "start_time": "2023-08-28T19:51:02.022Z"
   },
   {
    "duration": 0,
    "start_time": "2023-08-28T19:51:02.024Z"
   },
   {
    "duration": 1440,
    "start_time": "2023-08-28T19:51:23.337Z"
   },
   {
    "duration": 60,
    "start_time": "2023-08-28T19:51:24.779Z"
   },
   {
    "duration": 16,
    "start_time": "2023-08-28T19:51:24.842Z"
   },
   {
    "duration": 10,
    "start_time": "2023-08-28T19:51:24.860Z"
   },
   {
    "duration": 5,
    "start_time": "2023-08-28T19:51:24.873Z"
   },
   {
    "duration": 27,
    "start_time": "2023-08-28T19:51:24.880Z"
   },
   {
    "duration": 15,
    "start_time": "2023-08-28T19:51:24.909Z"
   },
   {
    "duration": 30,
    "start_time": "2023-08-28T19:51:24.925Z"
   },
   {
    "duration": 13,
    "start_time": "2023-08-28T19:51:24.957Z"
   },
   {
    "duration": 17,
    "start_time": "2023-08-28T19:51:24.971Z"
   },
   {
    "duration": 39,
    "start_time": "2023-08-28T19:51:24.989Z"
   },
   {
    "duration": 12,
    "start_time": "2023-08-28T19:51:25.030Z"
   },
   {
    "duration": 32,
    "start_time": "2023-08-28T19:51:25.044Z"
   },
   {
    "duration": 4,
    "start_time": "2023-08-28T19:51:25.079Z"
   },
   {
    "duration": 24,
    "start_time": "2023-08-28T19:51:25.084Z"
   },
   {
    "duration": 10,
    "start_time": "2023-08-28T19:51:25.110Z"
   },
   {
    "duration": 8,
    "start_time": "2023-08-28T19:51:25.122Z"
   },
   {
    "duration": 0,
    "start_time": "2023-08-28T19:51:25.131Z"
   },
   {
    "duration": 0,
    "start_time": "2023-08-28T19:51:25.133Z"
   },
   {
    "duration": 0,
    "start_time": "2023-08-28T19:51:25.134Z"
   },
   {
    "duration": 0,
    "start_time": "2023-08-28T19:51:25.135Z"
   },
   {
    "duration": 0,
    "start_time": "2023-08-28T19:51:25.136Z"
   },
   {
    "duration": 0,
    "start_time": "2023-08-28T19:51:25.138Z"
   },
   {
    "duration": 0,
    "start_time": "2023-08-28T19:51:25.139Z"
   },
   {
    "duration": 0,
    "start_time": "2023-08-28T19:51:25.140Z"
   },
   {
    "duration": 1418,
    "start_time": "2023-08-28T19:51:57.634Z"
   },
   {
    "duration": 56,
    "start_time": "2023-08-28T19:51:59.054Z"
   },
   {
    "duration": 15,
    "start_time": "2023-08-28T19:51:59.112Z"
   },
   {
    "duration": 23,
    "start_time": "2023-08-28T19:51:59.129Z"
   },
   {
    "duration": 10,
    "start_time": "2023-08-28T19:51:59.154Z"
   },
   {
    "duration": 29,
    "start_time": "2023-08-28T19:51:59.165Z"
   },
   {
    "duration": 32,
    "start_time": "2023-08-28T19:51:59.195Z"
   },
   {
    "duration": 43,
    "start_time": "2023-08-28T19:51:59.229Z"
   },
   {
    "duration": 13,
    "start_time": "2023-08-28T19:51:59.274Z"
   },
   {
    "duration": 15,
    "start_time": "2023-08-28T19:51:59.290Z"
   },
   {
    "duration": 37,
    "start_time": "2023-08-28T19:51:59.306Z"
   },
   {
    "duration": 23,
    "start_time": "2023-08-28T19:51:59.345Z"
   },
   {
    "duration": 13,
    "start_time": "2023-08-28T19:51:59.369Z"
   },
   {
    "duration": 6,
    "start_time": "2023-08-28T19:51:59.383Z"
   },
   {
    "duration": 9,
    "start_time": "2023-08-28T19:51:59.391Z"
   },
   {
    "duration": 8,
    "start_time": "2023-08-28T19:51:59.401Z"
   },
   {
    "duration": 7,
    "start_time": "2023-08-28T19:51:59.411Z"
   },
   {
    "duration": 18,
    "start_time": "2023-08-28T19:51:59.419Z"
   },
   {
    "duration": 19206,
    "start_time": "2023-08-28T19:51:59.438Z"
   },
   {
    "duration": 129,
    "start_time": "2023-08-28T19:52:18.645Z"
   },
   {
    "duration": 15,
    "start_time": "2023-08-28T19:52:18.776Z"
   },
   {
    "duration": 59,
    "start_time": "2023-08-28T19:52:18.793Z"
   },
   {
    "duration": 1401,
    "start_time": "2023-08-28T19:52:52.724Z"
   },
   {
    "duration": 62,
    "start_time": "2023-08-28T19:52:54.129Z"
   },
   {
    "duration": 15,
    "start_time": "2023-08-28T19:52:54.193Z"
   },
   {
    "duration": 16,
    "start_time": "2023-08-28T19:52:54.209Z"
   },
   {
    "duration": 15,
    "start_time": "2023-08-28T19:52:54.228Z"
   },
   {
    "duration": 35,
    "start_time": "2023-08-28T19:52:54.245Z"
   },
   {
    "duration": 25,
    "start_time": "2023-08-28T19:52:54.282Z"
   },
   {
    "duration": 37,
    "start_time": "2023-08-28T19:52:54.309Z"
   },
   {
    "duration": 38,
    "start_time": "2023-08-28T19:52:54.348Z"
   },
   {
    "duration": 22,
    "start_time": "2023-08-28T19:52:54.388Z"
   },
   {
    "duration": 36,
    "start_time": "2023-08-28T19:52:54.412Z"
   },
   {
    "duration": 17,
    "start_time": "2023-08-28T19:52:54.449Z"
   },
   {
    "duration": 37,
    "start_time": "2023-08-28T19:52:54.468Z"
   },
   {
    "duration": 16,
    "start_time": "2023-08-28T19:52:54.508Z"
   },
   {
    "duration": 19,
    "start_time": "2023-08-28T19:52:54.526Z"
   },
   {
    "duration": 42,
    "start_time": "2023-08-28T19:52:54.547Z"
   },
   {
    "duration": 43,
    "start_time": "2023-08-28T19:52:54.591Z"
   },
   {
    "duration": 27,
    "start_time": "2023-08-28T19:52:54.636Z"
   },
   {
    "duration": 18965,
    "start_time": "2023-08-28T19:52:54.665Z"
   },
   {
    "duration": 121,
    "start_time": "2023-08-28T19:53:13.632Z"
   },
   {
    "duration": 20,
    "start_time": "2023-08-28T19:53:13.755Z"
   },
   {
    "duration": 10,
    "start_time": "2023-08-28T19:53:13.777Z"
   },
   {
    "duration": 55813,
    "start_time": "2023-08-28T19:53:13.788Z"
   },
   {
    "duration": 25386,
    "start_time": "2023-08-28T19:54:09.603Z"
   },
   {
    "duration": 0,
    "start_time": "2023-08-28T19:54:34.990Z"
   },
   {
    "duration": 1392,
    "start_time": "2023-08-28T20:03:49.962Z"
   },
   {
    "duration": 58,
    "start_time": "2023-08-28T20:03:51.356Z"
   },
   {
    "duration": 13,
    "start_time": "2023-08-28T20:03:51.415Z"
   },
   {
    "duration": 7,
    "start_time": "2023-08-28T20:03:51.430Z"
   },
   {
    "duration": 8,
    "start_time": "2023-08-28T20:03:51.439Z"
   },
   {
    "duration": 22,
    "start_time": "2023-08-28T20:03:51.449Z"
   },
   {
    "duration": 22,
    "start_time": "2023-08-28T20:03:51.472Z"
   },
   {
    "duration": 20,
    "start_time": "2023-08-28T20:03:51.495Z"
   },
   {
    "duration": 15,
    "start_time": "2023-08-28T20:03:51.517Z"
   },
   {
    "duration": 27,
    "start_time": "2023-08-28T20:03:51.534Z"
   },
   {
    "duration": 38,
    "start_time": "2023-08-28T20:03:51.563Z"
   },
   {
    "duration": 12,
    "start_time": "2023-08-28T20:03:51.603Z"
   },
   {
    "duration": 24,
    "start_time": "2023-08-28T20:03:51.617Z"
   },
   {
    "duration": 15,
    "start_time": "2023-08-28T20:03:51.644Z"
   },
   {
    "duration": 21,
    "start_time": "2023-08-28T20:03:51.660Z"
   },
   {
    "duration": 26,
    "start_time": "2023-08-28T20:03:51.683Z"
   },
   {
    "duration": 17,
    "start_time": "2023-08-28T20:03:51.711Z"
   },
   {
    "duration": 21,
    "start_time": "2023-08-28T20:03:51.730Z"
   },
   {
    "duration": 17,
    "start_time": "2023-08-28T20:03:51.753Z"
   },
   {
    "duration": 99532,
    "start_time": "2023-08-28T20:03:51.771Z"
   },
   {
    "duration": 131,
    "start_time": "2023-08-28T20:05:31.305Z"
   },
   {
    "duration": 12,
    "start_time": "2023-08-28T20:05:31.437Z"
   },
   {
    "duration": 42,
    "start_time": "2023-08-28T20:05:31.451Z"
   },
   {
    "duration": 283116,
    "start_time": "2023-08-28T20:05:31.495Z"
   },
   {
    "duration": 200,
    "start_time": "2023-08-28T20:10:14.613Z"
   },
   {
    "duration": 145,
    "start_time": "2023-08-28T20:16:33.190Z"
   },
   {
    "duration": 4,
    "start_time": "2023-08-28T20:24:04.825Z"
   },
   {
    "duration": 4,
    "start_time": "2023-08-28T20:24:16.827Z"
   },
   {
    "duration": 1355,
    "start_time": "2023-08-28T20:33:08.223Z"
   },
   {
    "duration": 57,
    "start_time": "2023-08-28T20:33:09.580Z"
   },
   {
    "duration": 13,
    "start_time": "2023-08-28T20:33:09.638Z"
   },
   {
    "duration": 7,
    "start_time": "2023-08-28T20:33:09.653Z"
   },
   {
    "duration": 6,
    "start_time": "2023-08-28T20:33:09.661Z"
   },
   {
    "duration": 7,
    "start_time": "2023-08-28T20:33:09.668Z"
   },
   {
    "duration": 17,
    "start_time": "2023-08-28T20:33:09.677Z"
   },
   {
    "duration": 26,
    "start_time": "2023-08-28T20:33:09.695Z"
   },
   {
    "duration": 12,
    "start_time": "2023-08-28T20:33:09.723Z"
   },
   {
    "duration": 32,
    "start_time": "2023-08-28T20:33:09.737Z"
   },
   {
    "duration": 4,
    "start_time": "2023-08-28T20:33:09.771Z"
   },
   {
    "duration": 67,
    "start_time": "2023-08-28T20:33:09.777Z"
   },
   {
    "duration": 12,
    "start_time": "2023-08-28T20:33:09.846Z"
   },
   {
    "duration": 31,
    "start_time": "2023-08-28T20:33:09.860Z"
   },
   {
    "duration": 6,
    "start_time": "2023-08-28T20:33:09.892Z"
   },
   {
    "duration": 22,
    "start_time": "2023-08-28T20:33:09.900Z"
   },
   {
    "duration": 34,
    "start_time": "2023-08-28T20:33:09.925Z"
   },
   {
    "duration": 11,
    "start_time": "2023-08-28T20:33:09.961Z"
   },
   {
    "duration": 19,
    "start_time": "2023-08-28T20:33:09.973Z"
   },
   {
    "duration": 29,
    "start_time": "2023-08-28T20:33:09.994Z"
   },
   {
    "duration": 96875,
    "start_time": "2023-08-28T20:33:10.025Z"
   },
   {
    "duration": 131,
    "start_time": "2023-08-28T20:34:46.902Z"
   },
   {
    "duration": 13,
    "start_time": "2023-08-28T20:34:47.035Z"
   },
   {
    "duration": 25,
    "start_time": "2023-08-28T20:34:47.050Z"
   },
   {
    "duration": 278049,
    "start_time": "2023-08-28T20:34:47.077Z"
   },
   {
    "duration": 524,
    "start_time": "2023-08-28T20:39:25.128Z"
   },
   {
    "duration": 15,
    "start_time": "2023-08-28T20:39:25.653Z"
   },
   {
    "duration": 41,
    "start_time": "2023-10-28T11:54:35.369Z"
   },
   {
    "duration": 1434,
    "start_time": "2023-10-28T11:55:09.632Z"
   },
   {
    "duration": 93,
    "start_time": "2023-10-28T11:55:11.068Z"
   },
   {
    "duration": 11,
    "start_time": "2023-10-28T11:55:11.163Z"
   },
   {
    "duration": 6,
    "start_time": "2023-10-28T11:55:11.175Z"
   },
   {
    "duration": 5,
    "start_time": "2023-10-28T11:55:11.183Z"
   },
   {
    "duration": 10,
    "start_time": "2023-10-28T11:55:11.190Z"
   },
   {
    "duration": 18,
    "start_time": "2023-10-28T11:55:11.202Z"
   },
   {
    "duration": 11,
    "start_time": "2023-10-28T11:55:11.240Z"
   },
   {
    "duration": 13,
    "start_time": "2023-10-28T11:55:11.253Z"
   },
   {
    "duration": 6,
    "start_time": "2023-10-28T11:55:11.268Z"
   },
   {
    "duration": 35,
    "start_time": "2023-10-28T11:55:11.275Z"
   },
   {
    "duration": 31,
    "start_time": "2023-10-28T11:55:11.312Z"
   },
   {
    "duration": 14,
    "start_time": "2023-10-28T11:55:11.345Z"
   },
   {
    "duration": 3,
    "start_time": "2023-10-28T11:55:11.362Z"
   },
   {
    "duration": 6,
    "start_time": "2023-10-28T11:55:11.366Z"
   },
   {
    "duration": 8,
    "start_time": "2023-10-28T11:55:11.373Z"
   },
   {
    "duration": 9,
    "start_time": "2023-10-28T11:55:11.382Z"
   },
   {
    "duration": 10,
    "start_time": "2023-10-28T11:55:11.393Z"
   },
   {
    "duration": 94652,
    "start_time": "2023-10-28T11:55:11.404Z"
   },
   {
    "duration": 112,
    "start_time": "2023-10-28T11:56:46.057Z"
   },
   {
    "duration": 11,
    "start_time": "2023-10-28T11:56:46.171Z"
   },
   {
    "duration": 11,
    "start_time": "2023-10-28T11:56:46.183Z"
   },
   {
    "duration": 283221,
    "start_time": "2023-10-28T11:56:46.195Z"
   },
   {
    "duration": 539,
    "start_time": "2023-10-28T12:01:29.417Z"
   },
   {
    "duration": 6,
    "start_time": "2023-10-28T12:01:29.957Z"
   }
  ],
  "kernelspec": {
   "display_name": "Python 3 (ipykernel)",
   "language": "python",
   "name": "python3"
  },
  "language_info": {
   "codemirror_mode": {
    "name": "ipython",
    "version": 3
   },
   "file_extension": ".py",
   "mimetype": "text/x-python",
   "name": "python",
   "nbconvert_exporter": "python",
   "pygments_lexer": "ipython3",
   "version": "3.9.5"
  },
  "toc": {
   "base_numbering": 1,
   "nav_menu": {},
   "number_sections": true,
   "sideBar": true,
   "skip_h1_title": true,
   "title_cell": "Содержание",
   "title_sidebar": "Contents",
   "toc_cell": true,
   "toc_position": {},
   "toc_section_display": true,
   "toc_window_display": false
  }
 },
 "nbformat": 4,
 "nbformat_minor": 2
}
